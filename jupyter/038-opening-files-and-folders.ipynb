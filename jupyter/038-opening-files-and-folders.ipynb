{
 "cells": [
  {
   "cell_type": "code",
   "execution_count": 1,
   "id": "18521b76-15d1-468a-9cea-892b34e3e516",
   "metadata": {},
   "outputs": [
    {
     "data": {
      "text/plain": [
       "'/Users/rakshita/dev/rakshita/python-udemy/jupyter'"
      ]
     },
     "execution_count": 1,
     "metadata": {},
     "output_type": "execute_result"
    }
   ],
   "source": [
    "pwd"
   ]
  },
  {
   "cell_type": "code",
   "execution_count": 2,
   "id": "082f5de2-2e8c-4449-84b8-a014a6cc468e",
   "metadata": {},
   "outputs": [
    {
     "data": {
      "text/plain": [
       "21"
      ]
     },
     "execution_count": 2,
     "metadata": {},
     "output_type": "execute_result"
    }
   ],
   "source": [
    "f = open('practice_file.txt', 'w+')\n",
    "\n",
    "f.write('This is a text string')"
   ]
  },
  {
   "cell_type": "code",
   "execution_count": 3,
   "id": "ed30742a-c283-4d9d-a79a-2119a23832c1",
   "metadata": {},
   "outputs": [
    {
     "data": {
      "text/plain": [
       "'This is a text string'"
      ]
     },
     "execution_count": 3,
     "metadata": {},
     "output_type": "execute_result"
    }
   ],
   "source": [
    "f.seek(0)\n",
    "f.readline()"
   ]
  },
  {
   "cell_type": "code",
   "execution_count": 4,
   "id": "9a4d9739-b4de-4033-8251-db683f792402",
   "metadata": {},
   "outputs": [],
   "source": [
    "f.close()"
   ]
  },
  {
   "cell_type": "code",
   "execution_count": 5,
   "id": "852acced-a29d-4037-ac07-681891fc676c",
   "metadata": {},
   "outputs": [
    {
     "data": {
      "text/plain": [
       "'/Users/rakshita/dev/rakshita/python-udemy/jupyter'"
      ]
     },
     "execution_count": 5,
     "metadata": {},
     "output_type": "execute_result"
    }
   ],
   "source": [
    "import os\n",
    "os.getcwd()"
   ]
  },
  {
   "cell_type": "code",
   "execution_count": 7,
   "id": "0e682da4-7273-41e1-939c-6d737c1f4856",
   "metadata": {},
   "outputs": [
    {
     "data": {
      "text/plain": [
       "['031-blackjack-card-game.ipynb',\n",
       " '022-classes.ipynb',\n",
       " '021B-tic-tac-toe-clear.ipynb',\n",
       " '008-files.ipynb',\n",
       " '026-OOP Challenge.ipynb',\n",
       " '007-boolean.ipynb',\n",
       " '006-sets.ipynb',\n",
       " '003-string-formatting.ipynb',\n",
       " '018-lambda-expressions.ipynb',\n",
       " '029-Errors and Exceptions Homework.ipynb',\n",
       " '037-collections-module.ipynb',\n",
       " 'practice_file.txt',\n",
       " '028-error-handling.ipynb',\n",
       " '038-opening-files-and-folders.ipynb',\n",
       " '033-decorators.ipynb',\n",
       " '023-oop-concepts.ipynb',\n",
       " '010-comparators.ipynb',\n",
       " '020-Functions and Methods Homework.ipynb',\n",
       " '021A-tic-tac-toe-messy.ipynb',\n",
       " '035-generators.ipynb',\n",
       " '034-Decorators Homework.ipynb',\n",
       " '027-oop-challenge-solution-bank-account.ipynb',\n",
       " '013-Statements Assessment Test.ipynb',\n",
       " '032-blackjack-card-game-better.ipynb',\n",
       " '002-variables.ipynb',\n",
       " '024-special-or-magic-methods.ipynb',\n",
       " '017-maps.ipynb',\n",
       " '036-Iterators and Generators Homework.ipynb',\n",
       " '016-args-kwargs.ipynb',\n",
       " '009-Objects and Data Structures Assessment Test.ipynb',\n",
       " '005-dictionaries.ipynb',\n",
       " 'myfile.txt',\n",
       " '.ipynb_checkpoints',\n",
       " '014-methods-functions.ipynb',\n",
       " '001-arithmetic-operations.ipynb',\n",
       " '030-war-card-game.ipynb',\n",
       " '011-conditional-blocks.ipynb',\n",
       " '015-Function Practice Exercises.ipynb',\n",
       " '012-built-in-libraries.ipynb',\n",
       " '025-Object Oriented Programming Homework.ipynb',\n",
       " '004-lists.ipynb',\n",
       " '019-scope.ipynb']"
      ]
     },
     "execution_count": 7,
     "metadata": {},
     "output_type": "execute_result"
    }
   ],
   "source": [
    "os.listdir()"
   ]
  },
  {
   "cell_type": "code",
   "execution_count": 10,
   "id": "ba775f5f-ab49-4918-830a-4c1b1e90ab80",
   "metadata": {},
   "outputs": [
    {
     "data": {
      "text/plain": [
       "['.DS_Store', 'sublime-text', 'README.md', '.git', 'jupyter']"
      ]
     },
     "execution_count": 10,
     "metadata": {},
     "output_type": "execute_result"
    }
   ],
   "source": [
    "os.listdir('/Users/rakshita/dev/rakshita/python-udemy')"
   ]
  },
  {
   "cell_type": "code",
   "execution_count": 11,
   "id": "d5860fc6-725d-4908-861a-8fd133922c2b",
   "metadata": {},
   "outputs": [
    {
     "data": {
      "text/plain": [
       "['ruby-beginner',\n",
       " 'bphc-dbs-lab',\n",
       " 'bphc-dbms-project',\n",
       " 'bphc-oops',\n",
       " 'bphc-hci',\n",
       " '.DS_Store',\n",
       " 'html-portfolio',\n",
       " 'oops-project-1',\n",
       " 'python-udemy',\n",
       " 'ignite25-prep',\n",
       " 'bphc-dsa',\n",
       " 'gcp-api-culturevo',\n",
       " 'java-beginner',\n",
       " 'bphc-LiCS',\n",
       " 'html-resume',\n",
       " 'ci-cd-demo-culturevo',\n",
       " 'GPU-workshop',\n",
       " 'web-dev-beginner',\n",
       " 'c-beginner',\n",
       " 'python-beginner',\n",
       " 'oops-project',\n",
       " '.ipynb_checkpoints',\n",
       " 'bphc-DiSCo']"
      ]
     },
     "execution_count": 11,
     "metadata": {},
     "output_type": "execute_result"
    }
   ],
   "source": [
    "os.listdir('/Users/rakshita/dev/rakshita')"
   ]
  },
  {
   "cell_type": "code",
   "execution_count": 12,
   "id": "6e646cfd-be33-4791-947f-6530b8635bc8",
   "metadata": {},
   "outputs": [
    {
     "data": {
      "text/plain": [
       "['.DS_Store', 'rakshita', 'oss']"
      ]
     },
     "execution_count": 12,
     "metadata": {},
     "output_type": "execute_result"
    }
   ],
   "source": [
    "os.listdir('/Users/rakshita/dev')"
   ]
  },
  {
   "cell_type": "code",
   "execution_count": 13,
   "id": "387b84ef-9cfa-4008-8498-0115e7993468",
   "metadata": {},
   "outputs": [
    {
     "data": {
      "text/plain": [
       "['.config',\n",
       " 'personal',\n",
       " 'Music',\n",
       " '.bin',\n",
       " '.condarc',\n",
       " '.gemrc',\n",
       " '.envrc',\n",
       " '.rspec',\n",
       " '.bitwarden-ssh-agent.sock',\n",
       " '.iex.exs',\n",
       " '.vim',\n",
       " '.DS_Store',\n",
       " 'Brewfile.lock.json',\n",
       " 'get-pip.py',\n",
       " '.CFUserTextEncoding',\n",
       " '.angular-config.json',\n",
       " '.xonshrc',\n",
       " '.shellcheckrc',\n",
       " '.vscodium-insiders',\n",
       " '.bashrc',\n",
       " '.curlrc',\n",
       " '.zshrc',\n",
       " '.arduinoIDE',\n",
       " '.local',\n",
       " '.irbrc',\n",
       " 'Pictures',\n",
       " '.zshrc.backup',\n",
       " '.default-gems',\n",
       " '.tool-versions',\n",
       " '.mailrc',\n",
       " '.boto',\n",
       " '.rufo',\n",
       " '.zsh_history',\n",
       " '.ipython',\n",
       " 'Desktop',\n",
       " 'Library',\n",
       " '.npmrc',\n",
       " '.jshintrc',\n",
       " '.gitconfig-rakshita.inc',\n",
       " '.lesshst',\n",
       " '.rvmrc',\n",
       " 'BOOKS',\n",
       " \".zcompdump-IND-CHN-Rakshita's MBP-Fri Dec 27 07:15:56 IST 2024-5.9\",\n",
       " '.ripgreprc',\n",
       " \".zcompdump-IND-CHN-Rakshita's MBP-Thu Oct 31 10:10:23 IST 2024-5.9\",\n",
       " '.editorconfig',\n",
       " '.dotfiles',\n",
       " '.ctsystem',\n",
       " '.railsrc',\n",
       " '.gitignore_global',\n",
       " '.kdiff3rc',\n",
       " '.p10k.zsh',\n",
       " '.zshrc.zwc',\n",
       " 'Public',\n",
       " '.gitignore',\n",
       " '.ansible.cfg',\n",
       " '.zshenv',\n",
       " '.idlerc',\n",
       " '.tcshrc',\n",
       " '.cshrc',\n",
       " \".zcompdump-IND-CHN-Rakshita's MBP-Wed Dec 18 23:12:16 IST 2024-5.9\",\n",
       " '.anaconda',\n",
       " '.erdconfig',\n",
       " '.gitattributes',\n",
       " '.sonarlint',\n",
       " '.ssh',\n",
       " 'Movies',\n",
       " '.vimrc',\n",
       " 'Applications',\n",
       " '.profile',\n",
       " '.eslintrc.js',\n",
       " '.Trash',\n",
       " 'dev',\n",
       " '.codetogether',\n",
       " '.tldrc',\n",
       " '.zshrc.zwc.old',\n",
       " '.pryrc',\n",
       " '.jupyter',\n",
       " '.zcompdump',\n",
       " 'Brewfile',\n",
       " '.sqliterc',\n",
       " '.shellrc.zwc',\n",
       " '.npm',\n",
       " 'Documents',\n",
       " '.notify-osd',\n",
       " 'myenv',\n",
       " '.mysql_history',\n",
       " '.git',\n",
       " '.aliases.zwc',\n",
       " '.p10k.zsh.zwc',\n",
       " '.vscode',\n",
       " '.appium',\n",
       " '.bash_profile',\n",
       " '.gk',\n",
       " '.oh-my-zsh',\n",
       " '.psqlrc',\n",
       " 'Downloads',\n",
       " '.gitconfig-oss.inc',\n",
       " '.python_history',\n",
       " 'tmp',\n",
       " '.continuum',\n",
       " '.cache',\n",
       " '.inputrc',\n",
       " '.zlogin.zwc',\n",
       " '.gitconfig',\n",
       " '.shellrc',\n",
       " '.ollama',\n",
       " '.viminfo',\n",
       " '.zsh_sessions',\n",
       " '.aliases',\n",
       " '.zlogin',\n",
       " \".zcompdump-IND-CHN-Rakshita's MBP-Fri Dec 27 07:15:56 IST 2024-5.9.zwc\",\n",
       " '.conda',\n",
       " '.zshenv.zwc']"
      ]
     },
     "execution_count": 13,
     "metadata": {},
     "output_type": "execute_result"
    }
   ],
   "source": [
    "os.listdir('/Users/rakshita')"
   ]
  },
  {
   "cell_type": "code",
   "execution_count": 14,
   "id": "65e80516-c27f-4561-9273-993d59ac0ba1",
   "metadata": {},
   "outputs": [
    {
     "data": {
      "text/plain": [
       "['.localized', 'rakshita', 'Shared']"
      ]
     },
     "execution_count": 14,
     "metadata": {},
     "output_type": "execute_result"
    }
   ],
   "source": [
    "os.listdir('/Users')"
   ]
  },
  {
   "cell_type": "code",
   "execution_count": 15,
   "id": "8e17ca04-ce60-4b04-b310-de09b8079d4a",
   "metadata": {},
   "outputs": [],
   "source": [
    "import shutil"
   ]
  },
  {
   "cell_type": "code",
   "execution_count": 17,
   "id": "06807e8d-4a3a-4a9b-80c9-50426f274abb",
   "metadata": {},
   "outputs": [
    {
     "data": {
      "text/plain": [
       "'/Users/rakshita/Downloads/Complete-Python-3-Bootcamp-master/12-Advanced Python Modules/practice_file.txt'"
      ]
     },
     "execution_count": 17,
     "metadata": {},
     "output_type": "execute_result"
    }
   ],
   "source": [
    "shutil.move('practice_file.txt', '/Users/rakshita/Downloads/Complete-Python-3-Bootcamp-master/12-Advanced Python Modules')"
   ]
  },
  {
   "cell_type": "code",
   "execution_count": 18,
   "id": "c57506e5-6cb9-4b7d-96ea-fe5ac4035038",
   "metadata": {},
   "outputs": [],
   "source": [
    "import send2trash"
   ]
  },
  {
   "cell_type": "code",
   "execution_count": 20,
   "id": "6d6d4df6-4e2b-4838-87c5-26e4e53c5f02",
   "metadata": {},
   "outputs": [
    {
     "data": {
      "text/plain": [
       "'/Users/rakshita/dev/rakshita/python-udemy/jupyter/practice_file.txt'"
      ]
     },
     "execution_count": 20,
     "metadata": {},
     "output_type": "execute_result"
    }
   ],
   "source": [
    "shutil.move('/Users/rakshita/Downloads/Complete-Python-3-Bootcamp-master/12-Advanced Python Modules/practice_file.txt', '/Users/rakshita/dev/rakshita/python-udemy/jupyter')"
   ]
  },
  {
   "cell_type": "code",
   "execution_count": 22,
   "id": "881aff4d-bd46-47c2-9045-cd9647b58735",
   "metadata": {},
   "outputs": [
    {
     "data": {
      "text/plain": [
       "['031-blackjack-card-game.ipynb',\n",
       " '022-classes.ipynb',\n",
       " '021B-tic-tac-toe-clear.ipynb',\n",
       " '008-files.ipynb',\n",
       " '026-OOP Challenge.ipynb',\n",
       " '007-boolean.ipynb',\n",
       " '006-sets.ipynb',\n",
       " '003-string-formatting.ipynb',\n",
       " '018-lambda-expressions.ipynb',\n",
       " '029-Errors and Exceptions Homework.ipynb',\n",
       " '037-collections-module.ipynb',\n",
       " 'practice_file.txt',\n",
       " '028-error-handling.ipynb',\n",
       " '038-opening-files-and-folders.ipynb',\n",
       " '033-decorators.ipynb',\n",
       " '023-oop-concepts.ipynb',\n",
       " '010-comparators.ipynb',\n",
       " '020-Functions and Methods Homework.ipynb',\n",
       " '021A-tic-tac-toe-messy.ipynb',\n",
       " '035-generators.ipynb',\n",
       " '034-Decorators Homework.ipynb',\n",
       " '027-oop-challenge-solution-bank-account.ipynb',\n",
       " '013-Statements Assessment Test.ipynb',\n",
       " '032-blackjack-card-game-better.ipynb',\n",
       " '002-variables.ipynb',\n",
       " '024-special-or-magic-methods.ipynb',\n",
       " '017-maps.ipynb',\n",
       " '036-Iterators and Generators Homework.ipynb',\n",
       " '016-args-kwargs.ipynb',\n",
       " '009-Objects and Data Structures Assessment Test.ipynb',\n",
       " '005-dictionaries.ipynb',\n",
       " 'myfile.txt',\n",
       " '.ipynb_checkpoints',\n",
       " '014-methods-functions.ipynb',\n",
       " '001-arithmetic-operations.ipynb',\n",
       " '030-war-card-game.ipynb',\n",
       " '011-conditional-blocks.ipynb',\n",
       " '015-Function Practice Exercises.ipynb',\n",
       " '012-built-in-libraries.ipynb',\n",
       " '025-Object Oriented Programming Homework.ipynb',\n",
       " '004-lists.ipynb',\n",
       " '019-scope.ipynb']"
      ]
     },
     "execution_count": 22,
     "metadata": {},
     "output_type": "execute_result"
    }
   ],
   "source": [
    "os.listdir()"
   ]
  },
  {
   "cell_type": "code",
   "execution_count": 24,
   "id": "822f123c-a1d7-4347-b8e0-80058eafd245",
   "metadata": {},
   "outputs": [],
   "source": [
    "send2trash.send2trash('/Users/rakshita/dev/rakshita/python-udemy/jupyter/practice_file.txt')"
   ]
  },
  {
   "cell_type": "code",
   "execution_count": 25,
   "id": "61fb9aef-ea9b-4ad8-baec-98f1895a18cf",
   "metadata": {},
   "outputs": [
    {
     "data": {
      "text/plain": [
       "['031-blackjack-card-game.ipynb',\n",
       " '022-classes.ipynb',\n",
       " '021B-tic-tac-toe-clear.ipynb',\n",
       " '008-files.ipynb',\n",
       " '026-OOP Challenge.ipynb',\n",
       " '007-boolean.ipynb',\n",
       " '006-sets.ipynb',\n",
       " '003-string-formatting.ipynb',\n",
       " '018-lambda-expressions.ipynb',\n",
       " '029-Errors and Exceptions Homework.ipynb',\n",
       " '037-collections-module.ipynb',\n",
       " '028-error-handling.ipynb',\n",
       " '038-opening-files-and-folders.ipynb',\n",
       " '033-decorators.ipynb',\n",
       " '023-oop-concepts.ipynb',\n",
       " '010-comparators.ipynb',\n",
       " '020-Functions and Methods Homework.ipynb',\n",
       " '021A-tic-tac-toe-messy.ipynb',\n",
       " '035-generators.ipynb',\n",
       " '034-Decorators Homework.ipynb',\n",
       " '027-oop-challenge-solution-bank-account.ipynb',\n",
       " '013-Statements Assessment Test.ipynb',\n",
       " '032-blackjack-card-game-better.ipynb',\n",
       " '002-variables.ipynb',\n",
       " '024-special-or-magic-methods.ipynb',\n",
       " '017-maps.ipynb',\n",
       " '036-Iterators and Generators Homework.ipynb',\n",
       " '016-args-kwargs.ipynb',\n",
       " '009-Objects and Data Structures Assessment Test.ipynb',\n",
       " '005-dictionaries.ipynb',\n",
       " 'myfile.txt',\n",
       " '.ipynb_checkpoints',\n",
       " '014-methods-functions.ipynb',\n",
       " '001-arithmetic-operations.ipynb',\n",
       " '030-war-card-game.ipynb',\n",
       " '011-conditional-blocks.ipynb',\n",
       " '015-Function Practice Exercises.ipynb',\n",
       " '012-built-in-libraries.ipynb',\n",
       " '025-Object Oriented Programming Homework.ipynb',\n",
       " '004-lists.ipynb',\n",
       " '019-scope.ipynb']"
      ]
     },
     "execution_count": 25,
     "metadata": {},
     "output_type": "execute_result"
    }
   ],
   "source": [
    "os.listdir()"
   ]
  },
  {
   "cell_type": "code",
   "execution_count": null,
   "id": "3749e808-d943-471a-aafd-3032f92d34bb",
   "metadata": {},
   "outputs": [],
   "source": []
  }
 ],
 "metadata": {
  "kernelspec": {
   "display_name": "Python 3 (ipykernel)",
   "language": "python",
   "name": "python3"
  },
  "language_info": {
   "codemirror_mode": {
    "name": "ipython",
    "version": 3
   },
   "file_extension": ".py",
   "mimetype": "text/x-python",
   "name": "python",
   "nbconvert_exporter": "python",
   "pygments_lexer": "ipython3",
   "version": "3.12.7"
  }
 },
 "nbformat": 4,
 "nbformat_minor": 5
}
