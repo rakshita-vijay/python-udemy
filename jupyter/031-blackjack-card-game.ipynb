{
 "cells": [
  {
   "cell_type": "code",
   "execution_count": 1,
   "id": "b81b6981-bfe2-4493-b8f3-b970b55e5d25",
   "metadata": {},
   "outputs": [],
   "source": [
    "import random\n",
    "suits = (\"Diamonds\", \"Hearts\", \"Spades\", \"Clubs\")\n",
    "ranks = ('2', '3', '4', '5', '6', '7', '8', '9', '10', \"Jack\", \"Queen\", \"King\", \"Ace\")\n",
    "values = {'2': 2, '3': 3, '4': 4, '5': 5, '6': 6, '7': 7, '8': 8, '9': 9, '10': 10, 'Jack': 10, 'Queen': 10, 'King': 10, 'Ace': 11}"
   ]
  },
  {
   "cell_type": "code",
   "execution_count": 74,
   "id": "749b259c-ec60-4245-9479-b1a21c9e7780",
   "metadata": {},
   "outputs": [
    {
     "name": "stdin",
     "output_type": "stream",
     "text": [
      "Enter dealer's name:  choco\n"
     ]
    },
    {
     "name": "stdout",
     "output_type": "stream",
     "text": [
      "\n"
     ]
    },
    {
     "name": "stdin",
     "output_type": "stream",
     "text": [
      "Enter minimum bet at the table:  500\n"
     ]
    },
    {
     "name": "stdout",
     "output_type": "stream",
     "text": [
      "\n"
     ]
    },
    {
     "name": "stdin",
     "output_type": "stream",
     "text": [
      "Enter player's name:  po\n"
     ]
    },
    {
     "name": "stdout",
     "output_type": "stream",
     "text": [
      "\n"
     ]
    },
    {
     "name": "stdin",
     "output_type": "stream",
     "text": [
      "Enter amount to deposit:  50000\n"
     ]
    },
    {
     "name": "stdout",
     "output_type": "stream",
     "text": [
      "\n",
      "Player po has 50000 in his account\n",
      "Table's dealer: choco\n",
      "\n"
     ]
    },
    {
     "name": "stdin",
     "output_type": "stream",
     "text": [
      "Enter bet to place:  500\n"
     ]
    },
    {
     "name": "stdout",
     "output_type": "stream",
     "text": [
      "\n",
      "You have bet $500. Balance: 49500\n",
      "1st card: 4 of Clubs with value: 4\n",
      "2nd card: 5 of Spades with value: 5\n",
      "Total value: 9\n",
      "\n"
     ]
    },
    {
     "name": "stdin",
     "output_type": "stream",
     "text": [
      "Do you want to hit (receive another card) or stay (stop receiving cards)? Enter h or s:  h\n"
     ]
    },
    {
     "name": "stdout",
     "output_type": "stream",
     "text": [
      "Hit card: King of Spades with value: 10\n",
      "Value after hit card: 19\n",
      "\n"
     ]
    },
    {
     "name": "stdin",
     "output_type": "stream",
     "text": [
      "Do you want to hit (receive another card) or stay (stop receiving cards)? Enter h or s:  s\n"
     ]
    },
    {
     "name": "stdout",
     "output_type": "stream",
     "text": [
      "\n",
      "Dealer choco's chance now:\n",
      "Up card: Jack of Clubs with value: 10\n",
      "Total value: 20\n",
      "Dealer choco won!\n",
      "\n",
      "Player po has 49500 in his account\n"
     ]
    },
    {
     "name": "stdin",
     "output_type": "stream",
     "text": [
      "Do you want to continue playing? Enter yes (y) or no (n):  y\n"
     ]
    },
    {
     "name": "stdout",
     "output_type": "stream",
     "text": [
      "\n"
     ]
    },
    {
     "name": "stdin",
     "output_type": "stream",
     "text": [
      "Enter bet to place:  500\n"
     ]
    },
    {
     "name": "stdout",
     "output_type": "stream",
     "text": [
      "\n",
      "You have bet $500. Balance: 49000\n",
      "1st card: 3 of Diamonds with value: 3\n",
      "2nd card: 2 of Diamonds with value: 2\n",
      "Total value: 5\n",
      "\n"
     ]
    },
    {
     "name": "stdin",
     "output_type": "stream",
     "text": [
      "Do you want to hit (receive another card) or stay (stop receiving cards)? Enter h or s:  h\n"
     ]
    },
    {
     "name": "stdout",
     "output_type": "stream",
     "text": [
      "Hit card: Queen of Hearts with value: 10\n",
      "Value after hit card: 15\n",
      "\n"
     ]
    },
    {
     "name": "stdin",
     "output_type": "stream",
     "text": [
      "Do you want to hit (receive another card) or stay (stop receiving cards)? Enter h or s:  h\n"
     ]
    },
    {
     "name": "stdout",
     "output_type": "stream",
     "text": [
      "Hit card: 6 of Diamonds with value: 6\n",
      "Value after hit card: 21\n",
      "Player po won!\n",
      "\n",
      "Player po has 49500 in his account\n"
     ]
    },
    {
     "name": "stdin",
     "output_type": "stream",
     "text": [
      "Do you want to continue playing? Enter yes (y) or no (n):  y\n"
     ]
    },
    {
     "name": "stdout",
     "output_type": "stream",
     "text": [
      "\n"
     ]
    },
    {
     "name": "stdin",
     "output_type": "stream",
     "text": [
      "Enter bet to place:  500\n"
     ]
    },
    {
     "name": "stdout",
     "output_type": "stream",
     "text": [
      "\n",
      "You have bet $500. Balance: 49000\n",
      "1st card: 8 of Clubs with value: 8\n",
      "2nd card: 8 of Diamonds with value: 8\n",
      "Total value: 16\n",
      "\n"
     ]
    },
    {
     "name": "stdin",
     "output_type": "stream",
     "text": [
      "Do you want to hit (receive another card) or stay (stop receiving cards)? Enter h or s:  h\n"
     ]
    },
    {
     "name": "stdout",
     "output_type": "stream",
     "text": [
      "Hit card: 9 of Spades with value: 9\n",
      "Value after hit card: 25\n",
      "Player po busts!\n",
      "\n",
      "Player po has 49000 in his account\n"
     ]
    },
    {
     "name": "stdin",
     "output_type": "stream",
     "text": [
      "Do you want to continue playing? Enter yes (y) or no (n):  y\n"
     ]
    },
    {
     "name": "stdout",
     "output_type": "stream",
     "text": [
      "\n"
     ]
    },
    {
     "name": "stdin",
     "output_type": "stream",
     "text": [
      "Enter bet to place:  500\n"
     ]
    },
    {
     "name": "stdout",
     "output_type": "stream",
     "text": [
      "\n",
      "You have bet $500. Balance: 48500\n",
      "1st card: 5 of Clubs with value: 5\n",
      "2nd card: 10 of Clubs with value: 10\n",
      "Total value: 15\n",
      "\n"
     ]
    },
    {
     "name": "stdin",
     "output_type": "stream",
     "text": [
      "Do you want to hit (receive another card) or stay (stop receiving cards)? Enter h or s:  h\n"
     ]
    },
    {
     "name": "stdout",
     "output_type": "stream",
     "text": [
      "Hit card: 6 of Clubs with value: 6\n",
      "Value after hit card: 21\n",
      "Player po won!\n",
      "\n",
      "Player po has 49000 in his account\n"
     ]
    },
    {
     "name": "stdin",
     "output_type": "stream",
     "text": [
      "Do you want to continue playing? Enter yes (y) or no (n):  y\n"
     ]
    },
    {
     "name": "stdout",
     "output_type": "stream",
     "text": [
      "\n"
     ]
    },
    {
     "name": "stdin",
     "output_type": "stream",
     "text": [
      "Enter bet to place:  500\n"
     ]
    },
    {
     "name": "stdout",
     "output_type": "stream",
     "text": [
      "\n",
      "You have bet $500. Balance: 48500\n",
      "1st card: 3 of Clubs with value: 3\n",
      "2nd card: 3 of Spades with value: 3\n",
      "Total value: 6\n",
      "\n"
     ]
    },
    {
     "name": "stdin",
     "output_type": "stream",
     "text": [
      "Do you want to hit (receive another card) or stay (stop receiving cards)? Enter h or s:  h\n"
     ]
    },
    {
     "name": "stdout",
     "output_type": "stream",
     "text": [
      "Hit card: 2 of Hearts with value: 2\n",
      "Value after hit card: 8\n",
      "\n"
     ]
    },
    {
     "name": "stdin",
     "output_type": "stream",
     "text": [
      "Do you want to hit (receive another card) or stay (stop receiving cards)? Enter h or s:  h\n"
     ]
    },
    {
     "name": "stdout",
     "output_type": "stream",
     "text": [
      "Hit card: 4 of Diamonds with value: 4\n",
      "Value after hit card: 12\n",
      "\n"
     ]
    },
    {
     "name": "stdin",
     "output_type": "stream",
     "text": [
      "Do you want to hit (receive another card) or stay (stop receiving cards)? Enter h or s:  h\n"
     ]
    },
    {
     "name": "stdout",
     "output_type": "stream",
     "text": [
      "Hit card: 7 of Clubs with value: 7\n",
      "Value after hit card: 19\n",
      "\n"
     ]
    },
    {
     "name": "stdin",
     "output_type": "stream",
     "text": [
      "Do you want to hit (receive another card) or stay (stop receiving cards)? Enter h or s:  s\n"
     ]
    },
    {
     "name": "stdout",
     "output_type": "stream",
     "text": [
      "\n",
      "Dealer choco's chance now:\n",
      "Up card: Queen of Diamonds with value: 10\n",
      "Total value: 20\n",
      "Dealer choco won!\n",
      "\n",
      "Player po has 48500 in his account\n"
     ]
    },
    {
     "name": "stdin",
     "output_type": "stream",
     "text": [
      "Do you want to continue playing? Enter yes (y) or no (n):  y\n"
     ]
    },
    {
     "name": "stdout",
     "output_type": "stream",
     "text": [
      "\n"
     ]
    },
    {
     "name": "stdin",
     "output_type": "stream",
     "text": [
      "Enter bet to place:  500\n"
     ]
    },
    {
     "name": "stdout",
     "output_type": "stream",
     "text": [
      "\n",
      "You have bet $500. Balance: 48000\n",
      "1st card: 7 of Hearts with value: 7\n",
      "2nd card: 9 of Hearts with value: 9\n",
      "Total value: 16\n",
      "\n"
     ]
    },
    {
     "name": "stdin",
     "output_type": "stream",
     "text": [
      "Do you want to hit (receive another card) or stay (stop receiving cards)? Enter h or s:  h\n"
     ]
    },
    {
     "name": "stdout",
     "output_type": "stream",
     "text": [
      "Hit card: 10 of Spades with value: 10\n",
      "Value after hit card: 26\n",
      "Player po busts!\n",
      "\n",
      "Player po has 48000 in his account\n"
     ]
    },
    {
     "name": "stdin",
     "output_type": "stream",
     "text": [
      "Do you want to continue playing? Enter yes (y) or no (n):  y\n"
     ]
    },
    {
     "name": "stdout",
     "output_type": "stream",
     "text": [
      "\n"
     ]
    },
    {
     "name": "stdin",
     "output_type": "stream",
     "text": [
      "Enter bet to place:  500\n"
     ]
    },
    {
     "name": "stdout",
     "output_type": "stream",
     "text": [
      "\n",
      "You have bet $500. Balance: 47500\n",
      "1st card: Queen of Clubs with value: 10\n",
      "2nd card: 9 of Clubs with value: 9\n",
      "Total value: 19\n",
      "\n"
     ]
    },
    {
     "name": "stdin",
     "output_type": "stream",
     "text": [
      "Do you want to hit (receive another card) or stay (stop receiving cards)? Enter h or s:  s\n"
     ]
    },
    {
     "name": "stdout",
     "output_type": "stream",
     "text": [
      "\n",
      "Dealer choco's chance now:\n",
      "Up card: 4 of Hearts with value: 4\n",
      "Total value: 15\n",
      "Dealer choco has dealt (for themself): Jack of Diamonds with value: 10\n",
      "Total Value: 25\n",
      "Dealer choco busts!\n",
      "\n",
      "Player po has 48000 in his account\n"
     ]
    },
    {
     "name": "stdin",
     "output_type": "stream",
     "text": [
      "Do you want to continue playing? Enter yes (y) or no (n):  n\n"
     ]
    },
    {
     "name": "stdout",
     "output_type": "stream",
     "text": [
      "\n"
     ]
    }
   ],
   "source": [
    "##### import random\n",
    "import sys\n",
    "\n",
    "suits = (\"Diamonds\", \"Hearts\", \"Spades\", \"Clubs\")\n",
    "ranks = ('2', '3', '4', '5', '6', '7', '8', '9', '10', \"Jack\", \"Queen\", \"King\", \"Ace\")\n",
    "values = {'2': 2, '3': 3, '4': 4, '5': 5, '6': 6, '7': 7, '8': 8, '9': 9, '10': 10, 'Jack': 10, 'Queen': 10, 'King': 10, 'Ace': 11}\n",
    "# valid_suits = (\"diamonds\", \"hearts\", \"spades\", \"clubs\")\n",
    "# valid_ranks = ('2', '3', '4', '5', '6', '7', '8', '9', '10', \"jack\", \"queen\", \"king\", \"ace\")\n",
    "\n",
    "class Card():  \n",
    "    def __init__(self, rank, suit):    \n",
    "        self.suit = (suit.lower()).capitalize() \n",
    "        self.rank = ((str(rank)).lower()).capitalize() # number \n",
    "        \n",
    "        self.value = values[self.rank] \n",
    "\n",
    "    def __str__(self):\n",
    "        return f\"{self.rank} of {self.suit} with value: {self.value}\"\n",
    "        \n",
    "    def tipe(self):\n",
    "        l = []\n",
    "        l.append(self.rank)\n",
    "        l.append(self.suit) \n",
    "        l.append(self.value) \n",
    "        return tuple(l) \n",
    "\n",
    "class Deck():\n",
    "    def __init__(self): \n",
    "        self.fullDeck = []\n",
    "        for rank in ranks:\n",
    "            for suit in suits: \n",
    "                self.fullDeck.append(Card(rank, suit)) \n",
    "        self.shuffle()\n",
    "\n",
    "        self.dealtCards = [] \n",
    "\n",
    "    def display(self, ds = None):\n",
    "        if ds is None:\n",
    "            ds = self.fullDeck\n",
    "        for i in ds:\n",
    "            print(i)\n",
    "    \n",
    "    def shuffle(self): \n",
    "        random.shuffle(self.fullDeck) \n",
    "\n",
    "    def dealOneCard(self):\n",
    "        if len(self.fullDeck) == 0:\n",
    "            print(\"Deck exhausted. Reshuffling.\") \n",
    "            # self.__init__()  # Resets and fills the deck again \n",
    "            for rank in ranks:\n",
    "                for suit in suits: \n",
    "                    self.fullDeck.append(Card(rank, suit)) \n",
    "            self.shuffle()\n",
    "\n",
    "        item = self.fullDeck.pop()\n",
    "        self.dealtCards.append(item)\n",
    "        return self.dealtCards[-1] \n",
    "    \n",
    "    # def dealCards(self, num = 1):\n",
    "    #     if len(self.fullDeck) < num:\n",
    "    #         print(\"Deck exhausted. Reshuffling.\") \n",
    "    #         self.__init__()  # Resets and fills the deck again \n",
    "\n",
    "    #     s1 = []  \n",
    "    #     siz1 = num \n",
    "\n",
    "    #     while (siz1 > 0):\n",
    "    #         item = self.fullDeck.pop()\n",
    "    #         s1.append(item) \n",
    "    #         siz1 -= 1 \n",
    "\n",
    "    #     self.dealtCards = s1\n",
    "    #     return self.dealtCards\n",
    "\n",
    "class Dealer():\n",
    "    def __init__(self, name): \n",
    "        self.name = name \n",
    "        self.dealersDeck = Deck() \n",
    "        self.dealersDealtCards = []\n",
    "\n",
    "    def __str__(self):\n",
    "        return (f\"Table's dealer: {self.name}\")\n",
    "\n",
    "    def dealOneUpOneDown(self): \n",
    "        if len(self.dealersDeck.fullDeck) < 2:\n",
    "            print(\"Deck exhausted. Reshuffling.\") \n",
    "            self.dealersDeck = Deck()  # Resets and fills the deck again \n",
    "\n",
    "        lst = [] # [<up>, <down>]\n",
    "        totVal = 0\n",
    "\n",
    "        if len(self.dealersDeck.fullDeck) >= 2: \n",
    "            for _ in range(2):\n",
    "                lst.append(self.dealersDeck.dealOneCard())\n",
    "                totVal += lst[-1].value \n",
    "        print(f\"Up card: {str(lst[0])}\") \n",
    "        # print(f\"Down card: {str(lst[1])}\") \n",
    "        print(f\"Total value: {totVal}\") \n",
    "\n",
    "        self.dealersDealtCards.append(lst)\n",
    "        return lst, totVal\n",
    "\n",
    "class BankRoll():\n",
    "    def __init__(self, balance): \n",
    "        self.balance = balance \n",
    "    def deposit(self, amount):\n",
    "        self.balance += amount\n",
    "        return f\"${amount} deposited into account. Balance: ${self.balance}\"\n",
    "\n",
    "    def withdraw(self, amount):\n",
    "        if self.balance < amount:\n",
    "            return f\"Too less funds to withdraw - balance: ${self.balance}\"\n",
    "        else:\n",
    "            self.balance -= amount\n",
    "            return f\"${amount} withdrawn from account. Balance: ${self.balance}\"\n",
    "            \n",
    "    def canWithdraw(self, amount):\n",
    "        if self.balance < amount:\n",
    "            print(f\"Insufficient balance: ${self.balance}\")\n",
    "            return False\n",
    "        else: \n",
    "            return True\n",
    "\n",
    "class Player(BankRoll):\n",
    "    def __init__(self, name, balance): \n",
    "        BankRoll.__init__(self, balance)\n",
    "        self.name = name \n",
    "        self.bets = []\n",
    "        self.hand = []\n",
    "\n",
    "    def __str__(self):\n",
    "        return (f\"Player {self.name} has {self.balance} in his account\")\n",
    "\n",
    "    def display(self, ds = None):\n",
    "        if ds is None:\n",
    "            ds = self.hand\n",
    "        for i in ds:\n",
    "            print(i)\n",
    "\n",
    "    def addCard(self, cardsToAdd):  \n",
    "        if type(cardsToAdd) == list:\n",
    "            self.hand.extend(cardsToAdd) \n",
    "        elif (type(cardsToAdd) == type(Card('4', 'Diamonds'))):\n",
    "            self.hand.append(cardsToAdd) \n",
    "        return\n",
    "        # return self.display(self.hand)\n",
    "\n",
    "    def removeCard(self, num = 1):\n",
    "        removedCards = []\n",
    "        while (num > 0 and len(self.hand) > 0):\n",
    "            removedCards.append(self.hand.pop(0))\n",
    "            num -= 1 \n",
    "        if len(removedCards) == 1:\n",
    "            return removedCards[0]\n",
    "        else: \n",
    "            return removedCards\n",
    "\n",
    "    def dealTwoUp(self, deeler): \n",
    "        if len(deeler.dealersDeck.fullDeck) < 2:\n",
    "            print(\"Deck exhausted. Reshuffling.\") \n",
    "            deeler.dealersDeck = Deck()  # Resets and fills the deck again \n",
    "\n",
    "        lst = [] # [<up>, <up>]\n",
    "        totVal = 0\n",
    "        if len(deeler.dealersDeck.fullDeck) >= 2: \n",
    "            for _ in range(2):\n",
    "                lst.append(deeler.dealersDeck.dealOneCard())\n",
    "                totVal += lst[-1].value \n",
    "                \n",
    "        print(f\"1st card: {str(lst[0])}\") \n",
    "        print(f\"2nd card: {str(lst[1])}\")\n",
    "        print(f\"Total value: {totVal}\")\n",
    "        \n",
    "        if totVal >= 21: \n",
    "            self.hand.extend(lst) \n",
    "            return lst, totVal\n",
    "\n",
    "        listFromHitOrStay, valFromHitOrStay = self.hitOrStay(deeler, totVal)\n",
    "        lst.extend(listFromHitOrStay)\n",
    "        totVal += valFromHitOrStay\n",
    "\n",
    "        self.hand.extend(lst) \n",
    "        return lst, totVal\n",
    "\n",
    "    def placeBet(self, amt):\n",
    "        if self.canWithdraw(amt) == True:\n",
    "            self.withdraw(amt)\n",
    "            self.bets.append(amt)\n",
    "            print(f\"You have bet ${amt}. Balance: {self.balance}\")\n",
    "            return True\n",
    "        else: \n",
    "            print(f\"You cannot bet ${amt}\") \n",
    "            return False\n",
    "\n",
    "    def hitOrStay(self, deeler, currTotal):\n",
    "        cs = []\n",
    "        valFromHOrS = 0\n",
    " \n",
    "        while True:\n",
    "            if currTotal + valFromHOrS >= 21: \n",
    "                break\n",
    "            print()\n",
    "            hOrS = input(\"Do you want to hit (receive another card) or stay (stop receiving cards)? Enter h or s: \") \n",
    "\n",
    "            if hOrS.lower() == \"h\":\n",
    "                car = deeler.dealersDeck.dealOneCard()\n",
    "                cs.append(car)\n",
    "                valFromHOrS += car.value \n",
    "                \n",
    "                print(f\"Hit card: {str(car)}\") \n",
    "                print(f\"Value after hit card: {currTotal + valFromHOrS}\") \n",
    "            elif hOrS.lower() == \"s\":\n",
    "                print()\n",
    "                print(f\"Dealer {deeler.name}'s chance now:\")\n",
    "                break\n",
    "            else:\n",
    "                print(\"Invalid input.\") \n",
    "\n",
    "        return cs, valFromHOrS \n",
    "\n",
    "def game_of_blackjack():\n",
    "    name = input(\"Enter dealer's name: \")\n",
    "    deeler = Dealer(name) \n",
    "    # deeler.dealersDeck.shuffle() \n",
    "\n",
    "    print() \n",
    "    minBet = 0 \n",
    "    while True:\n",
    "        try:\n",
    "            minBet = int(input(\"Enter minimum bet at the table: \"))\n",
    "            if minBet < 500 or minBet > sys.maxsize:\n",
    "                print(f\"Please enter a number between 500 and {sys.maxsize}\")\n",
    "            else:\n",
    "                break\n",
    "        except ValueError:\n",
    "            print(\"Invalid input. Please enter a valid number:\")\n",
    "            \n",
    "    print()\n",
    "    name = input(\"Enter player's name: \")\n",
    "    \n",
    "    print()\n",
    "    amt = minBet - 1\n",
    "    while True:\n",
    "        try:\n",
    "            amt = int(input(\"Enter amount to deposit: \"))\n",
    "            if amt < minBet or amt > sys.maxsize:\n",
    "                print(f\"Please enter a number between {minBet} and {sys.maxsize}\")\n",
    "            else:\n",
    "                break\n",
    "        except ValueError:\n",
    "            print(\"Invalid input. Please enter a valid number:\")\n",
    "\n",
    "    print()\n",
    "    player = Player(name, amt) \n",
    "    \n",
    "    print(player)\n",
    "    print(deeler)\n",
    "    print()\n",
    "\n",
    "    while player.balance > 0: \n",
    "        betToPlace = 0\n",
    "        check = True\n",
    "        while check:\n",
    "            try:\n",
    "                betToPlace = int(input(\"Enter bet to place: \"))\n",
    "                if betToPlace < minBet or betToPlace > sys.maxsize:\n",
    "                    print(f\"Please enter a number between {minBet} and {sys.maxsize}\")\n",
    "                else:\n",
    "                    check = False\n",
    "                    break\n",
    "            except ValueError:\n",
    "                print(\"Invalid input. Please enter a valid number:\")\n",
    "                \n",
    "        print()\n",
    "        whoWon = 'n'\n",
    "        if player.placeBet(betToPlace) == True:\n",
    "            cardsPlayerDealt, valOfPlayerDealtCards = player.dealTwoUp(deeler)  \n",
    "            if valOfPlayerDealtCards == 21: \n",
    "                print(f\"Player {player.name} won!\") \n",
    "                player.balance += player.bets[-1]\n",
    "                whoWon = 'p'\n",
    "            elif valOfPlayerDealtCards > 21: \n",
    "                print(f\"Player {player.name} busts!\")\n",
    "                whoWon = 'n' \n",
    "            else:\n",
    "                cardsDealerDealt, valOfDealerDealtCards = deeler.dealOneUpOneDown()\n",
    "                if valOfDealerDealtCards > valOfPlayerDealtCards:\n",
    "                    print(f\"Dealer {deeler.name} won!\")\n",
    "                    whoWon = 'p'\n",
    "                else: \n",
    "                    while valOfDealerDealtCards <= valOfPlayerDealtCards or valOfDealerDealtCards < 17:\n",
    "                        cardsDealerDealt.append(deeler.dealersDeck.dealOneCard())\n",
    "                        valOfDealerDealtCards += cardsDealerDealt[-1].value\n",
    "                        \n",
    "                        print(f\"Dealer {deeler.name} has dealt (for themself): {cardsDealerDealt[-1]}\")\n",
    "                        print(f\"Total Value: {valOfDealerDealtCards}\")\n",
    "                        \n",
    "                        if valOfDealerDealtCards > 21:\n",
    "                            print(f\"Dealer {deeler.name} busts!\")\n",
    "                            player.balance += player.bets[-1]\n",
    "                            whoWon = 'p'\n",
    "                    if valOfDealerDealtCards <= 21 and valOfDealerDealtCards > valOfPlayerDealtCards:\n",
    "                        print(f\"Dealer {deeler.name} won!\") \n",
    "                        whoWon = 'p'\n",
    "                        \n",
    "            print()\n",
    "            print(player)\n",
    "            choiceToContinue = input(\"Do you want to continue playing? Enter yes (y) or no (n): \")\n",
    "            while choiceToContinue.lower() != 'y' and choiceToContinue.lower() != 'n':\n",
    "                choiceToContinue = input(\"Invalid choice. Do you want to continue playing? Enter yes (y) or no (n): \")\n",
    "            \n",
    "            print()\n",
    "            if choiceToContinue.lower() == 'y': \n",
    "                # print(player)\n",
    "                if player.balance == 0 or player.balance < minBet:\n",
    "                    choiceToDeposit = input(f\"Your current balance is {player.balance}. You have to deposit amount to continue playing. Do you want to? Enter yes (y) or no (n): \")\n",
    "                    while choiceToDeposit.lower() != 'y' and choiceToDeposit.lower() != 'n':\n",
    "                        choiceToDeposit = input(\"Invalid choice. Do you want to deposit amount to continue playing? Enter yes (y) or no (n): \")\n",
    "                   \n",
    "                    if choiceToDeposit == 'n':\n",
    "                        print(player)\n",
    "                        break\n",
    "                    else:\n",
    "                        amt = minBet - 1\n",
    "                        while True:\n",
    "                            try:\n",
    "                                amt = int(input(\"Enter amount to deposit: \"))\n",
    "                                if amt < minBet or amt > sys.maxsize:\n",
    "                                    print(f\"Please enter a number between {minBet} and {sys.maxsize}\")\n",
    "                                else:\n",
    "                                    break\n",
    "                            except ValueError:\n",
    "                                print(\"Invalid input. Please enter a valid number:\")\n",
    "                        player.deposit(amt)\n",
    "            else:\n",
    "                print(player)\n",
    "                break \n",
    "\n",
    "if __name__ == \"__main__\":\n",
    "    try:\n",
    "        game_of_blackjack() \n",
    "    except Exception as e:\n",
    "        print(\"Unexpected error: \", e) "
   ]
  },
  {
   "cell_type": "code",
   "execution_count": 41,
   "id": "e5f13619-a0d7-4f0d-8c4b-54b7857738f5",
   "metadata": {},
   "outputs": [],
   "source": []
  },
  {
   "cell_type": "code",
   "execution_count": 43,
   "id": "3c632a2f-46e1-4522-97ef-ed0490b1cfc7",
   "metadata": {},
   "outputs": [
    {
     "name": "stdin",
     "output_type": "stream",
     "text": [
      "Enter dealer's name:  d\n",
      "Enter minimum bet at the table:  100\n"
     ]
    },
    {
     "name": "stdout",
     "output_type": "stream",
     "text": [
      "Please enter a number between 500 and 9223372036854775807\n"
     ]
    },
    {
     "name": "stdin",
     "output_type": "stream",
     "text": [
      "Enter minimum bet at the table:  500\n",
      "Enter player's name:  po\n"
     ]
    },
    {
     "name": "stdout",
     "output_type": "stream",
     "text": [
      "Player po has 2 cards, and 500 in his account\n",
      "Table's dealer: d\n"
     ]
    },
    {
     "name": "stdin",
     "output_type": "stream",
     "text": [
      "Enter bet to place:  500\n"
     ]
    },
    {
     "name": "stdout",
     "output_type": "stream",
     "text": [
      "You have bet $500. \n",
      "Balance: 500\n"
     ]
    }
   ],
   "source": [
    "game_of_blackjack()"
   ]
  },
  {
   "cell_type": "code",
   "execution_count": null,
   "id": "dc3fa251-2527-41ad-8af0-33c19b92f9ae",
   "metadata": {},
   "outputs": [],
   "source": []
  }
 ],
 "metadata": {
  "kernelspec": {
   "display_name": "Python 3 (ipykernel)",
   "language": "python",
   "name": "python3"
  },
  "language_info": {
   "codemirror_mode": {
    "name": "ipython",
    "version": 3
   },
   "file_extension": ".py",
   "mimetype": "text/x-python",
   "name": "python",
   "nbconvert_exporter": "python",
   "pygments_lexer": "ipython3",
   "version": "3.12.7"
  }
 },
 "nbformat": 4,
 "nbformat_minor": 5
}
