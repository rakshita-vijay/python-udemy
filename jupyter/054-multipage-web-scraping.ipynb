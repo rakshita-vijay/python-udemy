{
 "cells": [
  {
   "cell_type": "code",
   "execution_count": 1,
   "id": "cf289fa2-5887-409b-9f36-1ff8205fcadf",
   "metadata": {},
   "outputs": [],
   "source": [
    "# get title of everybook with 2-star rating"
   ]
  },
  {
   "cell_type": "code",
   "execution_count": 2,
   "id": "def2d809-efcd-4c83-a36b-73521955f247",
   "metadata": {},
   "outputs": [],
   "source": [
    "import requests\n",
    "import bs4"
   ]
  },
  {
   "cell_type": "code",
   "execution_count": 3,
   "id": "44efe9f5-9611-4c49-89db-220a2245be90",
   "metadata": {},
   "outputs": [
    {
     "data": {
      "text/plain": [
       "'https://books.toscrape.com/catalogue/page-2.html'"
      ]
     },
     "execution_count": 3,
     "metadata": {},
     "output_type": "execute_result"
    }
   ],
   "source": [
    "base_url = \"https://books.toscrape.com/catalogue/page-{}.html\"\n",
    "base_url.format(2)"
   ]
  },
  {
   "cell_type": "code",
   "execution_count": 12,
   "id": "9664e4d6-4cb3-4865-8ac2-316e5e1cb601",
   "metadata": {},
   "outputs": [
    {
     "name": "stdout",
     "output_type": "stream",
     "text": [
      "196\n",
      "196\n"
     ]
    }
   ],
   "source": [
    "base_url = \"https://books.toscrape.com/catalogue/page-{}.html\"\n",
    "\n",
    "base_url_formatted = base_url.format(1)\n",
    "\n",
    "buf_used = requests.get(base_url_formatted) \n",
    "bu_soup = bs4.BeautifulSoup(buf_used.text, \"lxml\")\n",
    "\n",
    "buklist = [] \n",
    "altlist = []\n",
    "rainj = bu_soup.select(\"#default div section div li.current\")[0].getText().strip().split()[-1]\n",
    "\n",
    "for i in range(int(rainj)):\n",
    "    url = base_url.format(i+1)\n",
    "    bsts = requests.get(url)\n",
    "    bs_soup = bs4.BeautifulSoup(bsts.content, \"lxml\")\n",
    "    \n",
    "    to_iter = bs_soup.select(\".col-xs-6 p.star-rating\")\n",
    "    head = bs_soup.select(\".col-xs-6 h3 a\")\n",
    "    img_cont = bs_soup.select(\".col-xs-6 .image_container .thumbnail\") \n",
    "    \n",
    "    for bukno in range(len(to_iter)):  \n",
    "        if to_iter[bukno]['class'][1] == 'Two':\n",
    "            buklist.append(head[bukno]['title'])\n",
    "            \n",
    "            # imgalt = requests.get(img_cont[bukno]['src']) \n",
    "            altlist.append(img_cont[bukno]['alt'])\n",
    "            \n",
    "# print(buklist)\n",
    "# print()\n",
    "# # print(altlist)\n",
    "# altlist\n",
    "\n",
    "print(len(buklist))\n",
    "print(len(altlist))"
   ]
  },
  {
   "cell_type": "code",
   "execution_count": null,
   "id": "217823ed-d085-4acd-af05-0e929ed04efd",
   "metadata": {},
   "outputs": [],
   "source": []
  },
  {
   "cell_type": "code",
   "execution_count": null,
   "id": "0c5941ee-a4f3-4c9c-b788-993a974a3385",
   "metadata": {},
   "outputs": [],
   "source": [
    "bs_soup.select(\".col-xs-6\")"
   ]
  },
  {
   "cell_type": "code",
   "execution_count": null,
   "id": "ab4e60d8-2953-4269-9ba3-32390e967188",
   "metadata": {},
   "outputs": [],
   "source": [
    "bs_soup.select(\".col-xs-6 p\")[0]['class']"
   ]
  },
  {
   "cell_type": "code",
   "execution_count": null,
   "id": "654bdb46-8d45-4d7f-8436-0adc7b8a4f0a",
   "metadata": {},
   "outputs": [],
   "source": [
    "type(bs_soup.select(\".col-xs-6 p\")[0]['class'])"
   ]
  },
  {
   "cell_type": "code",
   "execution_count": null,
   "id": "973cdf50-9717-4b2e-93ac-a1085d9905af",
   "metadata": {},
   "outputs": [],
   "source": []
  }
 ],
 "metadata": {
  "kernelspec": {
   "display_name": "Python 3 (ipykernel)",
   "language": "python",
   "name": "python3"
  },
  "language_info": {
   "codemirror_mode": {
    "name": "ipython",
    "version": 3
   },
   "file_extension": ".py",
   "mimetype": "text/x-python",
   "name": "python",
   "nbconvert_exporter": "python",
   "pygments_lexer": "ipython3",
   "version": "3.12.7"
  }
 },
 "nbformat": 4,
 "nbformat_minor": 5
}
