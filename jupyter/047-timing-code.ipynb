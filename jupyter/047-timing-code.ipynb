{
 "cells": [
  {
   "cell_type": "code",
   "execution_count": 1,
   "id": "77763bb6-c05f-4ad2-ad98-2047b41ba039",
   "metadata": {},
   "outputs": [],
   "source": [
    "def func1(n):\n",
    "    ls = []\n",
    "    for i in range(n):\n",
    "        ls.append(str(i))\n",
    "    return ls"
   ]
  },
  {
   "cell_type": "code",
   "execution_count": 2,
   "id": "2c7d2425-6a23-42e9-b0a6-897af0a81951",
   "metadata": {},
   "outputs": [
    {
     "name": "stdout",
     "output_type": "stream",
     "text": [
      "['0', '1', '2', '3', '4']\n"
     ]
    }
   ],
   "source": [
    "lst1 = func1(5)\n",
    "print(lst1)"
   ]
  },
  {
   "cell_type": "code",
   "execution_count": 3,
   "id": "867ffc70-b019-4523-9a76-04e2bd8e3bff",
   "metadata": {},
   "outputs": [],
   "source": [
    "def func2(n):\n",
    "    return [str(i) for i in range(n)]"
   ]
  },
  {
   "cell_type": "code",
   "execution_count": 4,
   "id": "789ca486-1558-4b8d-838f-102829d3a8d6",
   "metadata": {},
   "outputs": [
    {
     "name": "stdout",
     "output_type": "stream",
     "text": [
      "['0', '1', '2', '3', '4']\n"
     ]
    }
   ],
   "source": [
    "lst2 = func2(5)\n",
    "print(lst2)"
   ]
  },
  {
   "cell_type": "code",
   "execution_count": 5,
   "id": "061d42cf-27be-4a59-bc86-a279ab2dd486",
   "metadata": {},
   "outputs": [],
   "source": [
    "def func3(n):\n",
    "    return list(map(str, range(n)))"
   ]
  },
  {
   "cell_type": "code",
   "execution_count": 6,
   "id": "27c649e3-2fb2-49dc-b8b5-70d297b81a1d",
   "metadata": {},
   "outputs": [
    {
     "name": "stdout",
     "output_type": "stream",
     "text": [
      "['0', '1', '2', '3', '4']\n"
     ]
    }
   ],
   "source": [
    "lst3 = func3(5)\n",
    "print(lst3)"
   ]
  },
  {
   "cell_type": "code",
   "execution_count": 7,
   "id": "ee8d0bd7-cfd9-4e22-ab23-bf1b447651dd",
   "metadata": {},
   "outputs": [],
   "source": [
    "import time"
   ]
  },
  {
   "cell_type": "code",
   "execution_count": 8,
   "id": "f06caa90-1c9f-4d1d-9c0c-6e2c8b115749",
   "metadata": {},
   "outputs": [
    {
     "name": "stdout",
     "output_type": "stream",
     "text": [
      "diff_time1: 6.699562072753906e-05\n",
      "\n",
      "diff_time2: 0.00011301040649414062\n",
      "\n",
      "diff_time3: 4.291534423828125e-05\n",
      "\n",
      "Best: 4.291534423828125e-05\n"
     ]
    }
   ],
   "source": [
    "# t = 1000000\n",
    "t = 1\n",
    "start_time1 = time.time()\n",
    "lst1 = func1(t)\n",
    "end_time1 = time.time() \n",
    "diff_time1 = end_time1 - start_time1\n",
    "# print(f\"lst1: {lst1}\")\n",
    "print(f\"diff_time1: {diff_time1}\")\n",
    "\n",
    "print()\n",
    "\n",
    "start_time2 = time.time()\n",
    "lst2 = func2(t)\n",
    "end_time2 = time.time() \n",
    "diff_time2 = end_time2 - start_time2\n",
    "# print(f\"lst2: {lst2}\")\n",
    "print(f\"diff_time2: {diff_time2}\")\n",
    "\n",
    "print()\n",
    "\n",
    "start_time3 = time.time()\n",
    "lst3 = func3(t)\n",
    "end_time3 = time.time() \n",
    "diff_time3 = end_time3 - start_time3\n",
    "# print(f\"lst3: {lst3}\")\n",
    "print(f\"diff_time3: {diff_time3}\")\n",
    "\n",
    "print() \n",
    "best = min(diff_time1, diff_time2, diff_time3)\n",
    "print(f\"Best: {best}\")"
   ]
  },
  {
   "cell_type": "code",
   "execution_count": 9,
   "id": "98dfd496-74fc-47a1-8145-a335876c6a92",
   "metadata": {},
   "outputs": [],
   "source": [
    "import timeit"
   ]
  },
  {
   "cell_type": "code",
   "execution_count": 10,
   "id": "edd56234-0fe9-40c1-9cb7-ec86c08742af",
   "metadata": {},
   "outputs": [],
   "source": [
    "stmt = '''\n",
    "func2(100)\n",
    "'''\n",
    "\n",
    "setup = '''\n",
    "def func2(n):\n",
    "    return [str(i) for i in range(n)]\n",
    "'''"
   ]
  },
  {
   "cell_type": "code",
   "execution_count": 11,
   "id": "e00e553f-5def-4680-967c-f1f062b974c2",
   "metadata": {},
   "outputs": [
    {
     "data": {
      "text/plain": [
       "7.1382909580133855"
      ]
     },
     "execution_count": 11,
     "metadata": {},
     "output_type": "execute_result"
    }
   ],
   "source": [
    "timeit.timeit(stmt, setup, number = 1000000)"
   ]
  },
  {
   "cell_type": "code",
   "execution_count": 12,
   "id": "0dc95773-9296-45d0-9b27-c8f7ea1ab7b4",
   "metadata": {},
   "outputs": [],
   "source": [
    "stmt = '''\n",
    "func3(100)\n",
    "'''\n",
    "\n",
    "setup = '''\n",
    "def func3(n):\n",
    "    return list(map(str, range(n)))\n",
    "'''"
   ]
  },
  {
   "cell_type": "code",
   "execution_count": 13,
   "id": "34febbee-3f6f-46f3-b35c-e386367d3580",
   "metadata": {},
   "outputs": [
    {
     "data": {
      "text/plain": [
       "9.449603374989238"
      ]
     },
     "execution_count": 13,
     "metadata": {},
     "output_type": "execute_result"
    }
   ],
   "source": [
    "timeit.timeit(stmt, setup, number = 1000000)"
   ]
  },
  {
   "cell_type": "code",
   "execution_count": 14,
   "id": "13d0bcad-887c-42c1-b391-493eeb37656f",
   "metadata": {},
   "outputs": [
    {
     "name": "stdout",
     "output_type": "stream",
     "text": [
      "7.43 μs ± 543 ns per loop (mean ± std. dev. of 7 runs, 100,000 loops each)\n"
     ]
    }
   ],
   "source": [
    "%%timeit\n",
    "func2(100)"
   ]
  },
  {
   "cell_type": "code",
   "execution_count": 15,
   "id": "50d4a547-6481-419e-b8c9-d558ed97e1bd",
   "metadata": {},
   "outputs": [
    {
     "name": "stdout",
     "output_type": "stream",
     "text": [
      "9.25 μs ± 325 ns per loop (mean ± std. dev. of 7 runs, 100,000 loops each)\n"
     ]
    }
   ],
   "source": [
    "%%timeit\n",
    "func3(100)"
   ]
  },
  {
   "cell_type": "code",
   "execution_count": 16,
   "id": "c11d83bf-5d8e-44f5-a36a-f8f99b2d15d7",
   "metadata": {},
   "outputs": [
    {
     "name": "stdout",
     "output_type": "stream",
     "text": [
      "C H E E S E C A K E\n",
      "C H E E S E C A K E\n",
      "C H E E S E C A K E\n",
      "C H E E S E C A K E\n",
      "C H E E S E C A K E\n",
      "C H E E S E C A K E\n",
      "C H E E S E C A K E\n",
      "C H E E S E C A K E\n",
      "C H E E S E C A K E\n"
     ]
    },
    {
     "data": {
      "text/plain": [
       "0.0025961659848690033"
      ]
     },
     "execution_count": 16,
     "metadata": {},
     "output_type": "execute_result"
    }
   ],
   "source": [
    "import timeit\n",
    "lenth = pow(2,3) + 1\n",
    "stmt = '''\n",
    "cheesecake()\n",
    "'''\n",
    "setup = '''\n",
    "def cheesecake():\n",
    "    print(\"C H E E S E C A K E\")\n",
    "'''\n",
    "timeit.timeit(stmt, setup, number = lenth)"
   ]
  },
  {
   "cell_type": "code",
   "execution_count": null,
   "id": "748014f3-cb10-49fd-b442-7c18d6145661",
   "metadata": {},
   "outputs": [],
   "source": []
  }
 ],
 "metadata": {
  "kernelspec": {
   "display_name": "Python 3 (ipykernel)",
   "language": "python",
   "name": "python3"
  },
  "language_info": {
   "codemirror_mode": {
    "name": "ipython",
    "version": 3
   },
   "file_extension": ".py",
   "mimetype": "text/x-python",
   "name": "python",
   "nbconvert_exporter": "python",
   "pygments_lexer": "ipython3",
   "version": "3.12.7"
  }
 },
 "nbformat": 4,
 "nbformat_minor": 5
}
