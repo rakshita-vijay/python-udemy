{
 "cells": [
  {
   "cell_type": "code",
   "execution_count": 1,
   "id": "5333a17c-237d-417b-9c89-e146ac06a484",
   "metadata": {},
   "outputs": [],
   "source": [
    "import os, re"
   ]
  },
  {
   "cell_type": "code",
   "execution_count": 2,
   "id": "94d59995-4a85-481e-9a04-9952547734bb",
   "metadata": {},
   "outputs": [
    {
     "data": {
      "text/plain": [
       "'/Users/rakshita/dev/rakshita/python-udemy/jupyter/049-Advanced-Python-Module-Exercise/extracted_instructions/extracted_content'"
      ]
     },
     "execution_count": 2,
     "metadata": {},
     "output_type": "execute_result"
    }
   ],
   "source": [
    "pwd"
   ]
  },
  {
   "cell_type": "code",
   "execution_count": 3,
   "id": "6eeca4e9-d318-49ee-837b-b21e6a3d5668",
   "metadata": {},
   "outputs": [
    {
     "name": "stdout",
     "output_type": "stream",
     "text": [
      "Found number 719-266-2837 in file iteration.ipynb in folder extracted_content\n",
      "Found number 719-266-2837 in file iteration-checkpoint.ipynb in folder .ipynb_checkpoints\n",
      "Found number 719-266-2837 in file EMTGPSXQEJX.txt in folder Four\n"
     ]
    }
   ],
   "source": [
    "loc = '/Users/rakshita/dev/rakshita/python-udemy/jupyter/049-Advanced-Python-Module-Exercise/extracted_instructions/extracted_content'\n",
    "for folder, _, files in os.walk(loc): \n",
    "    for file in files:\n",
    "        try:\n",
    "            file_path =  folder + '/' + file\n",
    "            fl = open(file_path, 'r')\n",
    "            texty = fl.read()\n",
    "            fl.close()\n",
    "            \n",
    "            patty = r'(\\d{3})-(\\d{3})-(\\d{4})'\n",
    "            lst = (re.search(patty, texty)).group() \n",
    "            \n",
    "            if lst: \n",
    "                folder_patty = r'.+/(.+?)/[^/]+$'\n",
    "                folder = (re.search(folder_patty, file_path)).group(1)\n",
    "                \n",
    "                print(f\"Found number {lst} in file {file} in folder {folder}\")\n",
    "        except Exception as e:\n",
    "            pass"
   ]
  },
  {
   "cell_type": "code",
   "execution_count": null,
   "id": "b892b950-0155-4a3c-af47-c58d5de556a9",
   "metadata": {},
   "outputs": [],
   "source": []
  },
  {
   "cell_type": "code",
   "execution_count": null,
   "id": "2953d4ce-c9d9-4d24-8dbf-e2569c83b108",
   "metadata": {},
   "outputs": [],
   "source": []
  }
 ],
 "metadata": {
  "kernelspec": {
   "display_name": "Python 3 (ipykernel)",
   "language": "python",
   "name": "python3"
  },
  "language_info": {
   "codemirror_mode": {
    "name": "ipython",
    "version": 3
   },
   "file_extension": ".py",
   "mimetype": "text/x-python",
   "name": "python",
   "nbconvert_exporter": "python",
   "pygments_lexer": "ipython3",
   "version": "3.12.7"
  }
 },
 "nbformat": 4,
 "nbformat_minor": 5
}
