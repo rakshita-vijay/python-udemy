{
 "cells": [
  {
   "cell_type": "code",
   "execution_count": 1,
   "id": "9cec5c6b-5429-440a-9e0b-72a53d43cd9e",
   "metadata": {},
   "outputs": [],
   "source": [
    "# they start and end with a double underscore\n",
    "# what they do: they overwrite the built-in functionality of the keyword, temporarily (as in, lasts for as long as the program is running)\n",
    "\n",
    "class Book():\n",
    "    def __init__(self, title, author, genre, pages):\n",
    "        self.title = title\n",
    "        self.author = author\n",
    "        self.genre = genre\n",
    "        self.pages = pages\n",
    "        \n",
    "    def __str__(self):\n",
    "        return f\"{self.title} by {self.author} \\nGenre: {self.genre}\"\n",
    "        \n",
    "    def __len__(self):\n",
    "        return self.pages\n",
    "        \n",
    "    def __del__(self):\n",
    "        print(f\"{str(self)} has been deleted\")\n",
    "        del self"
   ]
  },
  {
   "cell_type": "code",
   "execution_count": 2,
   "id": "6de74ae0-65d3-4a24-a0c5-4aaa93f8e9f8",
   "metadata": {},
   "outputs": [],
   "source": [
    "the_inheritance_games = Book(\"The Inheritance Games\", \"Jennifer Lynn Barnes\", \"Fiction\", 321)"
   ]
  },
  {
   "cell_type": "code",
   "execution_count": 3,
   "id": "d5566f42-cdc8-44b5-8779-4ff7fcc4529d",
   "metadata": {},
   "outputs": [
    {
     "name": "stdout",
     "output_type": "stream",
     "text": [
      "The Inheritance Games by Jennifer Lynn Barnes \n",
      "Genre: Fiction\n"
     ]
    }
   ],
   "source": [
    "print(the_inheritance_games) # asks the class if it has a string representation of itself "
   ]
  },
  {
   "cell_type": "code",
   "execution_count": 4,
   "id": "72a14788-56a5-415c-a198-10b62b706bde",
   "metadata": {},
   "outputs": [
    {
     "data": {
      "text/plain": [
       "'The Inheritance Games by Jennifer Lynn Barnes \\nGenre: Fiction'"
      ]
     },
     "execution_count": 4,
     "metadata": {},
     "output_type": "execute_result"
    }
   ],
   "source": [
    "str(the_inheritance_games)"
   ]
  },
  {
   "cell_type": "code",
   "execution_count": 5,
   "id": "ed753b2f-5a6c-496a-ac31-8edbe4c5e1bb",
   "metadata": {},
   "outputs": [
    {
     "data": {
      "text/plain": [
       "321"
      ]
     },
     "execution_count": 5,
     "metadata": {},
     "output_type": "execute_result"
    }
   ],
   "source": [
    "len(the_inheritance_games)"
   ]
  },
  {
   "cell_type": "code",
   "execution_count": 6,
   "id": "009a060c-46b1-4a08-b1dc-d0be60b6c30c",
   "metadata": {},
   "outputs": [
    {
     "name": "stdout",
     "output_type": "stream",
     "text": [
      "The Inheritance Games by Jennifer Lynn Barnes \n",
      "Genre: Fiction has been deleted\n"
     ]
    }
   ],
   "source": [
    "del the_inheritance_games"
   ]
  },
  {
   "cell_type": "code",
   "execution_count": 7,
   "id": "be4bd580-d3f7-4b54-8acf-a6725acf4e4b",
   "metadata": {},
   "outputs": [
    {
     "ename": "NameError",
     "evalue": "name 'the_inheritance_games' is not defined",
     "output_type": "error",
     "traceback": [
      "\u001b[0;31m---------------------------------------------------------------------------\u001b[0m",
      "\u001b[0;31mNameError\u001b[0m                                 Traceback (most recent call last)",
      "Cell \u001b[0;32mIn[7], line 1\u001b[0m\n\u001b[0;32m----> 1\u001b[0m the_inheritance_games\n",
      "\u001b[0;31mNameError\u001b[0m: name 'the_inheritance_games' is not defined"
     ]
    }
   ],
   "source": [
    "the_inheritance_games"
   ]
  },
  {
   "cell_type": "code",
   "execution_count": null,
   "id": "8077ad17-7d56-472f-a312-ce537d800732",
   "metadata": {},
   "outputs": [],
   "source": []
  }
 ],
 "metadata": {
  "kernelspec": {
   "display_name": "Python 3 (ipykernel)",
   "language": "python",
   "name": "python3"
  },
  "language_info": {
   "codemirror_mode": {
    "name": "ipython",
    "version": 3
   },
   "file_extension": ".py",
   "mimetype": "text/x-python",
   "name": "python",
   "nbconvert_exporter": "python",
   "pygments_lexer": "ipython3",
   "version": "3.12.7"
  }
 },
 "nbformat": 4,
 "nbformat_minor": 5
}
