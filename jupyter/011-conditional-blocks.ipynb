{
 "cells": [
  {
   "cell_type": "code",
   "execution_count": 1,
   "id": "5c3e63bc-ea47-49f7-927d-8f94fba2335f",
   "metadata": {},
   "outputs": [],
   "source": [
    "b = True\n",
    "c = False\n",
    "if (c):\n",
    "    a = \"b\"\n",
    "elif (b):\n",
    "    a = \"g\"\n",
    "else:\n",
    "    a = \"u\""
   ]
  },
  {
   "cell_type": "code",
   "execution_count": 2,
   "id": "83247980-866b-483e-b030-6072a9791982",
   "metadata": {},
   "outputs": [
    {
     "data": {
      "text/plain": [
       "'g'"
      ]
     },
     "execution_count": 2,
     "metadata": {},
     "output_type": "execute_result"
    }
   ],
   "source": [
    "a"
   ]
  },
  {
   "cell_type": "code",
   "execution_count": 3,
   "id": "1642fc55-624d-42f3-9dcb-d23ffb4280c1",
   "metadata": {},
   "outputs": [
    {
     "name": "stdout",
     "output_type": "stream",
     "text": [
      "Alpha\n",
      "Rocky\n",
      "Sherpa\n"
     ]
    }
   ],
   "source": [
    "my_dog = [\"Alpha\", \"Rocky\", \"Sherpa\"]\n",
    "for x in my_dog:\n",
    "    print(x)"
   ]
  },
  {
   "cell_type": "code",
   "execution_count": 11,
   "id": "8d481608-9785-406f-a4c2-5460a5b3e31e",
   "metadata": {},
   "outputs": [
    {
     "name": "stdout",
     "output_type": "stream",
     "text": [
      "Alpha\n",
      "Rocky\n",
      "Sherpa\n"
     ]
    }
   ],
   "source": [
    "for i in range(len(my_dog)):\n",
    "    print(my_dog[i]) "
   ]
  },
  {
   "cell_type": "code",
   "execution_count": 12,
   "id": "2ccbc0b5-cae1-410c-9866-738caff2faee",
   "metadata": {},
   "outputs": [
    {
     "name": "stdout",
     "output_type": "stream",
     "text": [
      "Doggooo\n",
      "Doggooo\n",
      "Doggooo\n"
     ]
    }
   ],
   "source": [
    "for _ in my_dog:\n",
    "    print(\"Doggooo\")"
   ]
  },
  {
   "cell_type": "code",
   "execution_count": 13,
   "id": "54d9e06e-84e8-4b70-a158-6a5335aca20b",
   "metadata": {},
   "outputs": [
    {
     "data": {
      "text/plain": [
       "4"
      ]
     },
     "execution_count": 13,
     "metadata": {},
     "output_type": "execute_result"
    }
   ],
   "source": [
    "mylist = [(1,2),(3,4),(5,6),(7,8)]\n",
    "len(mylist)"
   ]
  },
  {
   "cell_type": "code",
   "execution_count": 14,
   "id": "37c5a72c-8440-4463-90b1-d4d15e1f09fd",
   "metadata": {},
   "outputs": [
    {
     "name": "stdout",
     "output_type": "stream",
     "text": [
      "1\n",
      "2\n",
      "3\n",
      "4\n",
      "5\n",
      "6\n",
      "7\n",
      "8\n"
     ]
    }
   ],
   "source": [
    "for (a,b) in mylist:\n",
    "    print(a)\n",
    "    print(b)"
   ]
  },
  {
   "cell_type": "code",
   "execution_count": 15,
   "id": "9614b6a5-d525-44f4-a101-b4e24458e688",
   "metadata": {},
   "outputs": [
    {
     "name": "stdout",
     "output_type": "stream",
     "text": [
      "(1, 2)\n",
      "(3, 4)\n",
      "(5, 6)\n",
      "(7, 8)\n"
     ]
    }
   ],
   "source": [
    "for a in mylist:\n",
    "    print(a) "
   ]
  },
  {
   "cell_type": "code",
   "execution_count": 16,
   "id": "07f75f24-4808-4a30-9257-556c5863b639",
   "metadata": {},
   "outputs": [
    {
     "name": "stdout",
     "output_type": "stream",
     "text": [
      "2\n",
      "4\n",
      "6\n",
      "8\n"
     ]
    }
   ],
   "source": [
    "for a,b in mylist:\n",
    "    print(b) "
   ]
  },
  {
   "cell_type": "code",
   "execution_count": 17,
   "id": "1a686292-935b-4cac-b8bf-99755c3a073d",
   "metadata": {},
   "outputs": [
    {
     "name": "stdout",
     "output_type": "stream",
     "text": [
      "('k1', 1)\n",
      "('k2', 2)\n",
      "('k3', 3)\n"
     ]
    }
   ],
   "source": [
    "d = {'k1': 1, 'k2': 2, 'k3': 3}\n",
    "\n",
    "for x in d.items():\n",
    "    print(x)"
   ]
  },
  {
   "cell_type": "code",
   "execution_count": 18,
   "id": "bb7df42b-14b7-4ea0-b228-0f27dc75fd3e",
   "metadata": {},
   "outputs": [
    {
     "name": "stdout",
     "output_type": "stream",
     "text": [
      "1\n",
      "2\n",
      "3\n"
     ]
    }
   ],
   "source": [
    "for x, y in d.items():\n",
    "    print(y)"
   ]
  },
  {
   "cell_type": "code",
   "execution_count": 19,
   "id": "8ae547c9-29cb-49f9-8ead-0a4c2e22d7ec",
   "metadata": {},
   "outputs": [
    {
     "name": "stdout",
     "output_type": "stream",
     "text": [
      "k1\n",
      "k2\n",
      "k3\n"
     ]
    }
   ],
   "source": [
    "for x in d.keys():\n",
    "    print(x)"
   ]
  },
  {
   "cell_type": "code",
   "execution_count": 20,
   "id": "e59290b6-e6b4-4b56-83ef-18e6b4e1b2e2",
   "metadata": {},
   "outputs": [
    {
     "name": "stdout",
     "output_type": "stream",
     "text": [
      "1\n",
      "2\n",
      "3\n"
     ]
    }
   ],
   "source": [
    "for x in d.values():\n",
    "    print(x)"
   ]
  },
  {
   "cell_type": "code",
   "execution_count": 22,
   "id": "c489ab87-00a0-4b96-aff4-b7d3af31a792",
   "metadata": {},
   "outputs": [
    {
     "name": "stdout",
     "output_type": "stream",
     "text": [
      "k1\n",
      "k2\n",
      "k3\n",
      "1\n",
      "2\n",
      "3\n"
     ]
    }
   ],
   "source": [
    "for x in d.items():\n",
    "    print(x[0])\n",
    "for x in d.items():\n",
    "    print(x[1])"
   ]
  },
  {
   "cell_type": "code",
   "execution_count": 25,
   "id": "bceba74f-1071-4bb6-9f1c-3850c4ef8fd2",
   "metadata": {},
   "outputs": [
    {
     "name": "stdout",
     "output_type": "stream",
     "text": [
      "b is True\n",
      "b is True\n",
      "b is True\n",
      "b is False after 3 iterations\n"
     ]
    }
   ],
   "source": [
    "b = True\n",
    "counter = 0;\n",
    "while (b):\n",
    "    print(\"b is True\")\n",
    "    counter += 1\n",
    "    if counter == 3:\n",
    "        b = False\n",
    "else:\n",
    "    print(f\"b is False after {counter} iterations\")"
   ]
  },
  {
   "cell_type": "code",
   "execution_count": 29,
   "id": "7e461abe-0fca-48bd-b948-9d88598c5848",
   "metadata": {},
   "outputs": [
    {
     "ename": "IndentationError",
     "evalue": "expected an indented block after 'for' statement on line 2 (1968626121.py, line 4)",
     "output_type": "error",
     "traceback": [
      "\u001b[0;36m  Cell \u001b[0;32mIn[29], line 4\u001b[0;36m\u001b[0m\n\u001b[0;31m    print(\"End of script\")\u001b[0m\n\u001b[0m    ^\u001b[0m\n\u001b[0;31mIndentationError\u001b[0m\u001b[0;31m:\u001b[0m expected an indented block after 'for' statement on line 2\n"
     ]
    }
   ],
   "source": [
    "x = [1,2,3]\n",
    "for y in x:\n",
    "    # comment here\n",
    "print(\"End of script\")"
   ]
  },
  {
   "cell_type": "code",
   "execution_count": 36,
   "id": "912da736-0259-42fa-bc38-b01c74afc217",
   "metadata": {},
   "outputs": [
    {
     "name": "stdout",
     "output_type": "stream",
     "text": [
      "End of script\n"
     ]
    }
   ],
   "source": [
    "x = [0, 1, 2, 3, 4, 5]\n",
    "for y in x:\n",
    "    pass\n",
    "print(\"End of script\")"
   ]
  },
  {
   "cell_type": "code",
   "execution_count": 37,
   "id": "239f7d31-b90a-46ea-94cf-17816ba166c1",
   "metadata": {},
   "outputs": [
    {
     "name": "stdout",
     "output_type": "stream",
     "text": [
      "0\n",
      "1\n",
      "End of script\n"
     ]
    }
   ],
   "source": [
    "for y in x:\n",
    "    if y == 2:\n",
    "        break\n",
    "    print(y)\n",
    "print(\"End of script\")"
   ]
  },
  {
   "cell_type": "code",
   "execution_count": 38,
   "id": "d38c63d2-210d-4037-a10e-c19f6d720599",
   "metadata": {},
   "outputs": [
    {
     "name": "stdout",
     "output_type": "stream",
     "text": [
      "0\n",
      "1\n",
      "3\n",
      "4\n",
      "5\n",
      "End of script\n"
     ]
    }
   ],
   "source": [
    "for y in x:\n",
    "    if y == 2:\n",
    "        continue\n",
    "    print(y)\n",
    "print(\"End of script\")"
   ]
  },
  {
   "cell_type": "code",
   "execution_count": 40,
   "id": "e2cc15ad-93d8-40a1-bda4-378d9783c014",
   "metadata": {},
   "outputs": [
    {
     "name": "stdout",
     "output_type": "stream",
     "text": [
      "0\n",
      "2\n",
      "4\n",
      "6\n",
      "8\n",
      "10\n"
     ]
    }
   ],
   "source": [
    "for i in range(0, 11, 2):\n",
    "    print(i)"
   ]
  },
  {
   "cell_type": "code",
   "execution_count": 41,
   "id": "adc0397f-9c3c-4bfc-b318-6a668c6b3f18",
   "metadata": {},
   "outputs": [
    {
     "data": {
      "text/plain": [
       "range(0, 11, 2)"
      ]
     },
     "execution_count": 41,
     "metadata": {},
     "output_type": "execute_result"
    }
   ],
   "source": [
    "range(0, 11, 2)"
   ]
  },
  {
   "cell_type": "code",
   "execution_count": 42,
   "id": "6b94f4ab-1628-44f3-91a6-ed5364a51e5e",
   "metadata": {},
   "outputs": [
    {
     "data": {
      "text/plain": [
       "[0, 2, 4, 6, 8, 10]"
      ]
     },
     "execution_count": 42,
     "metadata": {},
     "output_type": "execute_result"
    }
   ],
   "source": [
    "list(range(0, 11, 2))"
   ]
  },
  {
   "cell_type": "code",
   "execution_count": 43,
   "id": "2de479a3-8b79-4691-825c-fe9686f00571",
   "metadata": {},
   "outputs": [
    {
     "name": "stdout",
     "output_type": "stream",
     "text": [
      "a\n",
      "b\n",
      "c\n",
      "d\n",
      "e\n"
     ]
    }
   ],
   "source": [
    "counter = 0\n",
    "word = 'abcde'\n",
    "\n",
    "for letter in word:\n",
    "    print(word[counter])\n",
    "    counter += 1"
   ]
  },
  {
   "cell_type": "code",
   "execution_count": 44,
   "id": "fb70ad78-27c7-4795-89e2-c2a34da7b40f",
   "metadata": {},
   "outputs": [
    {
     "name": "stdout",
     "output_type": "stream",
     "text": [
      "(0, 'a')\n",
      "(1, 'b')\n",
      "(2, 'c')\n",
      "(3, 'd')\n",
      "(4, 'e')\n"
     ]
    }
   ],
   "source": [
    "word = 'abcde'\n",
    "\n",
    "for letter in enumerate(word):\n",
    "    print(letter) "
   ]
  },
  {
   "cell_type": "code",
   "execution_count": 50,
   "id": "38ab8df5-0438-4452-bb6e-fd4795950d13",
   "metadata": {},
   "outputs": [
    {
     "name": "stdout",
     "output_type": "stream",
     "text": [
      "(1, 'a')\n",
      "(2, 'b')\n",
      "(3, 'c')\n",
      "\n",
      "1 a\n",
      "2 b\n",
      "3 c\n",
      "\n",
      "(1, 'a', 0.1)\n",
      "(2, 'b', 0.2)\n",
      "(3, 'c', 0.3)\n"
     ]
    }
   ],
   "source": [
    "l1 = [1, 2, 3]\n",
    "l2 = ['a', 'b', 'c']\n",
    "l3 = [0.1, 0.2, 0.3, 0.4, 0.5, 0.6]\n",
    "\n",
    "for i in zip(l1, l2):\n",
    "    print(i)\n",
    "print()    \n",
    "\n",
    "for i,j in zip(l1, l2):\n",
    "    print(i, j)\n",
    "print() \n",
    "\n",
    "for i in zip(l1, l2, l3):\n",
    "    print(i)"
   ]
  },
  {
   "cell_type": "code",
   "execution_count": 51,
   "id": "19ac4175-f855-4537-b8cc-e6db0a8fab6b",
   "metadata": {},
   "outputs": [
    {
     "data": {
      "text/plain": [
       "[(1, 'a', 0.1), (2, 'b', 0.2), (3, 'c', 0.3)]"
      ]
     },
     "execution_count": 51,
     "metadata": {},
     "output_type": "execute_result"
    }
   ],
   "source": [
    "list(zip(l1, l2, l3))"
   ]
  },
  {
   "cell_type": "code",
   "execution_count": 52,
   "id": "c4671166-35b3-445c-bdea-e64c173a55b5",
   "metadata": {},
   "outputs": [
    {
     "data": {
      "text/plain": [
       "True"
      ]
     },
     "execution_count": 52,
     "metadata": {},
     "output_type": "execute_result"
    }
   ],
   "source": [
    "0.1 in l3"
   ]
  },
  {
   "cell_type": "code",
   "execution_count": 53,
   "id": "43a514c9-889d-4e98-a5d7-6e02c71f12bc",
   "metadata": {},
   "outputs": [
    {
     "data": {
      "text/plain": [
       "False"
      ]
     },
     "execution_count": 53,
     "metadata": {},
     "output_type": "execute_result"
    }
   ],
   "source": [
    "'x' in l3"
   ]
  },
  {
   "cell_type": "code",
   "execution_count": 54,
   "id": "85e7803e-fd24-4892-9040-5c0621330b91",
   "metadata": {},
   "outputs": [
    {
     "data": {
      "text/plain": [
       "['Alpha', 'Rocky', 'Sherpa']"
      ]
     },
     "execution_count": 54,
     "metadata": {},
     "output_type": "execute_result"
    }
   ],
   "source": [
    "my_dog"
   ]
  },
  {
   "cell_type": "code",
   "execution_count": 55,
   "id": "ade9cecd-61ab-4130-9907-279b3571818e",
   "metadata": {},
   "outputs": [
    {
     "data": {
      "text/plain": [
       "{'k1': 1, 'k2': 2, 'k3': 3}"
      ]
     },
     "execution_count": 55,
     "metadata": {},
     "output_type": "execute_result"
    }
   ],
   "source": [
    "d"
   ]
  },
  {
   "cell_type": "code",
   "execution_count": 57,
   "id": "b7eb4c6d-44e3-468f-87ac-f55d5bf374a0",
   "metadata": {},
   "outputs": [
    {
     "data": {
      "text/plain": [
       "True"
      ]
     },
     "execution_count": 57,
     "metadata": {},
     "output_type": "execute_result"
    }
   ],
   "source": [
    "'k1' in d"
   ]
  },
  {
   "cell_type": "code",
   "execution_count": 58,
   "id": "17782ff9-8081-411a-9065-de2c5a1dd4d5",
   "metadata": {},
   "outputs": [
    {
     "data": {
      "text/plain": [
       "True"
      ]
     },
     "execution_count": 58,
     "metadata": {},
     "output_type": "execute_result"
    }
   ],
   "source": [
    "'k1' in d.keys()"
   ]
  },
  {
   "cell_type": "code",
   "execution_count": 59,
   "id": "a45b8204-c3a5-425c-853b-e51e83f68a64",
   "metadata": {},
   "outputs": [
    {
     "data": {
      "text/plain": [
       "False"
      ]
     },
     "execution_count": 59,
     "metadata": {},
     "output_type": "execute_result"
    }
   ],
   "source": [
    "'k1' in d.values()"
   ]
  },
  {
   "cell_type": "code",
   "execution_count": 60,
   "id": "b3de2c85-708a-450d-b6d7-cd77b6b1351a",
   "metadata": {},
   "outputs": [
    {
     "data": {
      "text/plain": [
       "True"
      ]
     },
     "execution_count": 60,
     "metadata": {},
     "output_type": "execute_result"
    }
   ],
   "source": [
    "3 in d.values()"
   ]
  },
  {
   "cell_type": "code",
   "execution_count": 61,
   "id": "25458bd8-3c06-4406-8a85-b4113a68aa9e",
   "metadata": {},
   "outputs": [
    {
     "data": {
      "text/plain": [
       "'k1'"
      ]
     },
     "execution_count": 61,
     "metadata": {},
     "output_type": "execute_result"
    }
   ],
   "source": [
    "min(d)"
   ]
  },
  {
   "cell_type": "code",
   "execution_count": 62,
   "id": "4dc75022-af1f-4792-8ee2-ac8af9b9d1bc",
   "metadata": {},
   "outputs": [
    {
     "data": {
      "text/plain": [
       "1"
      ]
     },
     "execution_count": 62,
     "metadata": {},
     "output_type": "execute_result"
    }
   ],
   "source": [
    "min(l1)"
   ]
  },
  {
   "cell_type": "code",
   "execution_count": null,
   "id": "175b0384-d04e-4f47-b83c-85b89c9c36e9",
   "metadata": {},
   "outputs": [],
   "source": []
  }
 ],
 "metadata": {
  "kernelspec": {
   "display_name": "Python 3 (ipykernel)",
   "language": "python",
   "name": "python3"
  },
  "language_info": {
   "codemirror_mode": {
    "name": "ipython",
    "version": 3
   },
   "file_extension": ".py",
   "mimetype": "text/x-python",
   "name": "python",
   "nbconvert_exporter": "python",
   "pygments_lexer": "ipython3",
   "version": "3.12.7"
  }
 },
 "nbformat": 4,
 "nbformat_minor": 5
}
