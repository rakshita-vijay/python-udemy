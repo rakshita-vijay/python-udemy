{
 "cells": [
  {
   "cell_type": "code",
   "execution_count": 1,
   "id": "1fff3a19-9298-4fca-a3e7-07b20e3e2c39",
   "metadata": {},
   "outputs": [],
   "source": [
    "from random import shuffle"
   ]
  },
  {
   "cell_type": "code",
   "execution_count": 2,
   "id": "345d1415-10f9-4875-a9d9-42d7a4d4df64",
   "metadata": {},
   "outputs": [],
   "source": [
    "l1 = [1,2,3,4,5,6,7,8]"
   ]
  },
  {
   "cell_type": "code",
   "execution_count": 3,
   "id": "119e69ef-8cb1-41c7-a802-5cb1a0beaba1",
   "metadata": {},
   "outputs": [
    {
     "data": {
      "text/plain": [
       "[7, 3, 4, 1, 2, 5, 6, 8]"
      ]
     },
     "execution_count": 3,
     "metadata": {},
     "output_type": "execute_result"
    }
   ],
   "source": [
    "shuffle(l1)\n",
    "l1"
   ]
  },
  {
   "cell_type": "code",
   "execution_count": 4,
   "id": "c3344d19-3061-4006-9e98-214491303fc2",
   "metadata": {},
   "outputs": [
    {
     "data": {
      "text/plain": [
       "[6, 3, 2, 8, 5, 1, 4, 7]"
      ]
     },
     "execution_count": 4,
     "metadata": {},
     "output_type": "execute_result"
    }
   ],
   "source": [
    "shuffle(l1)\n",
    "l1"
   ]
  },
  {
   "cell_type": "code",
   "execution_count": 5,
   "id": "89159a98-acab-4dd9-9a60-c2edf986b278",
   "metadata": {},
   "outputs": [],
   "source": [
    "from random import randint"
   ]
  },
  {
   "cell_type": "code",
   "execution_count": 7,
   "id": "a998a3d4-9c8c-41dd-b3dc-fcaa90b5f83b",
   "metadata": {},
   "outputs": [
    {
     "data": {
      "text/plain": [
       "61"
      ]
     },
     "execution_count": 7,
     "metadata": {},
     "output_type": "execute_result"
    }
   ],
   "source": [
    "randint(0, 100)"
   ]
  },
  {
   "cell_type": "code",
   "execution_count": 8,
   "id": "10fc2308-e7a4-4f11-9dd7-d76815506cb9",
   "metadata": {},
   "outputs": [
    {
     "name": "stdin",
     "output_type": "stream",
     "text": [
      "Enter a number:  50\n"
     ]
    }
   ],
   "source": [
    "num = input(\"Enter a number: \")"
   ]
  },
  {
   "cell_type": "code",
   "execution_count": 9,
   "id": "b9da6691-d059-4ac1-a94e-81ee1958e5bd",
   "metadata": {},
   "outputs": [
    {
     "data": {
      "text/plain": [
       "'50'"
      ]
     },
     "execution_count": 9,
     "metadata": {},
     "output_type": "execute_result"
    }
   ],
   "source": [
    "num"
   ]
  },
  {
   "cell_type": "code",
   "execution_count": 10,
   "id": "379ac183-e0fd-4dde-a72c-d4b5f8b1b0e5",
   "metadata": {},
   "outputs": [
    {
     "name": "stdout",
     "output_type": "stream",
     "text": [
      "[6, 3, 2, 8, 5, 1, 4, 7, 'h', 'e', 'l', 'l', 'o']\n"
     ]
    }
   ],
   "source": [
    "mystring = 'hello'\n",
    "for letter in mystring:\n",
    "    l1.append(letter)\n",
    "print(l1)"
   ]
  },
  {
   "cell_type": "code",
   "execution_count": 13,
   "id": "fd9ccd74-b1eb-4446-843f-945bc14df6bf",
   "metadata": {},
   "outputs": [
    {
     "data": {
      "text/plain": [
       "['h', 'e', 'l', 'l', 'o']"
      ]
     },
     "execution_count": 13,
     "metadata": {},
     "output_type": "execute_result"
    }
   ],
   "source": [
    "lx = [letter for letter in mystring]\n",
    "lx"
   ]
  },
  {
   "cell_type": "code",
   "execution_count": 19,
   "id": "f00fb831-19a0-4d43-958d-221e1f620c90",
   "metadata": {},
   "outputs": [
    {
     "data": {
      "text/plain": [
       "[(0, 0), (2, 4), (4, 16), (6, 36), (8, 64), (10, 100)]"
      ]
     },
     "execution_count": 19,
     "metadata": {},
     "output_type": "execute_result"
    }
   ],
   "source": [
    "lx2 = [(num, num**2) for num in range(0,11,2)]\n",
    "lx2"
   ]
  },
  {
   "cell_type": "code",
   "execution_count": 22,
   "id": "8be26d0e-1bc1-4941-a799-2f42d91c0b1c",
   "metadata": {},
   "outputs": [
    {
     "data": {
      "text/plain": [
       "[0, 2, 4, 6, 8, 10]"
      ]
     },
     "execution_count": 22,
     "metadata": {},
     "output_type": "execute_result"
    }
   ],
   "source": [
    "lx3 = [num for num in range(0,11) if num%2 == 0]\n",
    "lx3"
   ]
  },
  {
   "cell_type": "code",
   "execution_count": 27,
   "id": "f85cbd15-eb6c-4007-ad19-b65264f45bb6",
   "metadata": {},
   "outputs": [
    {
     "name": "stdout",
     "output_type": "stream",
     "text": [
      "[28, 99, 29, 31, 63, 19, 68, 4, 35, 73, 14]\n",
      "[82.4, 210.20000000000002, 84.2, 87.80000000000001, 145.4, 66.2, 154.4, 39.2, 95.0, 163.4, 57.2]\n",
      "\n",
      "(28, 82.4)\n",
      "(99, 210.20000000000002)\n",
      "(29, 84.2)\n",
      "(31, 87.80000000000001)\n",
      "(63, 145.4)\n",
      "(19, 66.2)\n",
      "(68, 154.4)\n",
      "(4, 39.2)\n",
      "(35, 95.0)\n",
      "(73, 163.4)\n",
      "(14, 57.2)\n"
     ]
    }
   ],
   "source": [
    "celc = []\n",
    "for i in range(0, 11):\n",
    "    celc.append(randint(0,100))\n",
    "fahr = [((9/5)*temp)+32 for temp in celc]\n",
    "\n",
    "print(celc)\n",
    "print(fahr) \n",
    "print()\n",
    "\n",
    "for i in zip(celc, fahr):\n",
    "    print(i)"
   ]
  },
  {
   "cell_type": "code",
   "execution_count": 28,
   "id": "174ade90-c51d-4703-829f-12818a2a65b8",
   "metadata": {},
   "outputs": [],
   "source": [
    "res = [x if x%2==0 else 'ODD' for x in range(0,11)]"
   ]
  },
  {
   "cell_type": "code",
   "execution_count": 29,
   "id": "1ff50144-6ffc-404a-a343-b9dfc1684a22",
   "metadata": {},
   "outputs": [
    {
     "data": {
      "text/plain": [
       "[0, 'ODD', 2, 'ODD', 4, 'ODD', 6, 'ODD', 8, 'ODD', 10]"
      ]
     },
     "execution_count": 29,
     "metadata": {},
     "output_type": "execute_result"
    }
   ],
   "source": [
    "res"
   ]
  },
  {
   "cell_type": "code",
   "execution_count": null,
   "id": "c4b70aa8-7dc5-4e6e-8258-f9707d802c13",
   "metadata": {},
   "outputs": [],
   "source": []
  }
 ],
 "metadata": {
  "kernelspec": {
   "display_name": "Python 3 (ipykernel)",
   "language": "python",
   "name": "python3"
  },
  "language_info": {
   "codemirror_mode": {
    "name": "ipython",
    "version": 3
   },
   "file_extension": ".py",
   "mimetype": "text/x-python",
   "name": "python",
   "nbconvert_exporter": "python",
   "pygments_lexer": "ipython3",
   "version": "3.12.7"
  }
 },
 "nbformat": 4,
 "nbformat_minor": 5
}
