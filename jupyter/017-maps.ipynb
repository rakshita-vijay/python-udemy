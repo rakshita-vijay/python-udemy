{
 "cells": [
  {
   "cell_type": "code",
   "execution_count": 1,
   "id": "af9a7f5d-bc9c-4ee8-a404-abd1272e159b",
   "metadata": {},
   "outputs": [],
   "source": [
    "def sq(num):\n",
    "    return num**2"
   ]
  },
  {
   "cell_type": "code",
   "execution_count": 2,
   "id": "06c27ce8-1bfb-49cf-afbe-bc15d3d4b0d8",
   "metadata": {},
   "outputs": [],
   "source": [
    "mynums = [1,2,3,4,5,6]"
   ]
  },
  {
   "cell_type": "code",
   "execution_count": 3,
   "id": "d41b3460-95d0-4843-a60c-2c62d1eddfe3",
   "metadata": {},
   "outputs": [
    {
     "name": "stdout",
     "output_type": "stream",
     "text": [
      "1\n",
      "4\n",
      "9\n",
      "16\n",
      "25\n",
      "36\n"
     ]
    }
   ],
   "source": [
    "for item in map(sq, mynums):\n",
    "    print(item)"
   ]
  },
  {
   "cell_type": "code",
   "execution_count": 6,
   "id": "deef1bec-cfe2-4a6f-b0f7-4c2dc114d168",
   "metadata": {},
   "outputs": [
    {
     "name": "stdout",
     "output_type": "stream",
     "text": [
      "[1, 4, 9, 16, 25, 36]\n"
     ]
    }
   ],
   "source": [
    "print(list(map(sq, mynums)))"
   ]
  },
  {
   "cell_type": "code",
   "execution_count": 7,
   "id": "7288b295-06ee-45ec-8cd3-909b14d2c1d8",
   "metadata": {},
   "outputs": [],
   "source": [
    "def splicer(st):\n",
    "    if len(st)%2==0:\n",
    "        return 'EVEN'\n",
    "    else:\n",
    "        return st[0]"
   ]
  },
  {
   "cell_type": "code",
   "execution_count": 8,
   "id": "e42b78c2-0b9d-4a20-90e6-5a3b2f535bb4",
   "metadata": {},
   "outputs": [],
   "source": [
    "names = ['Eve', 'Sally', 'Andy']"
   ]
  },
  {
   "cell_type": "code",
   "execution_count": 9,
   "id": "700f6505-cd69-4eb1-912a-8a3470c937e7",
   "metadata": {},
   "outputs": [
    {
     "name": "stdout",
     "output_type": "stream",
     "text": [
      "E\n",
      "S\n",
      "EVEN\n"
     ]
    }
   ],
   "source": [
    "for i in map(splicer, names):\n",
    "    print(i)"
   ]
  },
  {
   "cell_type": "code",
   "execution_count": 10,
   "id": "bb3ad221-878a-4959-acd2-855c8f922791",
   "metadata": {},
   "outputs": [
    {
     "data": {
      "text/plain": [
       "['E', 'S', 'EVEN']"
      ]
     },
     "execution_count": 10,
     "metadata": {},
     "output_type": "execute_result"
    }
   ],
   "source": [
    "list(map(splicer, names))"
   ]
  },
  {
   "cell_type": "code",
   "execution_count": 11,
   "id": "3b7773bd-7ef2-4f40-9497-8de826fd6ea9",
   "metadata": {},
   "outputs": [],
   "source": [
    "def check_even(num):\n",
    "    return num%2 == 0"
   ]
  },
  {
   "cell_type": "code",
   "execution_count": 12,
   "id": "1c7baac0-ba07-4534-8457-fcb2c308d8f7",
   "metadata": {},
   "outputs": [],
   "source": [
    "mynums = [1,2,3,4,5,6]"
   ]
  },
  {
   "cell_type": "code",
   "execution_count": 16,
   "id": "f26f288a-9462-4d53-962c-96e86b2d86ec",
   "metadata": {},
   "outputs": [
    {
     "data": {
      "text/plain": [
       "[2, 4, 6]"
      ]
     },
     "execution_count": 16,
     "metadata": {},
     "output_type": "execute_result"
    }
   ],
   "source": [
    "list(filter(check_even, mynums))"
   ]
  },
  {
   "cell_type": "code",
   "execution_count": null,
   "id": "7f20f6b9-6924-4edf-84bf-851daf6e7a84",
   "metadata": {},
   "outputs": [],
   "source": []
  }
 ],
 "metadata": {
  "kernelspec": {
   "display_name": "Python 3 (ipykernel)",
   "language": "python",
   "name": "python3"
  },
  "language_info": {
   "codemirror_mode": {
    "name": "ipython",
    "version": 3
   },
   "file_extension": ".py",
   "mimetype": "text/x-python",
   "name": "python",
   "nbconvert_exporter": "python",
   "pygments_lexer": "ipython3",
   "version": "3.12.7"
  }
 },
 "nbformat": 4,
 "nbformat_minor": 5
}
