{
 "cells": [
  {
   "cell_type": "code",
   "execution_count": 1,
   "id": "52cfb3bf-e984-48e2-8ad5-6aeb2254228f",
   "metadata": {},
   "outputs": [],
   "source": [
    "f1 = open('048B_file_one_zip_unzip.txt', 'w+')\n",
    "f1.write('one file') \n",
    "f1.close()"
   ]
  },
  {
   "cell_type": "code",
   "execution_count": 2,
   "id": "ccb554a1-c7f2-4b45-8780-5e1ac687701e",
   "metadata": {},
   "outputs": [],
   "source": [
    "f2 = open('048C_file_two_zip_unzip.txt', 'w+')\n",
    "f2.write('two file') \n",
    "f2.close()"
   ]
  },
  {
   "cell_type": "code",
   "execution_count": 3,
   "id": "ca403a5e-e7e6-424a-93b6-6058d5f12976",
   "metadata": {},
   "outputs": [],
   "source": [
    "import zipfile \n",
    "# creates a zip file. \n",
    "# you compress individual files and insert them into the zip file"
   ]
  },
  {
   "cell_type": "code",
   "execution_count": 4,
   "id": "54bb6da0-47bb-4000-a70c-d112e5f3d69a",
   "metadata": {},
   "outputs": [],
   "source": [
    "comp_file = zipfile.ZipFile('048D_comp_zip_file.zip', 'w')"
   ]
  },
  {
   "cell_type": "code",
   "execution_count": 5,
   "id": "9e936711-3b64-4708-be91-19434e42016e",
   "metadata": {},
   "outputs": [],
   "source": [
    "comp_file.write('048B_file_one_zip_unzip.txt', compress_type = zipfile.ZIP_DEFLATED)"
   ]
  },
  {
   "cell_type": "code",
   "execution_count": 6,
   "id": "7a9a8925-bb28-4e6e-b84b-4c012b14e888",
   "metadata": {},
   "outputs": [],
   "source": [
    "comp_file.write('048C_file_two_zip_unzip.txt', compress_type = zipfile.ZIP_DEFLATED)"
   ]
  },
  {
   "cell_type": "code",
   "execution_count": 7,
   "id": "d5ddb52b-8feb-4ec4-ae88-3232f26d4d61",
   "metadata": {},
   "outputs": [
    {
     "data": {
      "text/plain": [
       "[<ZipInfo filename='048B_file_one_zip_unzip.txt' compress_type=deflate filemode='-rw-r--r--' file_size=8 compress_size=10>,\n",
       " <ZipInfo filename='048C_file_two_zip_unzip.txt' compress_type=deflate filemode='-rw-r--r--' file_size=8 compress_size=10>]"
      ]
     },
     "execution_count": 7,
     "metadata": {},
     "output_type": "execute_result"
    }
   ],
   "source": [
    "comp_file.filelist"
   ]
  },
  {
   "cell_type": "code",
   "execution_count": 8,
   "id": "1489d236-7c01-46b1-8135-13987f1d7a13",
   "metadata": {},
   "outputs": [],
   "source": [
    "comp_file.close()"
   ]
  },
  {
   "cell_type": "code",
   "execution_count": 9,
   "id": "44965e92-dc8d-42dc-835e-42646ee09754",
   "metadata": {},
   "outputs": [],
   "source": [
    "extr_file = zipfile.ZipFile('048D_comp_zip_file.zip', 'r')"
   ]
  },
  {
   "cell_type": "code",
   "execution_count": 10,
   "id": "358aff39-b674-4a33-81e5-7f9192a3b9dc",
   "metadata": {},
   "outputs": [
    {
     "data": {
      "text/plain": [
       "'/Users/rakshita/dev/rakshita/python-udemy/jupyter/048E_extracted_file_one/048B_file_one_zip_unzip.txt'"
      ]
     },
     "execution_count": 10,
     "metadata": {},
     "output_type": "execute_result"
    }
   ],
   "source": [
    "extr_file.extract('048B_file_one_zip_unzip.txt', path = '/Users/rakshita/dev/rakshita/python-udemy/jupyter/048E_extracted_file_one')"
   ]
  },
  {
   "cell_type": "code",
   "execution_count": 11,
   "id": "b8dd025e-d471-4479-900a-d58a1f15d84b",
   "metadata": {},
   "outputs": [],
   "source": [
    "extr_file.extractall(path = '/Users/rakshita/dev/rakshita/python-udemy/jupyter/048F_extracted_all_files')\n",
    "# can be: extr_file.extractall(path = 'extracted_all_files')"
   ]
  },
  {
   "cell_type": "code",
   "execution_count": 12,
   "id": "f1baa312-46c0-4f7a-923f-6ec6273de425",
   "metadata": {},
   "outputs": [],
   "source": [
    "import shutil"
   ]
  },
  {
   "cell_type": "code",
   "execution_count": 13,
   "id": "0c3ddc45-d38b-4297-b1e5-24dc4affa073",
   "metadata": {},
   "outputs": [],
   "source": [
    "dir_to_zip = '/Users/rakshita/dev/rakshita/python-udemy/jupyter/048F_extracted_all_files'"
   ]
  },
  {
   "cell_type": "code",
   "execution_count": 14,
   "id": "2f045e0c-d8af-44c5-b047-74d037e904d5",
   "metadata": {},
   "outputs": [],
   "source": [
    "rezipped_file = '048G_rezipped_extracted_files' # output/zip file name"
   ]
  },
  {
   "cell_type": "code",
   "execution_count": 15,
   "id": "4c504b23-6a6c-4035-9047-6d891735be66",
   "metadata": {},
   "outputs": [
    {
     "data": {
      "text/plain": [
       "'/Users/rakshita/dev/rakshita/python-udemy/jupyter/048G_rezipped_extracted_files.zip'"
      ]
     },
     "execution_count": 15,
     "metadata": {},
     "output_type": "execute_result"
    }
   ],
   "source": [
    "shutil.make_archive(rezipped_file, 'zip', dir_to_zip)"
   ]
  },
  {
   "cell_type": "code",
   "execution_count": 16,
   "id": "889fef0b-5197-49cf-b022-ace5f5b9f150",
   "metadata": {},
   "outputs": [],
   "source": [
    "shutil.unpack_archive('048G_rezipped_extracted_files.zip', '048H_final_unzipped_files', 'zip')"
   ]
  },
  {
   "cell_type": "code",
   "execution_count": null,
   "id": "945baa9d-3590-4800-ba2b-b54a2dd4e82d",
   "metadata": {},
   "outputs": [],
   "source": []
  }
 ],
 "metadata": {
  "kernelspec": {
   "display_name": "Python 3 (ipykernel)",
   "language": "python",
   "name": "python3"
  },
  "language_info": {
   "codemirror_mode": {
    "name": "ipython",
    "version": 3
   },
   "file_extension": ".py",
   "mimetype": "text/x-python",
   "name": "python",
   "nbconvert_exporter": "python",
   "pygments_lexer": "ipython3",
   "version": "3.12.7"
  }
 },
 "nbformat": 4,
 "nbformat_minor": 5
}
