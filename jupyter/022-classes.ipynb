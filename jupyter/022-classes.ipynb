{
 "cells": [
  {
   "cell_type": "code",
   "execution_count": 35,
   "id": "bd29b0df-ce14-462a-9050-e8613c071083",
   "metadata": {},
   "outputs": [],
   "source": [
    "class Animal(): \n",
    "    # class object instance \n",
    "    # same for any instance of this class\n",
    "    species = \"Mammal\"\n",
    "        \n",
    "    def __init__(self, name = \"Dexter\", tipe = \"Dog\", breed = \"Golden Retriever\", spots = False):\n",
    "        self.name = name\n",
    "        self.tipe = tipe  \n",
    "        self.breed = breed  \n",
    "        self.age = 3\n",
    "        self.spots = spots \n",
    "        \n",
    "    # a method is a function inside a class\n",
    "    def display(self):\n",
    "        spotty = \"have spots\" if self.spots == True else \"don't have spots\"\n",
    "        print(f\"My name is {self.name} and I am a {self.breed} ({self.tipe}). I am {self.age} years old, and I {spotty}.\")\n",
    "        \n",
    "    # def sound(self):\n",
    "    #     if self.tipe.lower() == \"dog\":\n",
    "    #         print(\"Woof!\")\n",
    "    #     elif self.tipe.lower() == \"cat\": \n",
    "    #         print(\"Meow...\")\n",
    "        \n",
    "    def sound(self, number):\n",
    "        if self.tipe.lower() == \"dog\":\n",
    "            print(f\"Woof! The number is {number}\")\n",
    "        elif self.tipe.lower() == \"cat\": \n",
    "            print(f\"Meow... The number is {number}\")\n",
    "        "
   ]
  },
  {
   "cell_type": "code",
   "execution_count": 36,
   "id": "a144a754-8568-4bba-8c73-e7d87aa87cc5",
   "metadata": {},
   "outputs": [],
   "source": [
    "# press Shift + Tab to see the parameters you have to enter/fill in"
   ]
  },
  {
   "cell_type": "code",
   "execution_count": 37,
   "id": "d7bf4f5c-30a7-439e-a493-85fda40b540f",
   "metadata": {},
   "outputs": [],
   "source": [
    "my_doggy = Animal()"
   ]
  },
  {
   "cell_type": "code",
   "execution_count": 38,
   "id": "22572002-2fd2-416a-83c9-1b0a581b7ee4",
   "metadata": {},
   "outputs": [
    {
     "data": {
      "text/plain": [
       "'Dexter'"
      ]
     },
     "execution_count": 38,
     "metadata": {},
     "output_type": "execute_result"
    }
   ],
   "source": [
    "my_doggy.name"
   ]
  },
  {
   "cell_type": "code",
   "execution_count": 39,
   "id": "b07c4c87-8d82-4d9c-a004-cfdbddd17dcd",
   "metadata": {},
   "outputs": [
    {
     "data": {
      "text/plain": [
       "'Golden Retriever'"
      ]
     },
     "execution_count": 39,
     "metadata": {},
     "output_type": "execute_result"
    }
   ],
   "source": [
    "my_doggy.breed"
   ]
  },
  {
   "cell_type": "code",
   "execution_count": 40,
   "id": "1dedf6b5-8efb-4982-b6c8-6f0ec6f753ea",
   "metadata": {},
   "outputs": [
    {
     "data": {
      "text/plain": [
       "__main__.Animal"
      ]
     },
     "execution_count": 40,
     "metadata": {},
     "output_type": "execute_result"
    }
   ],
   "source": [
    "type(my_doggy)"
   ]
  },
  {
   "cell_type": "code",
   "execution_count": 41,
   "id": "12410a08-dfae-46e5-a2a3-638f17d3249c",
   "metadata": {},
   "outputs": [
    {
     "data": {
      "text/plain": [
       "3"
      ]
     },
     "execution_count": 41,
     "metadata": {},
     "output_type": "execute_result"
    }
   ],
   "source": [
    "my_doggy.age"
   ]
  },
  {
   "cell_type": "code",
   "execution_count": 42,
   "id": "1e62f9a4-975e-4e2d-8923-87620d728b80",
   "metadata": {},
   "outputs": [
    {
     "data": {
      "text/plain": [
       "False"
      ]
     },
     "execution_count": 42,
     "metadata": {},
     "output_type": "execute_result"
    }
   ],
   "source": [
    "my_doggy.spots"
   ]
  },
  {
   "cell_type": "code",
   "execution_count": 44,
   "id": "57dfaf3f-a25a-4cdf-8b0e-32dc83110653",
   "metadata": {},
   "outputs": [
    {
     "name": "stdout",
     "output_type": "stream",
     "text": [
      "Woof! The number is 2\n"
     ]
    }
   ],
   "source": [
    "my_doggy.sound(2)"
   ]
  },
  {
   "cell_type": "code",
   "execution_count": 45,
   "id": "fafcfe03-5c1c-466a-8346-8f1bc746800e",
   "metadata": {},
   "outputs": [],
   "source": [
    "my_2nd_dog = Animal(\"Spots\", \"Dog\", \"Dalmatian\", True)"
   ]
  },
  {
   "cell_type": "code",
   "execution_count": 46,
   "id": "325872e4-a26b-49f8-a28c-d56beacf8675",
   "metadata": {},
   "outputs": [
    {
     "data": {
      "text/plain": [
       "('Spots', 'Dog', 'Dalmatian', 3, True)"
      ]
     },
     "execution_count": 46,
     "metadata": {},
     "output_type": "execute_result"
    }
   ],
   "source": [
    "my_2nd_dog.name, my_2nd_dog.tipe, my_2nd_dog.breed, my_2nd_dog.age, my_2nd_dog.spots "
   ]
  },
  {
   "cell_type": "code",
   "execution_count": 47,
   "id": "1a922969-30b5-4cc6-95d9-1906cc02556e",
   "metadata": {
    "jp-MarkdownHeadingCollapsed": true
   },
   "outputs": [
    {
     "name": "stdout",
     "output_type": "stream",
     "text": [
      "My name is Spots and I am a Dalmatian (Dog). I am 3 years old, and I have spots.\n"
     ]
    }
   ],
   "source": [
    "my_2nd_dog.display()"
   ]
  },
  {
   "cell_type": "code",
   "execution_count": 48,
   "id": "ecc9d959-eb89-4648-8f00-31e2eb8827dc",
   "metadata": {},
   "outputs": [
    {
     "data": {
      "text/plain": [
       "3"
      ]
     },
     "execution_count": 48,
     "metadata": {},
     "output_type": "execute_result"
    }
   ],
   "source": [
    "my_2nd_dog.age"
   ]
  },
  {
   "cell_type": "code",
   "execution_count": 49,
   "id": "1caa434a-ce82-41b5-83a2-3c16fbaa8a0e",
   "metadata": {},
   "outputs": [],
   "source": [
    "my_2nd_dog.age = 5"
   ]
  },
  {
   "cell_type": "code",
   "execution_count": 50,
   "id": "6c5b5f06-a18e-4f2f-8f9a-f998dd397236",
   "metadata": {},
   "outputs": [
    {
     "data": {
      "text/plain": [
       "5"
      ]
     },
     "execution_count": 50,
     "metadata": {},
     "output_type": "execute_result"
    }
   ],
   "source": [
    "my_2nd_dog.age"
   ]
  },
  {
   "cell_type": "code",
   "execution_count": 51,
   "id": "d430a3f5-727b-4da0-8d38-92709978a29e",
   "metadata": {},
   "outputs": [
    {
     "data": {
      "text/plain": [
       "'Mammal'"
      ]
     },
     "execution_count": 51,
     "metadata": {},
     "output_type": "execute_result"
    }
   ],
   "source": [
    "my_doggy.species"
   ]
  },
  {
   "cell_type": "code",
   "execution_count": 52,
   "id": "4560d357-b76d-4419-86bf-48797cb5bfcf",
   "metadata": {},
   "outputs": [
    {
     "data": {
      "text/plain": [
       "'Mammal'"
      ]
     },
     "execution_count": 52,
     "metadata": {},
     "output_type": "execute_result"
    }
   ],
   "source": [
    "my_2nd_dog.species"
   ]
  },
  {
   "cell_type": "code",
   "execution_count": 53,
   "id": "e578774d-8bc8-4d34-990c-8c799e9bceda",
   "metadata": {},
   "outputs": [
    {
     "name": "stdout",
     "output_type": "stream",
     "text": [
      "Woof! The number is -1\n"
     ]
    }
   ],
   "source": [
    "my_2nd_dog.sound(-1)"
   ]
  },
  {
   "cell_type": "code",
   "execution_count": 70,
   "id": "6edcb166-934a-47ef-ab86-ce38c82f7b61",
   "metadata": {},
   "outputs": [],
   "source": [
    "class Circle():\n",
    "    # class object attribute\n",
    "    pi = 3.14\n",
    "    \n",
    "    def __init__(self, rad = 1):\n",
    "        self.rad = rad\n",
    "        self.diam = 2 * self.rad # this does not need to be passed by the user, but can be a derived attribute (can also be a constant value)\n",
    "        \n",
    "    def circ(self):\n",
    "        return 2 * self.pi * self.rad\n",
    "        \n",
    "    def areya(self):\n",
    "        return Circle.pi * (self.rad**2) # class object attribute can also be referenced as <Class>.<attribute>"
   ]
  },
  {
   "cell_type": "code",
   "execution_count": 71,
   "id": "f6493f7b-ee68-46a9-9b0c-64f194cd13a2",
   "metadata": {},
   "outputs": [],
   "source": [
    "my_circ = Circle(30)"
   ]
  },
  {
   "cell_type": "code",
   "execution_count": 72,
   "id": "4415e2fa-43f4-4eb0-a062-241612847843",
   "metadata": {},
   "outputs": [
    {
     "data": {
      "text/plain": [
       "(3.14, 30, 60, 188.4, 2826.0)"
      ]
     },
     "execution_count": 72,
     "metadata": {},
     "output_type": "execute_result"
    }
   ],
   "source": [
    "my_circ.pi, my_circ.rad, my_circ.diam, my_circ.circ(), my_circ.areya()"
   ]
  },
  {
   "cell_type": "code",
   "execution_count": null,
   "id": "ca24d85c-314f-4d2f-a3c8-573b880f6ac3",
   "metadata": {},
   "outputs": [],
   "source": []
  },
  {
   "cell_type": "code",
   "execution_count": null,
   "id": "18815a6e-f5a4-4bba-9198-243a07db00a1",
   "metadata": {},
   "outputs": [],
   "source": []
  }
 ],
 "metadata": {
  "kernelspec": {
   "display_name": "Python 3 (ipykernel)",
   "language": "python",
   "name": "python3"
  },
  "language_info": {
   "codemirror_mode": {
    "name": "ipython",
    "version": 3
   },
   "file_extension": ".py",
   "mimetype": "text/x-python",
   "name": "python",
   "nbconvert_exporter": "python",
   "pygments_lexer": "ipython3",
   "version": "3.12.7"
  }
 },
 "nbformat": 4,
 "nbformat_minor": 5
}
