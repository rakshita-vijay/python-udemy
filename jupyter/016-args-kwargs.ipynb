{
 "cells": [
  {
   "cell_type": "code",
   "execution_count": 1,
   "id": "8b946eca-c015-49fe-8eb4-23e8a8a403b1",
   "metadata": {},
   "outputs": [],
   "source": [
    "def to_test_args(*args):\n",
    "    return sum(args) * 0.05"
   ]
  },
  {
   "cell_type": "code",
   "execution_count": 2,
   "id": "06191d77-9a61-44e5-881d-f64eff7e336c",
   "metadata": {},
   "outputs": [
    {
     "data": {
      "text/plain": [
       "10.0"
      ]
     },
     "execution_count": 2,
     "metadata": {},
     "output_type": "execute_result"
    }
   ],
   "source": [
    "to_test_args(40, 60, 100)"
   ]
  },
  {
   "cell_type": "markdown",
   "id": "4ae8b2e6-9b06-4a08-9718-073e015e9455",
   "metadata": {},
   "source": [
    "*args allows you to send a tuple of any length into the function"
   ]
  },
  {
   "cell_type": "markdown",
   "id": "a2048df3-f2f7-4f28-a187-ba771179136c",
   "metadata": {},
   "source": [
    "**kwargs is keyword arguments this builds a dictionary of (key, value) pairs"
   ]
  },
  {
   "cell_type": "code",
   "execution_count": 3,
   "id": "3ca3f1f0-95c3-41d2-866c-a900e2b32c4b",
   "metadata": {},
   "outputs": [],
   "source": [
    "def to_test_kwargs(**kwargs):\n",
    "    if 'fruit' in kwargs:\n",
    "        print(\"My fruit of choice is {}\".format(kwargs['fruit']))\n",
    "    else:\n",
    "        print(\"I did not find any fruit here\")"
   ]
  },
  {
   "cell_type": "code",
   "execution_count": 4,
   "id": "66d88608-ef41-46f0-82d8-d8501f3cbe7a",
   "metadata": {},
   "outputs": [
    {
     "name": "stdout",
     "output_type": "stream",
     "text": [
      "My fruit of choice is mango\n"
     ]
    }
   ],
   "source": [
    "to_test_kwargs(veggie = 'corn', fruit = 'mango')"
   ]
  },
  {
   "cell_type": "code",
   "execution_count": 5,
   "id": "8b454c54-3b6d-4b58-abec-dfb0e81945e6",
   "metadata": {},
   "outputs": [],
   "source": [
    "def args_kwargs(*args, **kwargs):\n",
    "    print(\"I want {} {}\".format(args[0], kwargs['food'])) "
   ]
  },
  {
   "cell_type": "code",
   "execution_count": 6,
   "id": "33ae8424-acc5-40ca-be90-02ea3ba183f2",
   "metadata": {},
   "outputs": [
    {
     "name": "stdout",
     "output_type": "stream",
     "text": [
      "I want 10 pancakes\n"
     ]
    }
   ],
   "source": [
    "args_kwargs(10, 20, 30, food = 'pancakes', animal = 'dog')"
   ]
  },
  {
   "cell_type": "code",
   "execution_count": null,
   "id": "b2aedadf-0317-4b95-b4cf-cc87610d991a",
   "metadata": {},
   "outputs": [],
   "source": []
  }
 ],
 "metadata": {
  "kernelspec": {
   "display_name": "Python 3 (ipykernel)",
   "language": "python",
   "name": "python3"
  },
  "language_info": {
   "codemirror_mode": {
    "name": "ipython",
    "version": 3
   },
   "file_extension": ".py",
   "mimetype": "text/x-python",
   "name": "python",
   "nbconvert_exporter": "python",
   "pygments_lexer": "ipython3",
   "version": "3.12.7"
  }
 },
 "nbformat": 4,
 "nbformat_minor": 5
}
