{
 "cells": [
  {
   "cell_type": "markdown",
   "id": "4b696511-dba5-47db-9e21-258f0f47973b",
   "metadata": {},
   "source": [
    "LEGB: Local, Enclosing, Global, Built-in"
   ]
  },
  {
   "cell_type": "code",
   "execution_count": 1,
   "id": "a3dcd85b-864d-461b-b537-8918d21fd4b5",
   "metadata": {},
   "outputs": [],
   "source": [
    "x = 25"
   ]
  },
  {
   "cell_type": "code",
   "execution_count": 2,
   "id": "245d3ce8-2459-43e9-a3b8-8765059fce2a",
   "metadata": {},
   "outputs": [],
   "source": [
    "def printer():\n",
    "    x = 50\n",
    "    return x"
   ]
  },
  {
   "cell_type": "code",
   "execution_count": 3,
   "id": "5fa35437-ef8d-4d27-aa9f-2b1f1c5715b0",
   "metadata": {},
   "outputs": [
    {
     "data": {
      "text/plain": [
       "25"
      ]
     },
     "execution_count": 3,
     "metadata": {},
     "output_type": "execute_result"
    }
   ],
   "source": [
    "x"
   ]
  },
  {
   "cell_type": "code",
   "execution_count": 4,
   "id": "f833353a-3a52-4dca-b480-491acdffe6c7",
   "metadata": {},
   "outputs": [
    {
     "data": {
      "text/plain": [
       "50"
      ]
     },
     "execution_count": 4,
     "metadata": {},
     "output_type": "execute_result"
    }
   ],
   "source": [
    "printer()"
   ]
  },
  {
   "cell_type": "code",
   "execution_count": 5,
   "id": "542cea71-3264-4492-bce2-134065bd8027",
   "metadata": {},
   "outputs": [
    {
     "data": {
      "text/plain": [
       "25"
      ]
     },
     "execution_count": 5,
     "metadata": {},
     "output_type": "execute_result"
    }
   ],
   "source": [
    "x"
   ]
  },
  {
   "cell_type": "code",
   "execution_count": 13,
   "id": "a7b18357-157d-48b1-89a6-84cd64786dba",
   "metadata": {},
   "outputs": [
    {
     "name": "stdout",
     "output_type": "stream",
     "text": [
      "Hello global kid\n"
     ]
    }
   ],
   "source": [
    "# GLOBAL VARIABLE\n",
    "nam = \"global kid\"\n",
    "def greet():\n",
    "    # ENCLOSED VARIABLE\n",
    "    # nam = \"enclosed kid\"\n",
    "\n",
    "    def hello():\n",
    "        # LOCAL VARIABLE\n",
    "        # nam = \"local kid\"\n",
    "        \n",
    "        print(\"Hello \" + nam)\n",
    "    hello()\n",
    "    \n",
    "greet()"
   ]
  },
  {
   "cell_type": "code",
   "execution_count": 18,
   "id": "91d74b21-2e71-496c-ac7e-715b9f811825",
   "metadata": {},
   "outputs": [],
   "source": [
    "nam = 5\n",
    "def changer(): \n",
    "    global nam\n",
    "    nam = \"new kid\" \n",
    "    print(\"Hello \" + nam) "
   ]
  },
  {
   "cell_type": "code",
   "execution_count": 19,
   "id": "79d4dbce-140c-4418-be9d-0181806da283",
   "metadata": {},
   "outputs": [
    {
     "data": {
      "text/plain": [
       "5"
      ]
     },
     "execution_count": 19,
     "metadata": {},
     "output_type": "execute_result"
    }
   ],
   "source": [
    "nam"
   ]
  },
  {
   "cell_type": "code",
   "execution_count": 20,
   "id": "c07c549b-c4d0-4d01-9815-dfa1c007748b",
   "metadata": {},
   "outputs": [
    {
     "name": "stdout",
     "output_type": "stream",
     "text": [
      "Hello new kid\n"
     ]
    }
   ],
   "source": [
    "changer()"
   ]
  },
  {
   "cell_type": "code",
   "execution_count": 21,
   "id": "3c0faaf5-a83d-4b61-85af-59dc6696df8b",
   "metadata": {},
   "outputs": [
    {
     "data": {
      "text/plain": [
       "'new kid'"
      ]
     },
     "execution_count": 21,
     "metadata": {},
     "output_type": "execute_result"
    }
   ],
   "source": [
    "nam"
   ]
  },
  {
   "cell_type": "code",
   "execution_count": null,
   "id": "6bf7680b-ded6-4ed0-9bcd-eaa98626d7b6",
   "metadata": {},
   "outputs": [],
   "source": []
  }
 ],
 "metadata": {
  "kernelspec": {
   "display_name": "Python 3 (ipykernel)",
   "language": "python",
   "name": "python3"
  },
  "language_info": {
   "codemirror_mode": {
    "name": "ipython",
    "version": 3
   },
   "file_extension": ".py",
   "mimetype": "text/x-python",
   "name": "python",
   "nbconvert_exporter": "python",
   "pygments_lexer": "ipython3",
   "version": "3.12.7"
  }
 },
 "nbformat": 4,
 "nbformat_minor": 5
}
