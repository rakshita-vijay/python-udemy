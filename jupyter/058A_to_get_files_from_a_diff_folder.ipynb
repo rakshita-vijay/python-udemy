{
 "cells": [
  {
   "cell_type": "code",
   "execution_count": 1,
   "id": "3ca568fc-4d4e-4516-a3b2-f71ea5877b9f",
   "metadata": {},
   "outputs": [],
   "source": [
    "import os\n",
    "import zipfile\n",
    "import re\n",
    "\n",
    "zip_file = zipfile.ZipFile(\"058B_zippy.zip\", 'w')\n",
    "base_dir = \"/Users/rakshita/Downloads/Complete-Python-3-Bootcamp-master/15-PDFs-and-Spreadsheets\"\n",
    "\n",
    "for folder, _ , files in os.walk(base_dir):\n",
    "    for file in files:\n",
    "        if not re.search(r'\\.ipynb$', str(file)): \n",
    "            file_path = os.path.join(folder, file)\n",
    "            arcname = os.path.relpath(file_path, base_dir)\n",
    "            zip_file.write(file_path, arcname=arcname, compress_type = zipfile.ZIP_DEFLATED) \n",
    "zip_file.close()"
   ]
  },
  {
   "cell_type": "code",
   "execution_count": 2,
   "id": "a6c2a3d6-aacb-440e-9990-7d26289a0190",
   "metadata": {},
   "outputs": [
    {
     "data": {
      "text/plain": [
       "['example.csv',\n",
       " 'Some_BrandNew_Doc.pdf',\n",
       " 'Some_new_file.pdf',\n",
       " 'Working_Business_Proposal.pdf',\n",
       " 'makeup_new.csv',\n",
       " 'to_save_file.csv',\n",
       " 'Some_New_Doc.pdf',\n",
       " 'Exercise_Files/Find_the_Phone_Number.pdf',\n",
       " 'Exercise_Files/find_the_link.csv']"
      ]
     },
     "execution_count": 2,
     "metadata": {},
     "output_type": "execute_result"
    }
   ],
   "source": [
    "zip_file = zipfile.ZipFile(\"058B_zippy.zip\", 'r')\n",
    "zip_file.namelist()"
   ]
  },
  {
   "cell_type": "code",
   "execution_count": 3,
   "id": "943a4803-abfc-4ce0-b245-a7f729b42bac",
   "metadata": {},
   "outputs": [],
   "source": [
    "zip_file.extractall(path = \"/Users/rakshita/dev/rakshita/python-udemy/jupyter/O58C_extracted_zippy\")"
   ]
  },
  {
   "cell_type": "code",
   "execution_count": 4,
   "id": "be254085-0669-4fdf-a3a3-36cb18d867c0",
   "metadata": {},
   "outputs": [
    {
     "data": {
      "text/plain": [
       "[<ZipInfo filename='example.csv' compress_type=deflate filemode='-rw-rw-r--' file_size=72404 compress_size=36107>,\n",
       " <ZipInfo filename='Some_BrandNew_Doc.pdf' compress_type=deflate filemode='-rw-rw-r--' file_size=19760 compress_size=17828>,\n",
       " <ZipInfo filename='Some_new_file.pdf' compress_type=deflate filemode='-rw-rw-r--' file_size=19760 compress_size=17828>,\n",
       " <ZipInfo filename='Working_Business_Proposal.pdf' compress_type=deflate filemode='-rw-rw-r--' file_size=31633 compress_size=28039>,\n",
       " <ZipInfo filename='makeup_new.csv' compress_type=deflate filemode='-rw-rw-r--' file_size=33 compress_size=32>,\n",
       " <ZipInfo filename='to_save_file.csv' compress_type=deflate filemode='-rw-rw-r--' file_size=24 compress_size=20>,\n",
       " <ZipInfo filename='Some_New_Doc.pdf' compress_type=deflate filemode='-rw-rw-r--' file_size=11777 compress_size=10617>,\n",
       " <ZipInfo filename='Exercise_Files/Find_the_Phone_Number.pdf' compress_type=deflate filemode='-rw-rw-r--' file_size=144622 compress_size=132022>,\n",
       " <ZipInfo filename='Exercise_Files/find_the_link.csv' compress_type=deflate filemode='-rw-rw-r--' file_size=12572 compress_size=5252>]"
      ]
     },
     "execution_count": 4,
     "metadata": {},
     "output_type": "execute_result"
    }
   ],
   "source": [
    "zip_file.filelist"
   ]
  },
  {
   "cell_type": "code",
   "execution_count": null,
   "id": "f6b75541-54bd-4c42-bbd6-5912889704cb",
   "metadata": {},
   "outputs": [],
   "source": []
  },
  {
   "cell_type": "code",
   "execution_count": null,
   "id": "1b42dca9-1db4-4ae7-9bbd-e36d31d474ec",
   "metadata": {},
   "outputs": [],
   "source": []
  }
 ],
 "metadata": {
  "kernelspec": {
   "display_name": "Python 3 (ipykernel)",
   "language": "python",
   "name": "python3"
  },
  "language_info": {
   "codemirror_mode": {
    "name": "ipython",
    "version": 3
   },
   "file_extension": ".py",
   "mimetype": "text/x-python",
   "name": "python",
   "nbconvert_exporter": "python",
   "pygments_lexer": "ipython3",
   "version": "3.12.7"
  }
 },
 "nbformat": 4,
 "nbformat_minor": 5
}
