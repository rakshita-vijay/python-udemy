{
 "cells": [
  {
   "cell_type": "code",
   "execution_count": 1,
   "id": "1970f6f6-85af-4f00-91a6-39d47df14710",
   "metadata": {},
   "outputs": [
    {
     "data": {
      "text/plain": [
       "True"
      ]
     },
     "execution_count": 1,
     "metadata": {},
     "output_type": "execute_result"
    }
   ],
   "source": [
    "'dog' in'my name is doggy'"
   ]
  },
  {
   "cell_type": "code",
   "execution_count": 3,
   "id": "93a59457-413c-470d-9ebc-3d20a4fda12d",
   "metadata": {},
   "outputs": [
    {
     "data": {
      "text/plain": [
       "True"
      ]
     },
     "execution_count": 3,
     "metadata": {},
     "output_type": "execute_result"
    }
   ],
   "source": [
    "'dog' in'my name is doggy'"
   ]
  },
  {
   "cell_type": "code",
   "execution_count": 18,
   "id": "09f848b3-a747-4451-9e80-5c3a771eb1f0",
   "metadata": {},
   "outputs": [
    {
     "data": {
      "text/plain": [
       "<re.Match object; span=(10, 15), match='phone'>"
      ]
     },
     "execution_count": 18,
     "metadata": {},
     "output_type": "execute_result"
    }
   ],
   "source": [
    "import re\n",
    "text = \"my boss's phone number is 408-555-1234\"\n",
    "pattern = \"phone\"\n",
    "\n",
    "match = re.search(pattern, text)\n",
    "match"
   ]
  },
  {
   "cell_type": "code",
   "execution_count": 19,
   "id": "3e25eeca-757c-4b77-adea-70db905e2f9c",
   "metadata": {},
   "outputs": [
    {
     "data": {
      "text/plain": [
       "(10, 15)"
      ]
     },
     "execution_count": 19,
     "metadata": {},
     "output_type": "execute_result"
    }
   ],
   "source": [
    "match.span()"
   ]
  },
  {
   "cell_type": "code",
   "execution_count": 20,
   "id": "8c13bb44-c4ee-4a64-8ac0-ca47d00449dc",
   "metadata": {},
   "outputs": [
    {
     "data": {
      "text/plain": [
       "10"
      ]
     },
     "execution_count": 20,
     "metadata": {},
     "output_type": "execute_result"
    }
   ],
   "source": [
    "match.start()"
   ]
  },
  {
   "cell_type": "code",
   "execution_count": 21,
   "id": "2e780687-f5c7-491f-b9a1-4ad9777f4329",
   "metadata": {},
   "outputs": [
    {
     "data": {
      "text/plain": [
       "15"
      ]
     },
     "execution_count": 21,
     "metadata": {},
     "output_type": "execute_result"
    }
   ],
   "source": [
    "match.end()"
   ]
  },
  {
   "cell_type": "code",
   "execution_count": 22,
   "id": "29827875-121d-41db-950b-81cf68402a85",
   "metadata": {},
   "outputs": [
    {
     "data": {
      "text/plain": [
       "<re.Match object; span=(3, 8), match='phone'>"
      ]
     },
     "execution_count": 22,
     "metadata": {},
     "output_type": "execute_result"
    }
   ],
   "source": [
    "text = \"my phone once, my phone twice\"\n",
    "pattern = \"phone\"\n",
    "\n",
    "match = re.search(pattern, text)\n",
    "match"
   ]
  },
  {
   "cell_type": "code",
   "execution_count": 25,
   "id": "24bb04ea-a961-4fda-b560-697bedd09b4d",
   "metadata": {},
   "outputs": [
    {
     "data": {
      "text/plain": [
       "['phone', 'phone']"
      ]
     },
     "execution_count": 25,
     "metadata": {},
     "output_type": "execute_result"
    }
   ],
   "source": [
    "matches = re.findall(pattern, text)\n",
    "matches"
   ]
  },
  {
   "cell_type": "code",
   "execution_count": 27,
   "id": "39f749ee-1a73-4a5a-8c8a-a8b89cc02eb5",
   "metadata": {},
   "outputs": [
    {
     "name": "stdout",
     "output_type": "stream",
     "text": [
      "(3, 8)\n",
      "(18, 23)\n"
     ]
    }
   ],
   "source": [
    "for match in re.finditer(pattern, text):\n",
    "    print(match.span())"
   ]
  },
  {
   "cell_type": "code",
   "execution_count": null,
   "id": "0f2840ee-16f5-467b-a102-5bc3d23c3b94",
   "metadata": {},
   "outputs": [],
   "source": []
  },
  {
   "cell_type": "code",
   "execution_count": 31,
   "id": "266b48e4-fdf4-4d9c-ac00-7c0323d761d2",
   "metadata": {},
   "outputs": [],
   "source": [
    "import re\n",
    "text = \"my boss's phone number is 408-555-1234\" \n",
    "\n",
    "pattern_not_there = \"phones\"\n",
    "\n",
    "re.search(pattern_not_there, text) "
   ]
  },
  {
   "cell_type": "code",
   "execution_count": 34,
   "id": "9d2f4ebe-72e0-4c0d-9209-8f824361e533",
   "metadata": {},
   "outputs": [
    {
     "data": {
      "text/plain": [
       "<re.Match object; span=(0, 14), match='(555)-555-5555'>"
      ]
     },
     "execution_count": 34,
     "metadata": {},
     "output_type": "execute_result"
    }
   ],
   "source": [
    "import re\n",
    "text = \"(555)-555-5555\"\n",
    "pattern = r'\\(\\d\\d\\d\\)-\\d\\d\\d-\\d\\d\\d\\d'\n",
    "\n",
    "re.search(pattern, text)"
   ]
  },
  {
   "cell_type": "code",
   "execution_count": 38,
   "id": "a118097b-7f3b-40b9-9910-f4066dbf2405",
   "metadata": {},
   "outputs": [
    {
     "data": {
      "text/plain": [
       "<re.Match object; span=(0, 14), match='(555)-555-5555'>"
      ]
     },
     "execution_count": 38,
     "metadata": {},
     "output_type": "execute_result"
    }
   ],
   "source": [
    "import re\n",
    "text = \"(555)-555-5555\"\n",
    "pattern = r'\\(\\d{3}\\)-\\d{3}-\\d\\d{3}'\n",
    "\n",
    "phone = re.search(pattern, text)\n",
    "phone"
   ]
  },
  {
   "cell_type": "code",
   "execution_count": 41,
   "id": "6f5955d0-dfab-4969-bbe9-6903b95988f1",
   "metadata": {},
   "outputs": [
    {
     "data": {
      "text/plain": [
       "'(555)-555-5555'"
      ]
     },
     "execution_count": 41,
     "metadata": {},
     "output_type": "execute_result"
    }
   ],
   "source": [
    "phone.group()"
   ]
  },
  {
   "cell_type": "code",
   "execution_count": 42,
   "id": "1c9d03b8-a8b6-49cc-bc9b-17fe5f11c3f9",
   "metadata": {},
   "outputs": [
    {
     "data": {
      "text/plain": [
       "<re.Match object; span=(0, 12), match='555-555-5555'>"
      ]
     },
     "execution_count": 42,
     "metadata": {},
     "output_type": "execute_result"
    }
   ],
   "source": [
    "import re\n",
    "text = \"555-555-5555\"\n",
    "pattern = r'\\(?\\d{3}\\)?-\\d{3}-\\d\\d{3}'\n",
    "\n",
    "phone = re.search(pattern, text)\n",
    "phone"
   ]
  },
  {
   "cell_type": "code",
   "execution_count": 75,
   "id": "9ddbe48e-fa94-4571-ae25-12d69bba7e5e",
   "metadata": {},
   "outputs": [],
   "source": [
    "phone_pattern = re.compile(r'(\\d{3})-(\\d{3})-(\\d{4})')\n",
    "text = \"123-456-7890\""
   ]
  },
  {
   "cell_type": "code",
   "execution_count": 76,
   "id": "66a2061e-1633-4cb8-828a-97b6953148a7",
   "metadata": {},
   "outputs": [],
   "source": [
    "res = re.search(phone_pattern, text)"
   ]
  },
  {
   "cell_type": "code",
   "execution_count": 77,
   "id": "f47191c8-3163-41e4-a37a-e407531db568",
   "metadata": {},
   "outputs": [
    {
     "data": {
      "text/plain": [
       "'123-456-7890'"
      ]
     },
     "execution_count": 77,
     "metadata": {},
     "output_type": "execute_result"
    }
   ],
   "source": [
    "res.group()"
   ]
  },
  {
   "cell_type": "code",
   "execution_count": 78,
   "id": "a612e1ff-3f0b-483e-b5ba-a0e4474c137a",
   "metadata": {},
   "outputs": [
    {
     "data": {
      "text/plain": [
       "'123'"
      ]
     },
     "execution_count": 78,
     "metadata": {},
     "output_type": "execute_result"
    }
   ],
   "source": [
    "res.group(1)"
   ]
  },
  {
   "cell_type": "code",
   "execution_count": 82,
   "id": "7142c3e1-330a-432b-89a0-de3786e35b63",
   "metadata": {},
   "outputs": [
    {
     "data": {
      "text/plain": [
       "<re.Match object; span=(4, 6), match='ca'>"
      ]
     },
     "execution_count": 82,
     "metadata": {},
     "output_type": "execute_result"
    }
   ],
   "source": [
    "re.search(r'cat*', 'the ca is here')"
   ]
  },
  {
   "cell_type": "code",
   "execution_count": 84,
   "id": "4fd76c8c-66e2-43b5-a06d-6c96ee0b9909",
   "metadata": {},
   "outputs": [
    {
     "data": {
      "text/plain": [
       "<re.Match object; span=(4, 9), match='cattt'>"
      ]
     },
     "execution_count": 84,
     "metadata": {},
     "output_type": "execute_result"
    }
   ],
   "source": [
    "re.search(r'cat+', 'the cattt is here')"
   ]
  },
  {
   "cell_type": "code",
   "execution_count": 85,
   "id": "7502b4a8-0b89-4329-8867-0bcf418d4978",
   "metadata": {},
   "outputs": [
    {
     "data": {
      "text/plain": [
       "<re.Match object; span=(4, 6), match='ca'>"
      ]
     },
     "execution_count": 85,
     "metadata": {},
     "output_type": "execute_result"
    }
   ],
   "source": [
    "re.search(r'cat?', 'the ca is here')"
   ]
  },
  {
   "cell_type": "code",
   "execution_count": 86,
   "id": "22619d75-6a79-4130-ad3e-5200835b14f9",
   "metadata": {},
   "outputs": [
    {
     "data": {
      "text/plain": [
       "<re.Match object; span=(4, 7), match='cat'>"
      ]
     },
     "execution_count": 86,
     "metadata": {},
     "output_type": "execute_result"
    }
   ],
   "source": [
    "re.search(r'cat?', 'the cat is here')"
   ]
  },
  {
   "cell_type": "code",
   "execution_count": 87,
   "id": "6cc93d86-876a-44c1-acc4-c6e9dd103559",
   "metadata": {},
   "outputs": [
    {
     "data": {
      "text/plain": [
       "<re.Match object; span=(4, 7), match='dog'>"
      ]
     },
     "execution_count": 87,
     "metadata": {},
     "output_type": "execute_result"
    }
   ],
   "source": [
    "re.search(r'cat|dog', 'the dog is here')"
   ]
  },
  {
   "cell_type": "code",
   "execution_count": 92,
   "id": "1e4a484e-3fe3-4426-8105-6a6bd1820cb2",
   "metadata": {},
   "outputs": [
    {
     "data": {
      "text/plain": [
       "['cat', 'hat', 'sat', 'lat', ' at', 'bat']"
      ]
     },
     "execution_count": 92,
     "metadata": {},
     "output_type": "execute_result"
    }
   ],
   "source": [
    "# wildcard operator\n",
    "re.findall(r'.at', 'the cat in the hat sat and went splat at the bat')"
   ]
  },
  {
   "cell_type": "code",
   "execution_count": 105,
   "id": "7a6072c3-db85-44a5-9aee-641829405179",
   "metadata": {},
   "outputs": [
    {
     "data": {
      "text/plain": [
       "['11']"
      ]
     },
     "execution_count": 105,
     "metadata": {},
     "output_type": "execute_result"
    }
   ],
   "source": [
    "# ^ means \"start of the string\"\n",
    "re.findall(r'^\\d+', '11 starts hehehe')"
   ]
  },
  {
   "cell_type": "code",
   "execution_count": 98,
   "id": "dcdf51a3-8102-42e3-b79c-5538829d631a",
   "metadata": {},
   "outputs": [
    {
     "data": {
      "text/plain": [
       "[]"
      ]
     },
     "execution_count": 98,
     "metadata": {},
     "output_type": "execute_result"
    }
   ],
   "source": [
    "re.findall(r'^\\d', 'the 1 does not start hehehe')"
   ]
  },
  {
   "cell_type": "code",
   "execution_count": 107,
   "id": "086ababd-da5e-4b04-bda9-875c372276e6",
   "metadata": {},
   "outputs": [
    {
     "data": {
      "text/plain": [
       "['11']"
      ]
     },
     "execution_count": 107,
     "metadata": {},
     "output_type": "execute_result"
    }
   ],
   "source": [
    "# $ means \"end of the string\"\n",
    "re.findall(r'\\d+$', 'ends with 11')"
   ]
  },
  {
   "cell_type": "code",
   "execution_count": 104,
   "id": "65b2691d-7c8a-4a4a-9d47-d4e160caa0da",
   "metadata": {},
   "outputs": [
    {
     "data": {
      "text/plain": [
       "[]"
      ]
     },
     "execution_count": 104,
     "metadata": {},
     "output_type": "execute_result"
    }
   ],
   "source": [
    "re.findall(r'\\d$', 'does not end with 11 hehehe')"
   ]
  },
  {
   "cell_type": "code",
   "execution_count": 108,
   "id": "cb5daa7b-d9bf-4dd5-b528-7da057b6a7b2",
   "metadata": {},
   "outputs": [],
   "source": [
    "phrase = \"there are 3 numbers: 34 and 5, in this sentence\""
   ]
  },
  {
   "cell_type": "code",
   "execution_count": 109,
   "id": "de551ce8-5c5e-41f5-b13a-68aca62290e9",
   "metadata": {},
   "outputs": [],
   "source": [
    "pattern = r'[^\\d]+'"
   ]
  },
  {
   "cell_type": "code",
   "execution_count": 110,
   "id": "8aa7ea6c-07ba-4963-86f1-adbb30e7889e",
   "metadata": {},
   "outputs": [
    {
     "data": {
      "text/plain": [
       "['there are ', ' numbers: ', ' and ', ', in this sentence']"
      ]
     },
     "execution_count": 110,
     "metadata": {},
     "output_type": "execute_result"
    }
   ],
   "source": [
    "re.findall(pattern, phrase)"
   ]
  },
  {
   "cell_type": "code",
   "execution_count": 117,
   "id": "65d67d2c-11ab-402c-9997-da91afb4b754",
   "metadata": {},
   "outputs": [],
   "source": [
    "phrase = \"there are so many, many, many punctuations in this sentence! whatever shall we do? we must remove them... right???\""
   ]
  },
  {
   "cell_type": "code",
   "execution_count": 121,
   "id": "686e5261-7c32-40da-9467-edb8957743b5",
   "metadata": {},
   "outputs": [],
   "source": [
    "pattern = r'[^?.!, ]+'"
   ]
  },
  {
   "cell_type": "code",
   "execution_count": 122,
   "id": "513e1ff7-6326-483f-ace1-2b17499f05c7",
   "metadata": {},
   "outputs": [
    {
     "data": {
      "text/plain": [
       "['there',\n",
       " 'are',\n",
       " 'so',\n",
       " 'many',\n",
       " 'many',\n",
       " 'many',\n",
       " 'punctuations',\n",
       " 'in',\n",
       " 'this',\n",
       " 'sentence',\n",
       " 'whatever',\n",
       " 'shall',\n",
       " 'we',\n",
       " 'do',\n",
       " 'we',\n",
       " 'must',\n",
       " 'remove',\n",
       " 'them',\n",
       " 'right']"
      ]
     },
     "execution_count": 122,
     "metadata": {},
     "output_type": "execute_result"
    }
   ],
   "source": [
    "re.findall(pattern, phrase)"
   ]
  },
  {
   "cell_type": "code",
   "execution_count": 126,
   "id": "1c7c6c16-2ab2-431f-a28e-5db5573ca5dd",
   "metadata": {},
   "outputs": [
    {
     "data": {
      "text/plain": [
       "'there are so many many many punctuations in this sentence whatever shall we do we must remove them right'"
      ]
     },
     "execution_count": 126,
     "metadata": {},
     "output_type": "execute_result"
    }
   ],
   "source": [
    "' '.join(re.findall(pattern, phrase))"
   ]
  },
  {
   "cell_type": "code",
   "execution_count": 174,
   "id": "903e825d-e1a0-481d-a106-6fd749cb5a14",
   "metadata": {},
   "outputs": [],
   "source": [
    "texty = 'there are many, many hyphenated-words in this hyphenated-sentence. But do you know how long this hyphenated-sentence is?'\n",
    "patty = r'[\\w]+-[\\w]+'\n",
    "up_patty = r'[\\d\\w]+'"
   ]
  },
  {
   "cell_type": "code",
   "execution_count": 175,
   "id": "c39e49d7-5753-466c-8a20-3ed676281e20",
   "metadata": {},
   "outputs": [
    {
     "data": {
      "text/plain": [
       "['there',\n",
       " 'are',\n",
       " 'many',\n",
       " 'many',\n",
       " 'hyphenated',\n",
       " 'words',\n",
       " 'in',\n",
       " 'this',\n",
       " 'hyphenated',\n",
       " 'sentence',\n",
       " 'But',\n",
       " 'do',\n",
       " 'you',\n",
       " 'know',\n",
       " 'how',\n",
       " 'long',\n",
       " 'this',\n",
       " 'hyphenated',\n",
       " 'sentence',\n",
       " 'is']"
      ]
     },
     "execution_count": 175,
     "metadata": {},
     "output_type": "execute_result"
    }
   ],
   "source": [
    "re.findall(up_patty, texty)"
   ]
  },
  {
   "cell_type": "code",
   "execution_count": 172,
   "id": "24bc08fd-7037-4170-a04d-1a703ed940ca",
   "metadata": {},
   "outputs": [
    {
     "data": {
      "text/plain": [
       "['hyphenated-words', 'hyphenated-sentence', 'hyphenated-sentence']"
      ]
     },
     "execution_count": 172,
     "metadata": {},
     "output_type": "execute_result"
    }
   ],
   "source": [
    "re.findall(patty, texty)"
   ]
  },
  {
   "cell_type": "code",
   "execution_count": 146,
   "id": "21a8c2f6-fb40-4110-916d-ab34c49ba5c1",
   "metadata": {},
   "outputs": [
    {
     "data": {
      "text/plain": [
       "['hyphenated-words', 'hyphenated-sentence', 'hyphenated-sentence']"
      ]
     },
     "execution_count": 146,
     "metadata": {},
     "output_type": "execute_result"
    }
   ],
   "source": [
    "patty = r'\\w+-\\w+'\n",
    "re.findall(patty, texty)"
   ]
  },
  {
   "cell_type": "code",
   "execution_count": 177,
   "id": "cd2865b4-8ef5-416d-963e-d76d1633329b",
   "metadata": {},
   "outputs": [],
   "source": [
    "textone = 'Hello, would you like some catfish?'\n",
    "texttwo = \"Hello, would you like to take a catnap?\"\n",
    "textthree = \"Hello, have you seen this caterpillar?\""
   ]
  },
  {
   "cell_type": "code",
   "execution_count": 180,
   "id": "72e6ad3a-59f9-419e-84ea-57332fd7ea85",
   "metadata": {},
   "outputs": [
    {
     "data": {
      "text/plain": [
       "['catfish']"
      ]
     },
     "execution_count": 180,
     "metadata": {},
     "output_type": "execute_result"
    }
   ],
   "source": [
    "re.findall(r'cat\\w*', textone)"
   ]
  },
  {
   "cell_type": "code",
   "execution_count": 188,
   "id": "2e56074e-d66f-4f61-b75f-18186534b962",
   "metadata": {},
   "outputs": [
    {
     "name": "stdout",
     "output_type": "stream",
     "text": [
      "<re.Match object; span=(27, 34), match='catfish'>\n",
      "<re.Match object; span=(32, 38), match='catnap'>\n",
      "None\n"
     ]
    },
    {
     "data": {
      "text/plain": [
       "<re.Match object; span=(26, 37), match='caterpillar'>"
      ]
     },
     "execution_count": 188,
     "metadata": {},
     "output_type": "execute_result"
    }
   ],
   "source": [
    "print(re.search(r'cat(fish|nap|claw)', textone))\n",
    "print(re.search(r'cat(fish|nap|claw)', texttwo))\n",
    "print(re.search(r'cat(fish|nap|claw)', textthree))\n",
    "print(re.search(r'cat(fish|nap|.*pillar)', textthree))"
   ]
  },
  {
   "cell_type": "code",
   "execution_count": 189,
   "id": "5e8b8d99-ef2e-4b06-8597-321a52a58a96",
   "metadata": {},
   "outputs": [
    {
     "data": {
      "text/plain": [
       "['fish']"
      ]
     },
     "execution_count": 189,
     "metadata": {},
     "output_type": "execute_result"
    }
   ],
   "source": [
    "re.findall(r'cat(fish|nap|claw)', textone)"
   ]
  },
  {
   "cell_type": "code",
   "execution_count": null,
   "id": "9351b08b-d5c2-4432-b54c-66c2d307df86",
   "metadata": {},
   "outputs": [],
   "source": []
  }
 ],
 "metadata": {
  "kernelspec": {
   "display_name": "Python 3 (ipykernel)",
   "language": "python",
   "name": "python3"
  },
  "language_info": {
   "codemirror_mode": {
    "name": "ipython",
    "version": 3
   },
   "file_extension": ".py",
   "mimetype": "text/x-python",
   "name": "python",
   "nbconvert_exporter": "python",
   "pygments_lexer": "ipython3",
   "version": "3.12.7"
  }
 },
 "nbformat": 4,
 "nbformat_minor": 5
}
