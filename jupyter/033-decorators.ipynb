{
 "cells": [
  {
   "cell_type": "code",
   "execution_count": 22,
   "id": "36f40293-aa76-4e46-8a10-cf6119e3ed56",
   "metadata": {},
   "outputs": [],
   "source": [
    "def hello(name = \"default\"):\n",
    "    print(f\"Hello {name}, this is inside the hello() function\")\n",
    "\n",
    "    def greet():\n",
    "        return '\\t This is inside the greet() function'\n",
    "        \n",
    "    def welcome():\n",
    "        return '\\t This is inside the welcome() function'\n",
    "        \n",
    "    print(\"I am going to return a function\")\n",
    "    \n",
    "    if name == \"default\":\n",
    "        return greet \n",
    "    else:\n",
    "        return welcome "
   ]
  },
  {
   "cell_type": "code",
   "execution_count": 23,
   "id": "c6379b83-5ef1-42e0-9f50-8c618027ab65",
   "metadata": {},
   "outputs": [
    {
     "name": "stdout",
     "output_type": "stream",
     "text": [
      "Hello default, this is inside the hello() function\n",
      "I am going to return a function\n"
     ]
    }
   ],
   "source": [
    "myFuncResp = hello()"
   ]
  },
  {
   "cell_type": "code",
   "execution_count": 25,
   "id": "d4d40170-d21e-4529-8351-7ffce115c183",
   "metadata": {},
   "outputs": [
    {
     "name": "stdout",
     "output_type": "stream",
     "text": [
      "\t This is inside the greet() function\n"
     ]
    }
   ],
   "source": [
    "print(myFuncResp())"
   ]
  },
  {
   "cell_type": "code",
   "execution_count": 26,
   "id": "3883fee1-a162-480c-a59f-a272f7ed7b88",
   "metadata": {},
   "outputs": [],
   "source": [
    "def cool():\n",
    "    def super_cool():\n",
    "        print(\"I am super cool!\")\n",
    "    return super_cool"
   ]
  },
  {
   "cell_type": "code",
   "execution_count": 27,
   "id": "1416e309-e441-4fbf-8c1a-1e98450f579d",
   "metadata": {},
   "outputs": [],
   "source": [
    "coolPerson = cool()"
   ]
  },
  {
   "cell_type": "code",
   "execution_count": 28,
   "id": "d5010fbb-59df-43f3-a1f4-304b019353ab",
   "metadata": {},
   "outputs": [
    {
     "name": "stdout",
     "output_type": "stream",
     "text": [
      "<function cool.<locals>.super_cool at 0x1129458a0>\n"
     ]
    }
   ],
   "source": [
    "print(coolPerson)"
   ]
  },
  {
   "cell_type": "code",
   "execution_count": 29,
   "id": "b2221023-49cd-4101-a849-34bf027283e7",
   "metadata": {},
   "outputs": [
    {
     "name": "stdout",
     "output_type": "stream",
     "text": [
      "I am super cool!\n",
      "None\n"
     ]
    }
   ],
   "source": [
    "print(coolPerson())"
   ]
  },
  {
   "cell_type": "code",
   "execution_count": 30,
   "id": "dfcc225f-7b8c-4d1e-9cdb-ce5002f6190b",
   "metadata": {},
   "outputs": [
    {
     "name": "stdout",
     "output_type": "stream",
     "text": [
      "I am super cool!\n"
     ]
    }
   ],
   "source": [
    "coolPerson()"
   ]
  },
  {
   "cell_type": "code",
   "execution_count": 31,
   "id": "01bd4a7f-465f-406d-9106-33a42f126d8f",
   "metadata": {},
   "outputs": [],
   "source": [
    "def hey():\n",
    "    return \"Hey Jose!\""
   ]
  },
  {
   "cell_type": "code",
   "execution_count": 32,
   "id": "567a829a-ddb1-4263-9869-5781a668c854",
   "metadata": {},
   "outputs": [],
   "source": [
    "def otherFunc(some_def_func):\n",
    "    print(\"I am going to print what is returned when you execute the passed function:\")\n",
    "    print(some_def_func())"
   ]
  },
  {
   "cell_type": "code",
   "execution_count": 33,
   "id": "103771c3-b098-4786-ab4e-ef7659ef3a9e",
   "metadata": {},
   "outputs": [
    {
     "name": "stdout",
     "output_type": "stream",
     "text": [
      "I am going to print what is returned when you execute the passed function:\n",
      "Hey Jose!\n"
     ]
    }
   ],
   "source": [
    "otherFunc(hey)"
   ]
  },
  {
   "cell_type": "code",
   "execution_count": 39,
   "id": "e8c74646-cf67-4ea3-8178-c36a62453ef1",
   "metadata": {},
   "outputs": [],
   "source": [
    "def new_decorator(og_func):\n",
    "    def wrapper_func():\n",
    "        print(\"Pre-stuff\")\n",
    "        \n",
    "        og_func()\n",
    "        \n",
    "        print(\"Post-stuff\")\n",
    "        \n",
    "    return wrapper_func"
   ]
  },
  {
   "cell_type": "code",
   "execution_count": 40,
   "id": "9ea1a9fc-ff75-41d0-8a84-351ce147f227",
   "metadata": {},
   "outputs": [],
   "source": [
    "def func_needs_decorator():\n",
    "    print(\"I need a decorator\")"
   ]
  },
  {
   "cell_type": "code",
   "execution_count": 41,
   "id": "b798b5fb-7bbe-49f8-816b-39d870973564",
   "metadata": {},
   "outputs": [
    {
     "name": "stdout",
     "output_type": "stream",
     "text": [
      "I need a decorator\n"
     ]
    }
   ],
   "source": [
    "func_needs_decorator()"
   ]
  },
  {
   "cell_type": "code",
   "execution_count": 42,
   "id": "75c97f70-c3b5-49ea-83d5-e2e554f64b39",
   "metadata": {},
   "outputs": [
    {
     "data": {
      "text/plain": [
       "<function __main__.new_decorator.<locals>.wrapper_func()>"
      ]
     },
     "execution_count": 42,
     "metadata": {},
     "output_type": "execute_result"
    }
   ],
   "source": [
    "new_decorator(func_needs_decorator)"
   ]
  },
  {
   "cell_type": "code",
   "execution_count": 44,
   "id": "74f49502-0360-4aba-b003-7977f763fd3a",
   "metadata": {},
   "outputs": [],
   "source": [
    "decorated_func = new_decorator(func_needs_decorator)"
   ]
  },
  {
   "cell_type": "code",
   "execution_count": 45,
   "id": "4301c488-461c-4506-a65e-cd400c27e5ee",
   "metadata": {},
   "outputs": [
    {
     "name": "stdout",
     "output_type": "stream",
     "text": [
      "Pre-stuff\n",
      "I need a decorator\n",
      "Post-stuff\n"
     ]
    }
   ],
   "source": [
    "decorated_func()"
   ]
  },
  {
   "cell_type": "code",
   "execution_count": 46,
   "id": "881a5ec4-8683-4964-8ec4-3cd07b615226",
   "metadata": {},
   "outputs": [
    {
     "name": "stdout",
     "output_type": "stream",
     "text": [
      "Pre-stuff\n",
      "I need a decorator\n",
      "Post-stuff\n"
     ]
    }
   ],
   "source": [
    "new_decorator(func_needs_decorator)()"
   ]
  },
  {
   "cell_type": "code",
   "execution_count": 47,
   "id": "05eec9f2-f998-4ee8-aaa3-969a6e1a362d",
   "metadata": {},
   "outputs": [],
   "source": [
    "@new_decorator\n",
    "def func_needs_decorator():\n",
    "    print(\"I need a decorator\")"
   ]
  },
  {
   "cell_type": "code",
   "execution_count": 48,
   "id": "6c7fc421-4d81-4362-946e-d583d1cf9403",
   "metadata": {},
   "outputs": [
    {
     "name": "stdout",
     "output_type": "stream",
     "text": [
      "Pre-stuff\n",
      "I need a decorator\n",
      "Post-stuff\n"
     ]
    }
   ],
   "source": [
    "func_needs_decorator()"
   ]
  },
  {
   "cell_type": "code",
   "execution_count": null,
   "id": "a1be9399-3bfc-4c9c-b08d-52dffccfd281",
   "metadata": {},
   "outputs": [],
   "source": []
  }
 ],
 "metadata": {
  "kernelspec": {
   "display_name": "Python 3 (ipykernel)",
   "language": "python",
   "name": "python3"
  },
  "language_info": {
   "codemirror_mode": {
    "name": "ipython",
    "version": 3
   },
   "file_extension": ".py",
   "mimetype": "text/x-python",
   "name": "python",
   "nbconvert_exporter": "python",
   "pygments_lexer": "ipython3",
   "version": "3.12.7"
  }
 },
 "nbformat": 4,
 "nbformat_minor": 5
}
