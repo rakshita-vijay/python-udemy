{
 "cells": [
  {
   "cell_type": "code",
   "execution_count": 1,
   "id": "74191bde-33ad-4dd5-b368-9ad2f3e03b1e",
   "metadata": {},
   "outputs": [],
   "source": [
    "def hello_func():\n",
    "    print(\"Hello world!\")"
   ]
  },
  {
   "cell_type": "code",
   "execution_count": 2,
   "id": "ed614890-4128-491a-9498-001e4a904cf9",
   "metadata": {},
   "outputs": [
    {
     "name": "stdout",
     "output_type": "stream",
     "text": [
      "Hello world!\n"
     ]
    }
   ],
   "source": [
    "hello_func()"
   ]
  },
  {
   "cell_type": "code",
   "execution_count": 5,
   "id": "26575f98-cf2e-4dec-84e6-46eec66a1ffc",
   "metadata": {},
   "outputs": [],
   "source": [
    "def hello_func(name):\n",
    "    print(\"Hello \" + name + \"!\")"
   ]
  },
  {
   "cell_type": "code",
   "execution_count": 6,
   "id": "6f326c19-70f8-4b81-beb1-2bffb4bcf331",
   "metadata": {},
   "outputs": [
    {
     "name": "stdout",
     "output_type": "stream",
     "text": [
      "Hello Rakshita!\n"
     ]
    }
   ],
   "source": [
    "hello_func(\"Rakshita\")"
   ]
  },
  {
   "cell_type": "code",
   "execution_count": 16,
   "id": "44ef1d7a-32c0-4418-888b-83351e39d18c",
   "metadata": {},
   "outputs": [],
   "source": [
    "def hello_func(name = \"Default\"):\n",
    "    return (\"Hello \" + name + \"!\")"
   ]
  },
  {
   "cell_type": "code",
   "execution_count": 17,
   "id": "f8699dea-97ff-4f76-8df5-7bc57b7c40ff",
   "metadata": {},
   "outputs": [
    {
     "data": {
      "text/plain": [
       "'Hello Rakshita!'"
      ]
     },
     "execution_count": 17,
     "metadata": {},
     "output_type": "execute_result"
    }
   ],
   "source": [
    "hello_func(\"Rakshita\")"
   ]
  },
  {
   "cell_type": "code",
   "execution_count": 18,
   "id": "5a07eb5b-9a02-48ee-a125-16403230dd74",
   "metadata": {},
   "outputs": [
    {
     "data": {
      "text/plain": [
       "'Hello Rakshita!'"
      ]
     },
     "execution_count": 18,
     "metadata": {},
     "output_type": "execute_result"
    }
   ],
   "source": [
    "str = hello_func(\"Rakshita\")\n",
    "str"
   ]
  },
  {
   "cell_type": "code",
   "execution_count": 19,
   "id": "c3a8c480-ebcc-4b87-b5db-b3c547513f3e",
   "metadata": {},
   "outputs": [],
   "source": [
    "def add_func(num1, num2):\n",
    "    return num1+num2"
   ]
  },
  {
   "cell_type": "code",
   "execution_count": 20,
   "id": "db664ba8-a567-496a-a482-79d451e59d63",
   "metadata": {},
   "outputs": [
    {
     "data": {
      "text/plain": [
       "9"
      ]
     },
     "execution_count": 20,
     "metadata": {},
     "output_type": "execute_result"
    }
   ],
   "source": [
    "res = add_func(6, 3)\n",
    "res"
   ]
  },
  {
   "cell_type": "code",
   "execution_count": 21,
   "id": "3775d656-2435-4ae2-a68a-0f8a61ecfa00",
   "metadata": {},
   "outputs": [
    {
     "data": {
      "text/plain": [
       "'Hello Default!'"
      ]
     },
     "execution_count": 21,
     "metadata": {},
     "output_type": "execute_result"
    }
   ],
   "source": [
    "hello_func()"
   ]
  },
  {
   "cell_type": "code",
   "execution_count": 28,
   "id": "1efb924d-389b-4133-bdf9-678cf09583d4",
   "metadata": {},
   "outputs": [
    {
     "name": "stdout",
     "output_type": "stream",
     "text": [
      "Even\n"
     ]
    }
   ],
   "source": [
    "def even_check(num):\n",
    "    return (num%2 == 0)\n",
    "    \n",
    "if (even_check(2) == True):\n",
    "    print(\"Even\")\n",
    "else: \n",
    "    print(\"Odd\") "
   ]
  },
  {
   "cell_type": "code",
   "execution_count": 35,
   "id": "dc42afe0-d57a-446d-9a3e-3e5e29515dad",
   "metadata": {},
   "outputs": [
    {
     "data": {
      "text/plain": [
       "[19, 2, 18, 0, 9, 12, 4, 5, 10, 3, 15, 16]"
      ]
     },
     "execution_count": 35,
     "metadata": {},
     "output_type": "execute_result"
    }
   ],
   "source": [
    "lx = [num for num in range(0,21)]\n",
    "\n",
    "from random import shuffle\n",
    "shuffle(lx)\n",
    "\n",
    "from random import randint\n",
    "for i in range(0, randint(5,10)):\n",
    "    lx.pop()\n",
    "shuffle(lx)\n",
    "lx"
   ]
  },
  {
   "cell_type": "code",
   "execution_count": 36,
   "id": "89cf4e45-4faf-4177-8298-c9723dac1b76",
   "metadata": {},
   "outputs": [],
   "source": [
    "def eve(l):\n",
    "    if type(l) != list:\n",
    "        return False\n",
    "    else:\n",
    "        for i in l:\n",
    "            if i%2==0:\n",
    "                return True\n",
    "        return False"
   ]
  },
  {
   "cell_type": "code",
   "execution_count": 37,
   "id": "573750ac-063c-4c38-9ed6-e40d252656b9",
   "metadata": {},
   "outputs": [
    {
     "data": {
      "text/plain": [
       "True"
      ]
     },
     "execution_count": 37,
     "metadata": {},
     "output_type": "execute_result"
    }
   ],
   "source": [
    "res = eve(lx)\n",
    "res"
   ]
  },
  {
   "cell_type": "code",
   "execution_count": 41,
   "id": "8cd7b4de-303b-439f-84dc-5ae1109c82ec",
   "metadata": {},
   "outputs": [
    {
     "data": {
      "text/plain": [
       "False"
      ]
     },
     "execution_count": 41,
     "metadata": {},
     "output_type": "execute_result"
    }
   ],
   "source": [
    "res = eve([1,3,5,7,2.1])\n",
    "res"
   ]
  },
  {
   "cell_type": "code",
   "execution_count": 43,
   "id": "a988d703-c236-48ba-90a1-c6572eec69e0",
   "metadata": {},
   "outputs": [
    {
     "data": {
      "text/plain": [
       "False"
      ]
     },
     "execution_count": 43,
     "metadata": {},
     "output_type": "execute_result"
    }
   ],
   "source": [
    "res = eve([0.1])\n",
    "res"
   ]
  },
  {
   "cell_type": "code",
   "execution_count": 44,
   "id": "f634e0b9-bf7d-45e2-8282-f3a8f7671b0a",
   "metadata": {},
   "outputs": [],
   "source": [
    "def ret_eve_list(lit):\n",
    "    lxx = []\n",
    "    for i in lit:\n",
    "        if i%2 == 0:\n",
    "            lxx.append(i)\n",
    "    return lxx        "
   ]
  },
  {
   "cell_type": "code",
   "execution_count": 46,
   "id": "41e67e4c-b7d8-4cab-8bd8-034e45c6c44e",
   "metadata": {},
   "outputs": [
    {
     "name": "stdout",
     "output_type": "stream",
     "text": [
      "[19, 2, 18, 0, 9, 12, 4, 5, 10, 3, 15, 16]\n",
      "[2, 18, 0, 12, 4, 10, 16]\n"
     ]
    }
   ],
   "source": [
    "res = ret_eve_list(lx)\n",
    "print(lx)\n",
    "print(res)"
   ]
  },
  {
   "cell_type": "code",
   "execution_count": 52,
   "id": "2b2df8af-8e1b-4694-af35-0dd977df582d",
   "metadata": {},
   "outputs": [
    {
     "name": "stdout",
     "output_type": "stream",
     "text": [
      "[2, 1, 3, 5, 7, 2]\n",
      "[2, 2]\n"
     ]
    }
   ],
   "source": [
    "res = ret_eve_list([2,1,3,5,7,2])\n",
    "print([2,1,3,5,7,2])\n",
    "print(res)"
   ]
  },
  {
   "cell_type": "code",
   "execution_count": 53,
   "id": "dc70fd32-f0db-4129-80fc-a8533b9dfe3e",
   "metadata": {},
   "outputs": [],
   "source": [
    "def emp_of_month(le):\n",
    "    emp = \"\"\n",
    "    hr = 0\n",
    "    for em, h in le:\n",
    "        if h > hr:\n",
    "            emp = em\n",
    "            hr = h\n",
    "    return (emp,hr)"
   ]
  },
  {
   "cell_type": "code",
   "execution_count": 55,
   "id": "fffe06ac-84fa-435c-b242-8a3f99fdd434",
   "metadata": {},
   "outputs": [
    {
     "data": {
      "text/plain": [
       "('Billy', 4000)"
      ]
     },
     "execution_count": 55,
     "metadata": {},
     "output_type": "execute_result"
    }
   ],
   "source": [
    "l1 = [('Abby', 100), ('Billy', 4000), ('Cassie', 800)]\n",
    "lx = emp_of_month(l1)\n",
    "lx"
   ]
  },
  {
   "cell_type": "code",
   "execution_count": 58,
   "id": "2bd4332c-86ec-4c9d-9718-176e2bc6d5f1",
   "metadata": {},
   "outputs": [
    {
     "data": {
      "text/plain": [
       "4000"
      ]
     },
     "execution_count": 58,
     "metadata": {},
     "output_type": "execute_result"
    }
   ],
   "source": [
    "name, hours = emp_of_month(l1)\n",
    "name\n",
    "hours"
   ]
  },
  {
   "cell_type": "code",
   "execution_count": 7,
   "id": "419f496d-16f5-40a9-a9bd-158908cc8837",
   "metadata": {},
   "outputs": [],
   "source": [
    "from random import shuffle\n",
    "\n",
    "def ask_for_ans():\n",
    "    ans = int(input(\"Enter your choice - 0/1/2: \"))\n",
    "    while True:\n",
    "        if ans >= 0 and ans <= 2:\n",
    "            return ans\n",
    "        else:\n",
    "            ans = int(input(\"Invalid answer. Enter again: \"))\n",
    "            \n",
    "def play_3_ball_monty():\n",
    "    while (True):\n",
    "        lx = [' ', ' ', 'o']\n",
    "        shuffle(lx) \n",
    "        ans = ask_for_ans()\n",
    "        if lx[ans] == 'o':\n",
    "            return \"You won!\"\n",
    "        else:\n",
    "            shuffle(lx) \n",
    "            print(\"Try again\")"
   ]
  },
  {
   "cell_type": "code",
   "execution_count": 8,
   "id": "d75c22e1-adb5-49ba-bfc8-8b7416e26066",
   "metadata": {},
   "outputs": [
    {
     "name": "stdin",
     "output_type": "stream",
     "text": [
      "Enter your choice - 0/1/2:  0\n"
     ]
    },
    {
     "name": "stdout",
     "output_type": "stream",
     "text": [
      "Try again\n"
     ]
    },
    {
     "name": "stdin",
     "output_type": "stream",
     "text": [
      "Enter your choice - 0/1/2:  0\n"
     ]
    },
    {
     "name": "stdout",
     "output_type": "stream",
     "text": [
      "Try again\n"
     ]
    },
    {
     "name": "stdin",
     "output_type": "stream",
     "text": [
      "Enter your choice - 0/1/2:  0\n"
     ]
    },
    {
     "name": "stdout",
     "output_type": "stream",
     "text": [
      "Try again\n"
     ]
    },
    {
     "name": "stdin",
     "output_type": "stream",
     "text": [
      "Enter your choice - 0/1/2:  0\n"
     ]
    },
    {
     "name": "stdout",
     "output_type": "stream",
     "text": [
      "Try again\n"
     ]
    },
    {
     "name": "stdin",
     "output_type": "stream",
     "text": [
      "Enter your choice - 0/1/2:  0\n"
     ]
    },
    {
     "name": "stdout",
     "output_type": "stream",
     "text": [
      "Try again\n"
     ]
    },
    {
     "name": "stdin",
     "output_type": "stream",
     "text": [
      "Enter your choice - 0/1/2:  0\n"
     ]
    },
    {
     "data": {
      "text/plain": [
       "'You won!'"
      ]
     },
     "execution_count": 8,
     "metadata": {},
     "output_type": "execute_result"
    }
   ],
   "source": [
    "play_3_ball_monty()"
   ]
  }
 ],
 "metadata": {
  "kernelspec": {
   "display_name": "Python 3 (ipykernel)",
   "language": "python",
   "name": "python3"
  },
  "language_info": {
   "codemirror_mode": {
    "name": "ipython",
    "version": 3
   },
   "file_extension": ".py",
   "mimetype": "text/x-python",
   "name": "python",
   "nbconvert_exporter": "python",
   "pygments_lexer": "ipython3",
   "version": "3.12.7"
  }
 },
 "nbformat": 4,
 "nbformat_minor": 5
}
