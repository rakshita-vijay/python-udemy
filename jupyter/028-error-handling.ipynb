{
 "cells": [
  {
   "cell_type": "code",
   "execution_count": 1,
   "id": "d13d9144-243b-4f35-b65c-ee2877d2b2c7",
   "metadata": {},
   "outputs": [
    {
     "name": "stdout",
     "output_type": "stream",
     "text": [
      "I always run\n"
     ]
    }
   ],
   "source": [
    "try: \n",
    "    res = 10 + 10\n",
    "except:\n",
    "    print(\"Some error occurred\")\n",
    "finally:\n",
    "    print(\"I always run\")"
   ]
  },
  {
   "cell_type": "code",
   "execution_count": 2,
   "id": "76786705-3804-41b2-8fa7-06d9b3550c95",
   "metadata": {},
   "outputs": [
    {
     "name": "stdout",
     "output_type": "stream",
     "text": [
      "Some error occurred\n",
      "I always run\n"
     ]
    }
   ],
   "source": [
    "try: \n",
    "    res = 10 + '10'\n",
    "except:\n",
    "    print(\"Some error occurred\")\n",
    "finally:\n",
    "    print(\"I always run\")"
   ]
  },
  {
   "cell_type": "code",
   "execution_count": 18,
   "id": "2d309725-f956-45b8-93e4-27a28b82e58c",
   "metadata": {},
   "outputs": [
    {
     "name": "stdout",
     "output_type": "stream",
     "text": [
      "Program executed successfully\n"
     ]
    }
   ],
   "source": [
    "try: \n",
    "    res = 10 + 10\n",
    "except:\n",
    "    print(\"Some error occurred\")\n",
    "else:\n",
    "    print(\"Program executed successfully\")"
   ]
  },
  {
   "cell_type": "code",
   "execution_count": 19,
   "id": "ed5ea4e4-d7fc-44a3-8a7b-1f654184ada3",
   "metadata": {},
   "outputs": [
    {
     "name": "stdout",
     "output_type": "stream",
     "text": [
      "Some error occurred\n"
     ]
    }
   ],
   "source": [
    "try: \n",
    "    res = 10 + '10'\n",
    "except:\n",
    "    print(\"Some error occurred\")\n",
    "else:\n",
    "    print(\"Program executed successfully\")"
   ]
  },
  {
   "cell_type": "code",
   "execution_count": 15,
   "id": "2b5ac5f2-57f0-4bd9-8038-e5ef0eebfd1e",
   "metadata": {},
   "outputs": [
    {
     "name": "stdout",
     "output_type": "stream",
     "text": [
      "Hello! This is a text file, and the first line \n",
      "This is the second line \n",
      "This is the third line \n",
      "I am adding this line\n",
      "I am appending this line from 028-error-handling.ipynb\n",
      "\n",
      "I always run\n"
     ]
    }
   ],
   "source": [
    "try:  \n",
    "    my_file = open('myfile.txt', 'a')\n",
    "    my_file.write(\"\\nI am appending this line from 028-error-handling.ipynb\")\n",
    "    my_file = open('myfile.txt', 'r')\n",
    "    my_file.seek(0)\n",
    "    print(my_file.read())\n",
    "    print()\n",
    "except:\n",
    "    print(\"Some error occurred\")\n",
    "finally:\n",
    "    print(\"I always run\")"
   ]
  },
  {
   "cell_type": "code",
   "execution_count": 16,
   "id": "fdc94c71-8465-454b-9fb6-5e9a33e8ae4c",
   "metadata": {},
   "outputs": [
    {
     "name": "stdout",
     "output_type": "stream",
     "text": [
      "Some error occurred\n",
      "I always run\n"
     ]
    }
   ],
   "source": [
    "try:  \n",
    "    my_file = open('myfile.txt', 'r')\n",
    "    my_file.write(\"\\nI am writing this line from 028-error-handling.ipynb\")\n",
    "    my_file = open('myfile.txt', 'r')\n",
    "    my_file.seek(0)\n",
    "    print(my_file.read())\n",
    "    print()\n",
    "except:\n",
    "    print(\"Some error occurred\")\n",
    "finally:\n",
    "    print(\"I always run\")"
   ]
  },
  {
   "cell_type": "code",
   "execution_count": 20,
   "id": "cd3d6223-8953-4ed2-a3e3-062566b9a937",
   "metadata": {},
   "outputs": [],
   "source": [
    "def ask_for_int():\n",
    "    while (True):\n",
    "        try: \n",
    "            num = int(input(\"Enter an integer number: \"))\n",
    "        except:\n",
    "            print(\"An error occurred. The input you have entered is not a number!\")\n",
    "            continue\n",
    "        else:\n",
    "            break\n",
    "        finally:\n",
    "            print(\"End\")"
   ]
  },
  {
   "cell_type": "code",
   "execution_count": 21,
   "id": "10a1042e-d97f-450c-94af-657e515ec588",
   "metadata": {},
   "outputs": [
    {
     "name": "stdin",
     "output_type": "stream",
     "text": [
      "Enter an integer number:  do\n"
     ]
    },
    {
     "name": "stdout",
     "output_type": "stream",
     "text": [
      "An error occurred. The input you have entered is not a number\n",
      "End\n"
     ]
    },
    {
     "name": "stdin",
     "output_type": "stream",
     "text": [
      "Enter an integer number:  fhjw\n"
     ]
    },
    {
     "name": "stdout",
     "output_type": "stream",
     "text": [
      "An error occurred. The input you have entered is not a number\n",
      "End\n"
     ]
    },
    {
     "name": "stdin",
     "output_type": "stream",
     "text": [
      "Enter an integer number:  1qw\n"
     ]
    },
    {
     "name": "stdout",
     "output_type": "stream",
     "text": [
      "An error occurred. The input you have entered is not a number\n",
      "End\n"
     ]
    },
    {
     "name": "stdin",
     "output_type": "stream",
     "text": [
      "Enter an integer number:  1\n"
     ]
    },
    {
     "name": "stdout",
     "output_type": "stream",
     "text": [
      "End\n"
     ]
    }
   ],
   "source": [
    "ask_for_int()"
   ]
  },
  {
   "cell_type": "code",
   "execution_count": null,
   "id": "81879024-3a3d-4c12-b8aa-b55aebb63190",
   "metadata": {},
   "outputs": [],
   "source": []
  }
 ],
 "metadata": {
  "kernelspec": {
   "display_name": "Python 3 (ipykernel)",
   "language": "python",
   "name": "python3"
  },
  "language_info": {
   "codemirror_mode": {
    "name": "ipython",
    "version": 3
   },
   "file_extension": ".py",
   "mimetype": "text/x-python",
   "name": "python",
   "nbconvert_exporter": "python",
   "pygments_lexer": "ipython3",
   "version": "3.12.7"
  }
 },
 "nbformat": 4,
 "nbformat_minor": 5
}
