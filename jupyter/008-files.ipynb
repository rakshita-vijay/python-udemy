{
 "cells": [
  {
   "cell_type": "code",
   "execution_count": 1,
   "id": "54c0fe3f-1b75-4ba4-8f96-980cb1a963fb",
   "metadata": {},
   "outputs": [
    {
     "name": "stdout",
     "output_type": "stream",
     "text": [
      "Overwriting myfile.txt\n"
     ]
    }
   ],
   "source": [
    "%%writefile myfile.txt\n",
    "Hello! This is a text file, and the first line \n",
    "This is the second line \n",
    "This is the third line "
   ]
  },
  {
   "cell_type": "code",
   "execution_count": 2,
   "id": "5b84397a-4bbb-4ef8-bbb9-9d03845e073a",
   "metadata": {},
   "outputs": [],
   "source": [
    "my_file = open('myfile.txt')"
   ]
  },
  {
   "cell_type": "code",
   "execution_count": 3,
   "id": "05f17b0b-7bb9-4342-b41d-d35196ef3e69",
   "metadata": {},
   "outputs": [
    {
     "data": {
      "text/plain": [
       "<_io.TextIOWrapper name='myfile.txt' mode='r' encoding='UTF-8'>"
      ]
     },
     "execution_count": 3,
     "metadata": {},
     "output_type": "execute_result"
    }
   ],
   "source": [
    "my_file"
   ]
  },
  {
   "cell_type": "code",
   "execution_count": 4,
   "id": "8dcbc864-2622-4cb7-9499-e7b09c3841fc",
   "metadata": {},
   "outputs": [
    {
     "data": {
      "text/plain": [
       "'/Users/rakshita/dev/rakshita/python-udemy/jupyter'"
      ]
     },
     "execution_count": 4,
     "metadata": {},
     "output_type": "execute_result"
    }
   ],
   "source": [
    "pwd"
   ]
  },
  {
   "cell_type": "code",
   "execution_count": 5,
   "id": "dabfa743-ed0a-426d-bd21-c08490db120a",
   "metadata": {},
   "outputs": [
    {
     "name": "stdout",
     "output_type": "stream",
     "text": [
      "001-arithmetic-operations.ipynb\n",
      "002-variables.ipynb\n",
      "003-string-formatting.ipynb\n",
      "004-lists.ipynb\n",
      "005-dictionaries.ipynb\n",
      "006-sets.ipynb\n",
      "007-boolean.ipynb\n",
      "008-files.ipynb\n",
      "009-Objects and Data Structures Assessment Test.ipynb\n",
      "010-comparators.ipynb\n",
      "011-conditional-blocks.ipynb\n",
      "012-built-in-libraries.ipynb\n",
      "013-Statements Assessment Test.ipynb\n",
      "014-methods-functions.ipynb\n",
      "015-Function Practice Exercises.ipynb\n",
      "016-args-kwargs.ipynb\n",
      "017-maps.ipynb\n",
      "018-lambda-expressions.ipynb\n",
      "019-scope.ipynb\n",
      "020-Functions and Methods Homework.ipynb\n",
      "021A-tic-tac-toe-messy.ipynb\n",
      "021B-tic-tac-toe-clear.ipynb\n",
      "022-classes.ipynb\n",
      "023-oop-concepts.ipynb\n",
      "024-special-or-magic-methods.ipynb\n",
      "025-Object Oriented Programming Homework.ipynb\n",
      "026-OOP Challenge.ipynb\n",
      "027-oop-challenge-solution-bank-account.ipynb\n",
      "028-error-handling.ipynb\n",
      "myfile.txt\n"
     ]
    }
   ],
   "source": [
    "ls"
   ]
  },
  {
   "cell_type": "code",
   "execution_count": 6,
   "id": "387d7cc1-1f5c-48cc-887b-d73ee47fb9ce",
   "metadata": {},
   "outputs": [
    {
     "data": {
      "text/plain": [
       "['Hello! This is a text file, and the first line \\n',\n",
       " 'This is the second line \\n',\n",
       " 'This is the third line \\n']"
      ]
     },
     "execution_count": 6,
     "metadata": {},
     "output_type": "execute_result"
    }
   ],
   "source": [
    "my_file.readlines()"
   ]
  },
  {
   "cell_type": "code",
   "execution_count": 7,
   "id": "59c05d70-d27e-49f7-97f5-e4084ada81bd",
   "metadata": {},
   "outputs": [
    {
     "data": {
      "text/plain": [
       "''"
      ]
     },
     "execution_count": 7,
     "metadata": {},
     "output_type": "execute_result"
    }
   ],
   "source": [
    "my_file.readline()"
   ]
  },
  {
   "cell_type": "code",
   "execution_count": 8,
   "id": "51fac7c3-b200-4089-8b45-0328e3445b45",
   "metadata": {},
   "outputs": [
    {
     "data": {
      "text/plain": [
       "''"
      ]
     },
     "execution_count": 8,
     "metadata": {},
     "output_type": "execute_result"
    }
   ],
   "source": [
    "my_file.readline()"
   ]
  },
  {
   "cell_type": "code",
   "execution_count": 9,
   "id": "c425e1bb-9d7f-426d-aa95-e39e8bcb22b9",
   "metadata": {},
   "outputs": [
    {
     "data": {
      "text/plain": [
       "0"
      ]
     },
     "execution_count": 9,
     "metadata": {},
     "output_type": "execute_result"
    }
   ],
   "source": [
    "my_file.seek(0)"
   ]
  },
  {
   "cell_type": "code",
   "execution_count": 10,
   "id": "9183f8c9-86af-46f2-8efa-f42d421dc804",
   "metadata": {},
   "outputs": [
    {
     "data": {
      "text/plain": [
       "'Hello! This is a text file, and the first line \\n'"
      ]
     },
     "execution_count": 10,
     "metadata": {},
     "output_type": "execute_result"
    }
   ],
   "source": [
    "my_file.readline()"
   ]
  },
  {
   "cell_type": "code",
   "execution_count": 11,
   "id": "bb646a19-0995-4897-adbc-ede7d836adf8",
   "metadata": {},
   "outputs": [
    {
     "data": {
      "text/plain": [
       "1"
      ]
     },
     "execution_count": 11,
     "metadata": {},
     "output_type": "execute_result"
    }
   ],
   "source": [
    "my_file.seek(1)"
   ]
  },
  {
   "cell_type": "code",
   "execution_count": 12,
   "id": "939ec034-44bc-4be1-9198-96fb8bd6c581",
   "metadata": {},
   "outputs": [
    {
     "data": {
      "text/plain": [
       "'ello! This is a text file, and the first line \\n'"
      ]
     },
     "execution_count": 12,
     "metadata": {},
     "output_type": "execute_result"
    }
   ],
   "source": [
    "my_file.readline()"
   ]
  },
  {
   "cell_type": "code",
   "execution_count": 13,
   "id": "f4da61e0-6171-4d1a-bece-461748a4709a",
   "metadata": {},
   "outputs": [
    {
     "data": {
      "text/plain": [
       "'This is the second line \\nThis is the third line \\n'"
      ]
     },
     "execution_count": 13,
     "metadata": {},
     "output_type": "execute_result"
    }
   ],
   "source": [
    "my_file.read()"
   ]
  },
  {
   "cell_type": "code",
   "execution_count": 14,
   "id": "abddce24-c98e-4356-b084-055658e95d11",
   "metadata": {},
   "outputs": [
    {
     "data": {
      "text/plain": [
       "21"
      ]
     },
     "execution_count": 14,
     "metadata": {},
     "output_type": "execute_result"
    }
   ],
   "source": [
    "my_file = open('myfile.txt', 'a')\n",
    "my_file.write(\"I am adding this line\")"
   ]
  },
  {
   "cell_type": "code",
   "execution_count": 15,
   "id": "df88fd07-ed25-4ea2-9572-b8ba9b254e51",
   "metadata": {},
   "outputs": [
    {
     "data": {
      "text/plain": [
       "['Hello! This is a text file, and the first line \\n',\n",
       " 'This is the second line \\n',\n",
       " 'This is the third line \\n',\n",
       " 'I am adding this line']"
      ]
     },
     "execution_count": 15,
     "metadata": {},
     "output_type": "execute_result"
    }
   ],
   "source": [
    "my_file = open('myfile.txt', 'r')\n",
    "my_file.seek(0)\n",
    "my_file.readlines()"
   ]
  },
  {
   "cell_type": "code",
   "execution_count": 16,
   "id": "38f8a722-806c-4b50-9767-b8bdbc2730dd",
   "metadata": {},
   "outputs": [
    {
     "data": {
      "text/plain": [
       "['Hello! This is a text file, and the first line \\n',\n",
       " 'This is the second line \\n',\n",
       " 'This is the third line \\n',\n",
       " 'I am adding this line']"
      ]
     },
     "execution_count": 16,
     "metadata": {},
     "output_type": "execute_result"
    }
   ],
   "source": [
    "my_file.seek(0)\n",
    "my_file.readlines()"
   ]
  },
  {
   "cell_type": "code",
   "execution_count": 17,
   "id": "251e453c-bfe1-48c1-badc-ca4895d47f72",
   "metadata": {},
   "outputs": [
    {
     "data": {
      "text/plain": [
       "['Hello! This is a text file, and the first line \\n',\n",
       " 'This is the second line \\n',\n",
       " 'This is the third line \\n',\n",
       " 'I am adding this line']"
      ]
     },
     "execution_count": 17,
     "metadata": {},
     "output_type": "execute_result"
    }
   ],
   "source": [
    "my_file = open('myfile.txt', 'r+')\n",
    "my_file.seek(0)\n",
    "my_file.readlines()"
   ]
  },
  {
   "cell_type": "markdown",
   "id": "f4b524e8-7099-4f93-8241-02179c642c94",
   "metadata": {},
   "source": [
    "but in 63 if we had put w+, then the file would have been cleared and we would have gotten [] as the output "
   ]
  },
  {
   "cell_type": "code",
   "execution_count": 18,
   "id": "435b08b7-f8b5-4323-969f-e7c6f5b8c449",
   "metadata": {},
   "outputs": [
    {
     "name": "stdout",
     "output_type": "stream",
     "text": [
      "Hello! This is a text file, and the first line \n",
      "This is the second line \n",
      "This is the third line \n",
      "I am adding this line\n"
     ]
    }
   ],
   "source": [
    "with open('myfile.txt', 'r') as my_file:\n",
    "    my_file.seek(0)\n",
    "    print(my_file.read())"
   ]
  },
  {
   "cell_type": "code",
   "execution_count": 19,
   "id": "e1a8b808-2a99-4697-a9e4-069b0822beb7",
   "metadata": {},
   "outputs": [
    {
     "name": "stdout",
     "output_type": "stream",
     "text": [
      "['Hello! This is a text file, and the first line \\n', 'This is the second line \\n', 'This is the third line \\n', 'I am adding this line']\n"
     ]
    }
   ],
   "source": [
    "with open('myfile.txt', mode = 'r') as my_file:\n",
    "    my_file.seek(0)\n",
    "    print(my_file.readlines())"
   ]
  },
  {
   "cell_type": "code",
   "execution_count": 20,
   "id": "a9b87e38-e7c3-4d69-8966-a2f9534ff88d",
   "metadata": {},
   "outputs": [],
   "source": [
    "my_file.close()"
   ]
  },
  {
   "cell_type": "code",
   "execution_count": null,
   "id": "21057b9b-5646-4840-a431-30e7185a3712",
   "metadata": {},
   "outputs": [],
   "source": []
  }
 ],
 "metadata": {
  "kernelspec": {
   "display_name": "Python 3 (ipykernel)",
   "language": "python",
   "name": "python3"
  },
  "language_info": {
   "codemirror_mode": {
    "name": "ipython",
    "version": 3
   },
   "file_extension": ".py",
   "mimetype": "text/x-python",
   "name": "python",
   "nbconvert_exporter": "python",
   "pygments_lexer": "ipython3",
   "version": "3.12.7"
  }
 },
 "nbformat": 4,
 "nbformat_minor": 5
}
