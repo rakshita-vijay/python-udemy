{
 "cells": [
  {
   "cell_type": "code",
   "execution_count": 1,
   "id": "45336d10-ba7c-4af0-ae93-8c85e191c665",
   "metadata": {},
   "outputs": [],
   "source": [
    "import datetime"
   ]
  },
  {
   "cell_type": "code",
   "execution_count": 2,
   "id": "760a0b93-a9c6-4af6-91bc-e33d043c7dea",
   "metadata": {},
   "outputs": [],
   "source": [
    "mytime = datetime.time(2, 20) # 24-hour clock, if we don't enter a few details, then it auto-fills it in\n",
    "# we have entered 2h, 20m, 0s"
   ]
  },
  {
   "cell_type": "code",
   "execution_count": 3,
   "id": "43d7488f-1094-43fa-979a-7d64bebaf8cf",
   "metadata": {},
   "outputs": [
    {
     "data": {
      "text/plain": [
       "datetime.time(2, 20)"
      ]
     },
     "execution_count": 3,
     "metadata": {},
     "output_type": "execute_result"
    }
   ],
   "source": [
    "mytime"
   ]
  },
  {
   "cell_type": "code",
   "execution_count": 4,
   "id": "5d1d7cc6-b321-40bb-b9ec-8e23ec131fee",
   "metadata": {},
   "outputs": [
    {
     "name": "stdout",
     "output_type": "stream",
     "text": [
      "02:20:00\n"
     ]
    }
   ],
   "source": [
    "print(mytime)"
   ]
  },
  {
   "cell_type": "code",
   "execution_count": 5,
   "id": "5f580866-25dd-4ea0-9177-2a7fe1af0c4e",
   "metadata": {},
   "outputs": [
    {
     "data": {
      "text/plain": [
       "(2, 20, 0)"
      ]
     },
     "execution_count": 5,
     "metadata": {},
     "output_type": "execute_result"
    }
   ],
   "source": [
    "mytime.hour, mytime.minute, mytime.second"
   ]
  },
  {
   "cell_type": "code",
   "execution_count": 6,
   "id": "e761b981-be67-43d3-863c-2a52fc041a08",
   "metadata": {},
   "outputs": [],
   "source": [
    "mytime = datetime.time(15, 14, 13, 12)"
   ]
  },
  {
   "cell_type": "code",
   "execution_count": 7,
   "id": "32085ecd-78d3-4971-bacb-6f2b2280aa49",
   "metadata": {},
   "outputs": [
    {
     "name": "stdout",
     "output_type": "stream",
     "text": [
      "15:14:13.000012\n"
     ]
    }
   ],
   "source": [
    "print(mytime)"
   ]
  },
  {
   "cell_type": "code",
   "execution_count": 8,
   "id": "d04754d8-6064-4d10-873f-0e0c75b24e66",
   "metadata": {},
   "outputs": [
    {
     "data": {
      "text/plain": [
       "12"
      ]
     },
     "execution_count": 8,
     "metadata": {},
     "output_type": "execute_result"
    }
   ],
   "source": [
    "mytime.microsecond"
   ]
  },
  {
   "cell_type": "code",
   "execution_count": 9,
   "id": "a39e94c5-3de1-412e-8284-8f7ac148e3da",
   "metadata": {},
   "outputs": [],
   "source": [
    "mybday = datetime.datetime(2006, 2, 17, 12, 3, 46)"
   ]
  },
  {
   "cell_type": "code",
   "execution_count": 10,
   "id": "5124edf9-c7c5-4d68-8ce8-bfdf35977f29",
   "metadata": {},
   "outputs": [
    {
     "name": "stdout",
     "output_type": "stream",
     "text": [
      "2006-02-17 12:03:46\n"
     ]
    }
   ],
   "source": [
    "print(mybday)"
   ]
  },
  {
   "cell_type": "code",
   "execution_count": 11,
   "id": "853a9bee-c8b9-4f39-af90-950183eed114",
   "metadata": {},
   "outputs": [],
   "source": [
    "today = datetime.datetime.today()"
   ]
  },
  {
   "cell_type": "code",
   "execution_count": 12,
   "id": "53c3a4e7-d609-4c38-8352-5f142946d514",
   "metadata": {},
   "outputs": [
    {
     "name": "stdout",
     "output_type": "stream",
     "text": [
      "2025-06-08 14:33:44.218766\n"
     ]
    }
   ],
   "source": [
    "print(today)"
   ]
  },
  {
   "cell_type": "code",
   "execution_count": 13,
   "id": "d3072a0a-1f74-4034-a5fc-d87b51495975",
   "metadata": {},
   "outputs": [
    {
     "data": {
      "text/plain": [
       "(2025, 6, 8, 14, 33, 44, 218766)"
      ]
     },
     "execution_count": 13,
     "metadata": {},
     "output_type": "execute_result"
    }
   ],
   "source": [
    "today.year, today.month, today.day, today.hour, today.minute, today.second, today.microsecond"
   ]
  },
  {
   "cell_type": "code",
   "execution_count": 14,
   "id": "61ad6598-a18e-4dce-a859-19b7cd16f14c",
   "metadata": {},
   "outputs": [
    {
     "data": {
      "text/plain": [
       "'Sun Jun  8 14:33:44 2025'"
      ]
     },
     "execution_count": 14,
     "metadata": {},
     "output_type": "execute_result"
    }
   ],
   "source": [
    "today.ctime()"
   ]
  },
  {
   "cell_type": "code",
   "execution_count": 39,
   "id": "76156efa-b90e-469a-9d9c-b7e09e9116ea",
   "metadata": {},
   "outputs": [],
   "source": [
    "today1 = datetime.date.today()"
   ]
  },
  {
   "cell_type": "code",
   "execution_count": 40,
   "id": "217fd8cf-2af6-4c44-a5a0-aab2f130affb",
   "metadata": {},
   "outputs": [
    {
     "name": "stdout",
     "output_type": "stream",
     "text": [
      "2025-06-08\n"
     ]
    }
   ],
   "source": [
    "print(today1)"
   ]
  },
  {
   "cell_type": "code",
   "execution_count": 41,
   "id": "e0126781-6b72-4486-8d70-6a8d2d4fad2a",
   "metadata": {},
   "outputs": [
    {
     "data": {
      "text/plain": [
       "(2025, 6, 8)"
      ]
     },
     "execution_count": 41,
     "metadata": {},
     "output_type": "execute_result"
    }
   ],
   "source": [
    "today1.year, today1.month, today1.day "
   ]
  },
  {
   "cell_type": "code",
   "execution_count": 42,
   "id": "c134f919-c8f0-4727-b0df-e79c1223bd3f",
   "metadata": {},
   "outputs": [
    {
     "data": {
      "text/plain": [
       "'Sun Jun  8 00:00:00 2025'"
      ]
     },
     "execution_count": 42,
     "metadata": {},
     "output_type": "execute_result"
    }
   ],
   "source": [
    "today1.ctime()"
   ]
  },
  {
   "cell_type": "code",
   "execution_count": 43,
   "id": "8d5aebf6-04df-4b02-bc8d-8906e0043f75",
   "metadata": {},
   "outputs": [],
   "source": [
    "today1 = today1.replace(year = 2020, month = 1) # because .replace happens in-place"
   ]
  },
  {
   "cell_type": "code",
   "execution_count": 44,
   "id": "80ce9b59-7437-4429-8348-fe46e6100084",
   "metadata": {},
   "outputs": [
    {
     "name": "stdout",
     "output_type": "stream",
     "text": [
      "2020-01-08\n"
     ]
    }
   ],
   "source": [
    "print(today1)"
   ]
  },
  {
   "cell_type": "code",
   "execution_count": 46,
   "id": "6c6ad515-b96e-4aeb-a9be-1d9bbaa64413",
   "metadata": {},
   "outputs": [],
   "source": [
    "today1 = today1.replace(year = datetime.datetime.today().year, month = datetime.datetime.today().month)"
   ]
  },
  {
   "cell_type": "code",
   "execution_count": 47,
   "id": "880a01af-ce2e-417b-8d21-6bba1a41ccff",
   "metadata": {},
   "outputs": [
    {
     "name": "stdout",
     "output_type": "stream",
     "text": [
      "2025-06-08\n"
     ]
    }
   ],
   "source": [
    "print(today1)"
   ]
  },
  {
   "cell_type": "code",
   "execution_count": 55,
   "id": "6512fe27-8091-4172-a237-0e89493ce01f",
   "metadata": {},
   "outputs": [],
   "source": [
    "date1 = datetime.date(4, 5, 6)\n",
    "date2 = datetime.date(1, 2, 3)\n",
    "datediff = date1-date2"
   ]
  },
  {
   "cell_type": "code",
   "execution_count": 56,
   "id": "b4fc9d5f-6204-4ca2-84bb-8b0d1a59c658",
   "metadata": {},
   "outputs": [
    {
     "data": {
      "text/plain": [
       "datetime.timedelta(days=1188)"
      ]
     },
     "execution_count": 56,
     "metadata": {},
     "output_type": "execute_result"
    }
   ],
   "source": [
    "datediff"
   ]
  },
  {
   "cell_type": "code",
   "execution_count": 57,
   "id": "7c9c4df2-6c26-48fb-9735-13ae531c9c1e",
   "metadata": {},
   "outputs": [
    {
     "data": {
      "text/plain": [
       "1188"
      ]
     },
     "execution_count": 57,
     "metadata": {},
     "output_type": "execute_result"
    }
   ],
   "source": [
    "datediff.days"
   ]
  },
  {
   "cell_type": "code",
   "execution_count": 74,
   "id": "9bc62583-00f2-42e5-8ca1-bbb1b0275520",
   "metadata": {},
   "outputs": [],
   "source": [
    "datetime1 = datetime.datetime(2006, 2, 17, 12, 3, 26)\n",
    "datetime2 = datetime.datetime(2007, 2, 17, 13, 3, 52)\n",
    "datetimediff = datetime2 - datetime1"
   ]
  },
  {
   "cell_type": "code",
   "execution_count": 75,
   "id": "83abe9ea-0d0c-4b66-8014-294f436b1181",
   "metadata": {},
   "outputs": [
    {
     "data": {
      "text/plain": [
       "datetime.timedelta(days=365, seconds=3626)"
      ]
     },
     "execution_count": 75,
     "metadata": {},
     "output_type": "execute_result"
    }
   ],
   "source": [
    "datetimediff"
   ]
  },
  {
   "cell_type": "code",
   "execution_count": 73,
   "id": "f6f5399e-9753-4d7d-b426-59af9894862c",
   "metadata": {},
   "outputs": [
    {
     "data": {
      "text/plain": [
       "365"
      ]
     },
     "execution_count": 73,
     "metadata": {},
     "output_type": "execute_result"
    }
   ],
   "source": [
    "datetimediff.days"
   ]
  },
  {
   "cell_type": "code",
   "execution_count": 76,
   "id": "48c6d453-0496-43cd-b52d-8bce2b4c2236",
   "metadata": {},
   "outputs": [
    {
     "data": {
      "text/plain": [
       "31539626.0"
      ]
     },
     "execution_count": 76,
     "metadata": {},
     "output_type": "execute_result"
    }
   ],
   "source": [
    "datetimediff.total_seconds()"
   ]
  },
  {
   "cell_type": "code",
   "execution_count": 77,
   "id": "eaf768d1-2aaa-4a20-9392-77ebe5cf582d",
   "metadata": {},
   "outputs": [
    {
     "data": {
      "text/plain": [
       "0"
      ]
     },
     "execution_count": 77,
     "metadata": {},
     "output_type": "execute_result"
    }
   ],
   "source": [
    "datetimediff.microseconds"
   ]
  },
  {
   "cell_type": "code",
   "execution_count": 78,
   "id": "9a5afeff-851b-4043-ad17-ca04aa8bf02c",
   "metadata": {},
   "outputs": [
    {
     "data": {
      "text/plain": [
       "datetime.timedelta(days=999999999, seconds=86399, microseconds=999999)"
      ]
     },
     "execution_count": 78,
     "metadata": {},
     "output_type": "execute_result"
    }
   ],
   "source": [
    "datetimediff.max"
   ]
  },
  {
   "cell_type": "code",
   "execution_count": null,
   "id": "ea27ca58-6461-4337-90ca-b943edf5c2b6",
   "metadata": {},
   "outputs": [],
   "source": []
  }
 ],
 "metadata": {
  "kernelspec": {
   "display_name": "Python 3 (ipykernel)",
   "language": "python",
   "name": "python3"
  },
  "language_info": {
   "codemirror_mode": {
    "name": "ipython",
    "version": 3
   },
   "file_extension": ".py",
   "mimetype": "text/x-python",
   "name": "python",
   "nbconvert_exporter": "python",
   "pygments_lexer": "ipython3",
   "version": "3.12.7"
  }
 },
 "nbformat": 4,
 "nbformat_minor": 5
}
