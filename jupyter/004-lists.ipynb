{
 "cells": [
  {
   "cell_type": "code",
   "execution_count": 1,
   "id": "76bcb6c9-45f5-4393-98f0-f049f52961a6",
   "metadata": {},
   "outputs": [],
   "source": [
    "list1 = [\"one\", \"two\"]"
   ]
  },
  {
   "cell_type": "code",
   "execution_count": 2,
   "id": "4fe8d00b-4ec7-4df0-8ce2-2a37d063d0a9",
   "metadata": {},
   "outputs": [],
   "source": [
    "list2 = [\"three\", \"four\", \"five\"]"
   ]
  },
  {
   "cell_type": "code",
   "execution_count": 3,
   "id": "b1df30fd-302e-450b-8bde-6395cc744bca",
   "metadata": {},
   "outputs": [
    {
     "data": {
      "text/plain": [
       "['one', 'two']"
      ]
     },
     "execution_count": 3,
     "metadata": {},
     "output_type": "execute_result"
    }
   ],
   "source": [
    "list1"
   ]
  },
  {
   "cell_type": "code",
   "execution_count": 4,
   "id": "7a302fa8-e054-4175-aae8-a2db863092b7",
   "metadata": {},
   "outputs": [
    {
     "data": {
      "text/plain": [
       "['three', 'four', 'five']"
      ]
     },
     "execution_count": 4,
     "metadata": {},
     "output_type": "execute_result"
    }
   ],
   "source": [
    "list2"
   ]
  },
  {
   "cell_type": "code",
   "execution_count": 5,
   "id": "3413a260-a343-44e9-8bf4-5b2a4fea941a",
   "metadata": {},
   "outputs": [],
   "source": [
    "list3 = list1+list1"
   ]
  },
  {
   "cell_type": "code",
   "execution_count": 6,
   "id": "a637ed18-af35-4674-b319-1f1b08f17f67",
   "metadata": {},
   "outputs": [
    {
     "data": {
      "text/plain": [
       "['one', 'two', 'one', 'two']"
      ]
     },
     "execution_count": 6,
     "metadata": {},
     "output_type": "execute_result"
    }
   ],
   "source": [
    "list3"
   ]
  },
  {
   "cell_type": "code",
   "execution_count": 7,
   "id": "19ab7b3f-e834-4a3a-9bd6-79fdb79abebd",
   "metadata": {},
   "outputs": [],
   "source": [
    "list3 = list1 + list2"
   ]
  },
  {
   "cell_type": "code",
   "execution_count": 8,
   "id": "6a664060-de87-4b40-be5f-9067e898966c",
   "metadata": {},
   "outputs": [
    {
     "data": {
      "text/plain": [
       "['one', 'two', 'three', 'four', 'five']"
      ]
     },
     "execution_count": 8,
     "metadata": {},
     "output_type": "execute_result"
    }
   ],
   "source": [
    "list3"
   ]
  },
  {
   "cell_type": "code",
   "execution_count": 9,
   "id": "04d433ad-f159-4843-853f-f390427803d7",
   "metadata": {},
   "outputs": [],
   "source": [
    "list3.append(\"six\")"
   ]
  },
  {
   "cell_type": "code",
   "execution_count": 10,
   "id": "a7973938-bb34-44ff-9004-2c4c8e75c6f7",
   "metadata": {},
   "outputs": [
    {
     "data": {
      "text/plain": [
       "['one', 'two', 'three', 'four', 'five', 'six']"
      ]
     },
     "execution_count": 10,
     "metadata": {},
     "output_type": "execute_result"
    }
   ],
   "source": [
    "list3"
   ]
  },
  {
   "cell_type": "code",
   "execution_count": 11,
   "id": "f68fbcd9-0afb-453b-856b-d89607e0997a",
   "metadata": {},
   "outputs": [
    {
     "data": {
      "text/plain": [
       "'one'"
      ]
     },
     "execution_count": 11,
     "metadata": {},
     "output_type": "execute_result"
    }
   ],
   "source": [
    "list3.pop(0)"
   ]
  },
  {
   "cell_type": "code",
   "execution_count": 12,
   "id": "c7dce4c4-516c-4de4-b353-c1b8cb59da95",
   "metadata": {},
   "outputs": [
    {
     "data": {
      "text/plain": [
       "'six'"
      ]
     },
     "execution_count": 12,
     "metadata": {},
     "output_type": "execute_result"
    }
   ],
   "source": [
    "list3.pop()"
   ]
  },
  {
   "cell_type": "code",
   "execution_count": 13,
   "id": "719d16cd-9af7-4d47-8cc7-3771cc2ccb15",
   "metadata": {},
   "outputs": [],
   "source": [
    "list3.sort()"
   ]
  },
  {
   "cell_type": "code",
   "execution_count": 14,
   "id": "14ce8f19-74c5-4f1a-9fc8-a83df6912c6d",
   "metadata": {},
   "outputs": [
    {
     "data": {
      "text/plain": [
       "['five', 'four', 'three', 'two']"
      ]
     },
     "execution_count": 14,
     "metadata": {},
     "output_type": "execute_result"
    }
   ],
   "source": [
    "list3"
   ]
  },
  {
   "cell_type": "code",
   "execution_count": 15,
   "id": "f4170a2c-bb38-4e4c-a947-43542d34c715",
   "metadata": {},
   "outputs": [],
   "source": [
    "list3.reverse()"
   ]
  },
  {
   "cell_type": "code",
   "execution_count": 16,
   "id": "7032e0c7-30ba-4a19-9e40-a9da45340c3e",
   "metadata": {},
   "outputs": [
    {
     "data": {
      "text/plain": [
       "['two', 'three', 'four', 'five']"
      ]
     },
     "execution_count": 16,
     "metadata": {},
     "output_type": "execute_result"
    }
   ],
   "source": [
    "list3"
   ]
  },
  {
   "cell_type": "code",
   "execution_count": null,
   "id": "5299d706-3fca-4561-9fc3-3e3083cb8bce",
   "metadata": {},
   "outputs": [],
   "source": []
  }
 ],
 "metadata": {
  "kernelspec": {
   "display_name": "Python 3 (ipykernel)",
   "language": "python",
   "name": "python3"
  },
  "language_info": {
   "codemirror_mode": {
    "name": "ipython",
    "version": 3
   },
   "file_extension": ".py",
   "mimetype": "text/x-python",
   "name": "python",
   "nbconvert_exporter": "python",
   "pygments_lexer": "ipython3",
   "version": "3.12.7"
  }
 },
 "nbformat": 4,
 "nbformat_minor": 5
}
