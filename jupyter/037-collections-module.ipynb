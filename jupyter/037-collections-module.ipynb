{
 "cells": [
  {
   "cell_type": "code",
   "execution_count": 1,
   "id": "fcdb4160-a076-4047-81b3-72a84bd98342",
   "metadata": {},
   "outputs": [],
   "source": [
    "from collections import Counter"
   ]
  },
  {
   "cell_type": "code",
   "execution_count": 8,
   "id": "49f6ad90-191a-4bde-854d-344bf21b6866",
   "metadata": {},
   "outputs": [],
   "source": [
    "myList1 = [1,1,1,1,2,2,2,2,2,3,3,3,3,3,3,3,3,3,3,3,5]"
   ]
  },
  {
   "cell_type": "code",
   "execution_count": 9,
   "id": "1646d0bc-5929-4015-92bc-a2514f0eaa67",
   "metadata": {},
   "outputs": [
    {
     "data": {
      "text/plain": [
       "Counter({3: 11, 2: 5, 1: 4, 5: 1})"
      ]
     },
     "execution_count": 9,
     "metadata": {},
     "output_type": "execute_result"
    }
   ],
   "source": [
    "Counter(myList1)"
   ]
  },
  {
   "cell_type": "code",
   "execution_count": 10,
   "id": "b24b2492-b6db-47eb-a7f3-2ae8a85bb761",
   "metadata": {},
   "outputs": [
    {
     "name": "stdout",
     "output_type": "stream",
     "text": [
      "1\n",
      "2\n",
      "3\n",
      "5\n"
     ]
    }
   ],
   "source": [
    "for i in Counter(myList1):\n",
    "    print(i)"
   ]
  },
  {
   "cell_type": "code",
   "execution_count": 11,
   "id": "0149edfd-4ee5-402c-b681-7cec861fc0fd",
   "metadata": {},
   "outputs": [],
   "source": [
    "myList2 = [1,1,2,2,2,3,3,3,3,'a','a','a','b','b']"
   ]
  },
  {
   "cell_type": "code",
   "execution_count": 12,
   "id": "19645553-4ffb-4665-9812-43944e061cd2",
   "metadata": {},
   "outputs": [
    {
     "data": {
      "text/plain": [
       "Counter({3: 4, 2: 3, 'a': 3, 1: 2, 'b': 2})"
      ]
     },
     "execution_count": 12,
     "metadata": {},
     "output_type": "execute_result"
    }
   ],
   "source": [
    "Counter(myList2)"
   ]
  },
  {
   "cell_type": "code",
   "execution_count": 17,
   "id": "8135444a-c1f9-48a9-9553-a9c782475d36",
   "metadata": {},
   "outputs": [],
   "source": [
    "sent = \"How many times does the word ' word ' show up in this sentence made of words\""
   ]
  },
  {
   "cell_type": "code",
   "execution_count": 18,
   "id": "c78dec59-678c-48d0-8d89-23d838f11eaf",
   "metadata": {},
   "outputs": [
    {
     "data": {
      "text/plain": [
       "Counter({'word': 2,\n",
       "         \"'\": 2,\n",
       "         'how': 1,\n",
       "         'many': 1,\n",
       "         'times': 1,\n",
       "         'does': 1,\n",
       "         'the': 1,\n",
       "         'show': 1,\n",
       "         'up': 1,\n",
       "         'in': 1,\n",
       "         'this': 1,\n",
       "         'sentence': 1,\n",
       "         'made': 1,\n",
       "         'of': 1,\n",
       "         'words': 1})"
      ]
     },
     "execution_count": 18,
     "metadata": {},
     "output_type": "execute_result"
    }
   ],
   "source": [
    "Counter(sent.lower().split())"
   ]
  },
  {
   "cell_type": "code",
   "execution_count": 19,
   "id": "628ded2f-af01-4993-a92e-29e80147aa59",
   "metadata": {},
   "outputs": [],
   "source": [
    "st = 'aaabbbbcccccdddddd'"
   ]
  },
  {
   "cell_type": "code",
   "execution_count": 20,
   "id": "cf0cffba-616c-40e8-b5e6-6063a92c0f9e",
   "metadata": {},
   "outputs": [
    {
     "data": {
      "text/plain": [
       "Counter({'d': 6, 'c': 5, 'b': 4, 'a': 3})"
      ]
     },
     "execution_count": 20,
     "metadata": {},
     "output_type": "execute_result"
    }
   ],
   "source": [
    "Counter(st)"
   ]
  },
  {
   "cell_type": "code",
   "execution_count": 21,
   "id": "a1234ca4-e94c-4cc0-ae70-ad834a916179",
   "metadata": {},
   "outputs": [],
   "source": [
    "st_count = Counter(st)"
   ]
  },
  {
   "cell_type": "code",
   "execution_count": 22,
   "id": "a616a0e1-b334-4cac-8bd8-c734e81527c9",
   "metadata": {},
   "outputs": [
    {
     "data": {
      "text/plain": [
       "Counter({'d': 6, 'c': 5, 'b': 4, 'a': 3})"
      ]
     },
     "execution_count": 22,
     "metadata": {},
     "output_type": "execute_result"
    }
   ],
   "source": [
    "st_count"
   ]
  },
  {
   "cell_type": "code",
   "execution_count": 23,
   "id": "ef114508-81af-4761-a071-92c30c03da8c",
   "metadata": {},
   "outputs": [
    {
     "data": {
      "text/plain": [
       "[('d', 6), ('c', 5), ('b', 4), ('a', 3)]"
      ]
     },
     "execution_count": 23,
     "metadata": {},
     "output_type": "execute_result"
    }
   ],
   "source": [
    "st_count.most_common()"
   ]
  },
  {
   "cell_type": "code",
   "execution_count": 24,
   "id": "89ec4b6a-58e9-4859-b0d5-91d38681de50",
   "metadata": {},
   "outputs": [
    {
     "data": {
      "text/plain": [
       "[('d', 6), ('c', 5)]"
      ]
     },
     "execution_count": 24,
     "metadata": {},
     "output_type": "execute_result"
    }
   ],
   "source": [
    "st_count.most_common(2)"
   ]
  },
  {
   "cell_type": "code",
   "execution_count": 25,
   "id": "2f862ce4-05b2-4d6f-a6d1-8610c995cba4",
   "metadata": {},
   "outputs": [
    {
     "data": {
      "text/plain": [
       "['a', 'b', 'c', 'd']"
      ]
     },
     "execution_count": 25,
     "metadata": {},
     "output_type": "execute_result"
    }
   ],
   "source": [
    "list(st_count)"
   ]
  },
  {
   "cell_type": "code",
   "execution_count": 26,
   "id": "20e4ae80-53d0-4e95-ac0a-42cf4fd9605a",
   "metadata": {},
   "outputs": [],
   "source": [
    "from collections import defaultdict"
   ]
  },
  {
   "cell_type": "code",
   "execution_count": 27,
   "id": "eb45d8fa-b1b5-4dc9-a699-8b19298185d4",
   "metadata": {},
   "outputs": [],
   "source": [
    "d = {'a':10}"
   ]
  },
  {
   "cell_type": "code",
   "execution_count": 30,
   "id": "33a784ec-9af7-4e30-b9f0-bffdcda7d463",
   "metadata": {},
   "outputs": [
    {
     "data": {
      "text/plain": [
       "10"
      ]
     },
     "execution_count": 30,
     "metadata": {},
     "output_type": "execute_result"
    }
   ],
   "source": [
    "d['a']"
   ]
  },
  {
   "cell_type": "code",
   "execution_count": 31,
   "id": "be9203a8-0ef5-418f-b6e5-f0c917afcae9",
   "metadata": {},
   "outputs": [
    {
     "ename": "KeyError",
     "evalue": "'wrong'",
     "output_type": "error",
     "traceback": [
      "\u001b[0;31m---------------------------------------------------------------------------\u001b[0m",
      "\u001b[0;31mKeyError\u001b[0m                                  Traceback (most recent call last)",
      "Cell \u001b[0;32mIn[31], line 1\u001b[0m\n\u001b[0;32m----> 1\u001b[0m d[\u001b[38;5;124m'\u001b[39m\u001b[38;5;124mwrong\u001b[39m\u001b[38;5;124m'\u001b[39m]\n",
      "\u001b[0;31mKeyError\u001b[0m: 'wrong'"
     ]
    }
   ],
   "source": [
    "d['wrong']"
   ]
  },
  {
   "cell_type": "code",
   "execution_count": 32,
   "id": "f1adeb75-be34-4a2e-bb54-a8f0839b4fe6",
   "metadata": {},
   "outputs": [],
   "source": [
    "# defaultdict assigns a default value to the key if said key is not avaible in the dictionary "
   ]
  },
  {
   "cell_type": "code",
   "execution_count": 33,
   "id": "44fd4670-94d8-420a-bcb0-e02105afa7a4",
   "metadata": {},
   "outputs": [],
   "source": [
    "d = defaultdict(lambda: 0)"
   ]
  },
  {
   "cell_type": "code",
   "execution_count": 34,
   "id": "20aacad7-9339-4d49-930e-78ff64baf9ca",
   "metadata": {},
   "outputs": [],
   "source": [
    "d['correct'] = 100"
   ]
  },
  {
   "cell_type": "code",
   "execution_count": 35,
   "id": "237b7e71-bfa2-4b28-8732-7083ba3b9d14",
   "metadata": {},
   "outputs": [
    {
     "data": {
      "text/plain": [
       "100"
      ]
     },
     "execution_count": 35,
     "metadata": {},
     "output_type": "execute_result"
    }
   ],
   "source": [
    "d['correct']"
   ]
  },
  {
   "cell_type": "code",
   "execution_count": 36,
   "id": "23329356-b60b-472d-95de-5556f350dd00",
   "metadata": {},
   "outputs": [
    {
     "data": {
      "text/plain": [
       "0"
      ]
     },
     "execution_count": 36,
     "metadata": {},
     "output_type": "execute_result"
    }
   ],
   "source": [
    "d['wrong']"
   ]
  },
  {
   "cell_type": "code",
   "execution_count": 39,
   "id": "fba7e329-8c36-4918-9694-2dfa5860d5e9",
   "metadata": {},
   "outputs": [
    {
     "data": {
      "text/plain": [
       "defaultdict(<function __main__.<lambda>()>, {'correct': 100, 'wrong': 0})"
      ]
     },
     "execution_count": 39,
     "metadata": {},
     "output_type": "execute_result"
    }
   ],
   "source": [
    "d"
   ]
  },
  {
   "cell_type": "code",
   "execution_count": 40,
   "id": "02a67f74-b319-4cc0-ba42-1fc6e4637af6",
   "metadata": {},
   "outputs": [],
   "source": [
    "myTuple = (10,20,30)"
   ]
  },
  {
   "cell_type": "code",
   "execution_count": 41,
   "id": "d9ca5272-e05d-4439-b282-5c1161bcba5e",
   "metadata": {},
   "outputs": [
    {
     "data": {
      "text/plain": [
       "10"
      ]
     },
     "execution_count": 41,
     "metadata": {},
     "output_type": "execute_result"
    }
   ],
   "source": [
    "myTuple[0]"
   ]
  },
  {
   "cell_type": "code",
   "execution_count": 42,
   "id": "8b1afbbe-59d6-4634-a5f4-27c5b467b9dc",
   "metadata": {},
   "outputs": [],
   "source": [
    "from collections import namedtuple"
   ]
  },
  {
   "cell_type": "code",
   "execution_count": 43,
   "id": "9ddeb5ff-ca55-4772-b415-922bb2a47716",
   "metadata": {},
   "outputs": [],
   "source": [
    "Dog = namedtuple('Dog', ['age','breed','name'])"
   ]
  },
  {
   "cell_type": "code",
   "execution_count": 44,
   "id": "fbb2935a-aed1-4c5c-892e-78e0d609543c",
   "metadata": {},
   "outputs": [],
   "source": [
    "sammy = Dog(5, 'Husky', 'Sam')"
   ]
  },
  {
   "cell_type": "code",
   "execution_count": 45,
   "id": "6b31160d-4cfd-4331-9b57-b8ea1a263ee2",
   "metadata": {},
   "outputs": [
    {
     "data": {
      "text/plain": [
       "__main__.Dog"
      ]
     },
     "execution_count": 45,
     "metadata": {},
     "output_type": "execute_result"
    }
   ],
   "source": [
    "type(sammy)"
   ]
  },
  {
   "cell_type": "code",
   "execution_count": 46,
   "id": "81943dd0-90fb-458b-b09b-fae2b2b95bae",
   "metadata": {},
   "outputs": [
    {
     "data": {
      "text/plain": [
       "Dog(age=5, breed='Husky', name='Sam')"
      ]
     },
     "execution_count": 46,
     "metadata": {},
     "output_type": "execute_result"
    }
   ],
   "source": [
    "sammy"
   ]
  },
  {
   "cell_type": "code",
   "execution_count": 47,
   "id": "6465bd82-7f8f-4794-913b-16552aded875",
   "metadata": {},
   "outputs": [
    {
     "data": {
      "text/plain": [
       "5"
      ]
     },
     "execution_count": 47,
     "metadata": {},
     "output_type": "execute_result"
    }
   ],
   "source": [
    "sammy.age"
   ]
  },
  {
   "cell_type": "code",
   "execution_count": 48,
   "id": "eebaac24-cc95-4b21-b251-ac54fab8fe0a",
   "metadata": {},
   "outputs": [
    {
     "data": {
      "text/plain": [
       "5"
      ]
     },
     "execution_count": 48,
     "metadata": {},
     "output_type": "execute_result"
    }
   ],
   "source": [
    "sammy[0]"
   ]
  },
  {
   "cell_type": "code",
   "execution_count": null,
   "id": "448eb746-9346-4750-96ce-bf902c47bf44",
   "metadata": {},
   "outputs": [],
   "source": []
  }
 ],
 "metadata": {
  "kernelspec": {
   "display_name": "Python 3 (ipykernel)",
   "language": "python",
   "name": "python3"
  },
  "language_info": {
   "codemirror_mode": {
    "name": "ipython",
    "version": 3
   },
   "file_extension": ".py",
   "mimetype": "text/x-python",
   "name": "python",
   "nbconvert_exporter": "python",
   "pygments_lexer": "ipython3",
   "version": "3.12.7"
  }
 },
 "nbformat": 4,
 "nbformat_minor": 5
}
