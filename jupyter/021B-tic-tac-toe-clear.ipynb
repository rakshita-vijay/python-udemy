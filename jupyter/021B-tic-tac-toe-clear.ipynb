{
 "cells": [
  {
   "cell_type": "markdown",
   "id": "4280d6d7-20cc-4843-8747-c26d4966f365",
   "metadata": {},
   "source": [
    "rs = [[\" \", \" \", \" \"], \n",
    "      [\" \", \" \", \" \"], \n",
    "      [\" \", \" \", \" \"]]\n",
    "def disp(rows): \n",
    "    print(\"    -------------\")\n",
    "    for a,b,c in rows:\n",
    "        print(f\"    | {a} | {b} | {c} |\")\n",
    "        print(\"    -------------\")\n",
    "disp(rs)"
   ]
  },
  {
   "cell_type": "code",
   "execution_count": 12,
   "id": "a0c0b070-713e-4aa1-a83e-65749473e79a",
   "metadata": {},
   "outputs": [],
   "source": [
    "def def_rows():\n",
    "    global rows\n",
    "    global rs\n",
    "    rows = [[1, 2, 3], \n",
    "            [4, 5, 6], \n",
    "            [7, 8, 9]]\n",
    "    rs = [[\" \", \" \", \" \"], \n",
    "          [\" \", \" \", \" \"], \n",
    "          [\" \", \" \", \" \"]]\n",
    "\n",
    "def display():  \n",
    "    print(\"    -------------             -------------\") \n",
    "    for i in range(0,3):\n",
    "        print(f\"    | {rows[i][0]} | {rows[i][1]} | {rows[i][2]} |             | {rs[i][0]} | {rs[i][1]} | {rs[i][2]} |\")\n",
    "        print(\"    -------------             -------------\") \n",
    "\n",
    "def check_if_won():\n",
    "    for a,b,c in rs:\n",
    "        if (a == b) and (b == c) and (c == 'x' or c == 'o'): \n",
    "            return True\n",
    "    for j in range(0,3):\n",
    "        if (rs[0][j] == rs[1][j]) and (rs[1][j] == rs[2][j]) and (rs[2][j] == 'x' or rs[2][j] == 'o'): \n",
    "            return True\n",
    "    if ((rs[0][0] == rs[1][1] and rs[1][1] == rs[2][2]) or (rs[0][2] == rs[1][1] and rs[1][1] == rs[2][0])) and (rs[1][1] == 'x' or rs[1][1] == 'o'):\n",
    "        return True\n",
    "        \n",
    "    return False\n",
    "\n",
    "def x_or_o(player_num): \n",
    "        return ('x' if player_num == 1 else 'o')\n",
    "        \n",
    "def re_request_choice(player_num, info = \"choice is out-of-bounds\"):\n",
    "    # icon = x_or_o(player_num)\n",
    "    icon = 'x' if player_num == 1 else 'o'\n",
    "    choice = int(input(f\"Sorry, invalid choice, player {player_num} - {info} ({icon}). \\nRe-enter a number from 1 to 9: \"))\n",
    "    while (choice < 1 or choice > 9):\n",
    "            choice = re_request_choice(player_num)\n",
    "    return choice\n",
    "\n",
    "def check_and_enter_choice(player_num, choice): \n",
    "    icon = x_or_o(player_num)\n",
    "    \n",
    "    if (choice >= 1 and choice <= 3):\n",
    "        while (type(rows[0][choice-1]) != int):\n",
    "            choice = re_request_choice(player_num, \"box is already full\")\n",
    "                 \n",
    "        rows[0][choice-1] = \" \"\n",
    "        rs[0][choice-1] = icon\n",
    "        \n",
    "    elif (choice >= 4 and choice <= 6):\n",
    "        while (type(rows[1][choice-4]) != int):\n",
    "            choice = re_request_choice(player_num, \"box is already full\")\n",
    "                  \n",
    "        rows[1][choice-4] = \" \" \n",
    "        rs[1][choice-4] = icon \n",
    "        \n",
    "    elif (choice >= 7 and choice <= 9): \n",
    "        while (type(rows[2][choice-7]) != int):\n",
    "            choice = re_request_choice(player_num, \"box is already full\")\n",
    "            \n",
    "        rows[2][choice-7] = \" \" \n",
    "        rs[2][choice-7] = icon  \n",
    "\n",
    "def if_full():\n",
    "    c = 0\n",
    "    for row in rows:\n",
    "        for box in row:\n",
    "            if type(box) != int:\n",
    "                c += 1\n",
    "    if c == 9:\n",
    "        return True\n",
    "    else:\n",
    "        return False\n",
    "        \n",
    "def play_tic_tac_toe():\n",
    "    def_rows()\n",
    "    player_num = 1\n",
    "    while (True): \n",
    "        display() \n",
    "\n",
    "        if if_full() == True: \n",
    "            return \"Sorry, board is full - it's a tie!\"\n",
    "            \n",
    "        icon = x_or_o(player_num)    \n",
    "        choice = int(input(f\"Player {player_num} ({icon}), enter a number from 1 to 9: \"))\n",
    "        \n",
    "        while (choice < 0 or choice > 9):\n",
    "            choice = re_request_choice(player_num)\n",
    "            \n",
    "        check_and_enter_choice(player_num, choice)\n",
    "                \n",
    "        if (check_if_won() == True):\n",
    "            display()\n",
    "            def_rows()\n",
    "            return f\"Congrats, player {player_num} ({icon})! You won!\"\n",
    "        else: \n",
    "            player_num = (2 if (player_num == 1) else 1)"
   ]
  },
  {
   "cell_type": "code",
   "execution_count": 13,
   "id": "56d2592c-1e2e-4747-b4c1-f9351a37f6dc",
   "metadata": {},
   "outputs": [
    {
     "name": "stdout",
     "output_type": "stream",
     "text": [
      "    -------------             -------------\n",
      "    | 1 | 2 | 3 |             |   |   |   |\n",
      "    -------------             -------------\n",
      "    | 4 | 5 | 6 |             |   |   |   |\n",
      "    -------------             -------------\n",
      "    | 7 | 8 | 9 |             |   |   |   |\n",
      "    -------------             -------------\n"
     ]
    },
    {
     "name": "stdin",
     "output_type": "stream",
     "text": [
      "Player 1 (x), enter a number from 1 to 9:  1\n"
     ]
    },
    {
     "name": "stdout",
     "output_type": "stream",
     "text": [
      "    -------------             -------------\n",
      "    |   | 2 | 3 |             | x |   |   |\n",
      "    -------------             -------------\n",
      "    | 4 | 5 | 6 |             |   |   |   |\n",
      "    -------------             -------------\n",
      "    | 7 | 8 | 9 |             |   |   |   |\n",
      "    -------------             -------------\n"
     ]
    },
    {
     "name": "stdin",
     "output_type": "stream",
     "text": [
      "Player 2 (o), enter a number from 1 to 9:  2\n"
     ]
    },
    {
     "name": "stdout",
     "output_type": "stream",
     "text": [
      "    -------------             -------------\n",
      "    |   |   | 3 |             | x | o |   |\n",
      "    -------------             -------------\n",
      "    | 4 | 5 | 6 |             |   |   |   |\n",
      "    -------------             -------------\n",
      "    | 7 | 8 | 9 |             |   |   |   |\n",
      "    -------------             -------------\n"
     ]
    },
    {
     "name": "stdin",
     "output_type": "stream",
     "text": [
      "Player 1 (x), enter a number from 1 to 9:  5\n"
     ]
    },
    {
     "name": "stdout",
     "output_type": "stream",
     "text": [
      "    -------------             -------------\n",
      "    |   |   | 3 |             | x | o |   |\n",
      "    -------------             -------------\n",
      "    | 4 |   | 6 |             |   | x |   |\n",
      "    -------------             -------------\n",
      "    | 7 | 8 | 9 |             |   |   |   |\n",
      "    -------------             -------------\n"
     ]
    },
    {
     "name": "stdin",
     "output_type": "stream",
     "text": [
      "Player 2 (o), enter a number from 1 to 9:  6\n"
     ]
    },
    {
     "name": "stdout",
     "output_type": "stream",
     "text": [
      "    -------------             -------------\n",
      "    |   |   | 3 |             | x | o |   |\n",
      "    -------------             -------------\n",
      "    | 4 |   |   |             |   | x | o |\n",
      "    -------------             -------------\n",
      "    | 7 | 8 | 9 |             |   |   |   |\n",
      "    -------------             -------------\n"
     ]
    },
    {
     "name": "stdin",
     "output_type": "stream",
     "text": [
      "Player 1 (x), enter a number from 1 to 9:  9\n"
     ]
    },
    {
     "name": "stdout",
     "output_type": "stream",
     "text": [
      "    -------------             -------------\n",
      "    |   |   | 3 |             | x | o |   |\n",
      "    -------------             -------------\n",
      "    | 4 |   |   |             |   | x | o |\n",
      "    -------------             -------------\n",
      "    | 7 | 8 |   |             |   |   | x |\n",
      "    -------------             -------------\n"
     ]
    },
    {
     "data": {
      "text/plain": [
       "'Congrats, player 1 (x)! You won!'"
      ]
     },
     "execution_count": 13,
     "metadata": {},
     "output_type": "execute_result"
    }
   ],
   "source": [
    "play_tic_tac_toe()"
   ]
  },
  {
   "cell_type": "code",
   "execution_count": null,
   "id": "ea93bdd2-e245-4cf5-9333-de6f85eb671d",
   "metadata": {},
   "outputs": [],
   "source": []
  }
 ],
 "metadata": {
  "kernelspec": {
   "display_name": "Python 3 (ipykernel)",
   "language": "python",
   "name": "python3"
  },
  "language_info": {
   "codemirror_mode": {
    "name": "ipython",
    "version": 3
   },
   "file_extension": ".py",
   "mimetype": "text/x-python",
   "name": "python",
   "nbconvert_exporter": "python",
   "pygments_lexer": "ipython3",
   "version": "3.12.7"
  }
 },
 "nbformat": 4,
 "nbformat_minor": 5
}
