{
 "cells": [
  {
   "cell_type": "code",
   "execution_count": 1,
   "id": "91a6b5e0-71a7-4809-875c-ab4630d641de",
   "metadata": {},
   "outputs": [
    {
     "name": "stdout",
     "output_type": "stream",
     "text": [
      "This is the part of the string that is inserted\n"
     ]
    }
   ],
   "source": [
    "print(\"This is the part of the string {}\".format(\"that is inserted\"))"
   ]
  },
  {
   "cell_type": "code",
   "execution_count": 2,
   "id": "a2e569c9-f890-4ce6-92ec-e0eb7d061445",
   "metadata": {},
   "outputs": [
    {
     "name": "stdout",
     "output_type": "stream",
     "text": [
      "This is the part of the string that is inserted, and this is another!\n"
     ]
    }
   ],
   "source": [
    "print(\"This is the part of the string {}, and {}!\".format(\"that is inserted\", \"this is another\"))"
   ]
  },
  {
   "cell_type": "code",
   "execution_count": 3,
   "id": "98723b04-7938-4b44-9449-5bcd19aec008",
   "metadata": {},
   "outputs": [
    {
     "name": "stdout",
     "output_type": "stream",
     "text": [
      "The quick brown fox\n"
     ]
    }
   ],
   "source": [
    "print(\"The {2} {0} {1}\".format(\"brown\", \"fox\", \"quick\"))"
   ]
  },
  {
   "cell_type": "code",
   "execution_count": 10,
   "id": "bb72b131-e9e9-4f1f-b648-d0314649e25c",
   "metadata": {},
   "outputs": [
    {
     "name": "stdout",
     "output_type": "stream",
     "text": [
      "The answer is 14.28571\n"
     ]
    }
   ],
   "source": [
    "divvv = 100 / 7\n",
    "print(\"The answer is {d:.5f}\".format(d = divvv))"
   ]
  },
  {
   "cell_type": "code",
   "execution_count": 11,
   "id": "493479f1-d035-4cfa-ad8c-1829ec1d9275",
   "metadata": {},
   "outputs": [
    {
     "name": "stdout",
     "output_type": "stream",
     "text": [
      "The answer is   14.28571\n"
     ]
    }
   ],
   "source": [
    "divvv = 100 / 7\n",
    "print(\"The answer is {d:10.5f}\".format(d = divvv))"
   ]
  },
  {
   "cell_type": "code",
   "execution_count": 12,
   "id": "ca6fe7b8-e796-42b3-874c-e51a478436ca",
   "metadata": {},
   "outputs": [],
   "source": [
    "name = \"Rakshita\""
   ]
  },
  {
   "cell_type": "code",
   "execution_count": 2,
   "id": "d53d763d-0166-489e-bcf0-0a18dd405ab7",
   "metadata": {},
   "outputs": [
    {
     "name": "stdout",
     "output_type": "stream",
     "text": [
      "My name is Rakshita\n"
     ]
    }
   ],
   "source": [
    "name = \"Rakshita\"\n",
    "print(f\"My name is {name}\")"
   ]
  },
  {
   "cell_type": "markdown",
   "id": "aeec3b07-3bd9-4aa9-bb73-58ac455c4169",
   "metadata": {},
   "source": [
    "this is called an f-string "
   ]
  },
  {
   "cell_type": "code",
   "execution_count": null,
   "id": "78b77844-36c7-42da-93b2-348004ecedd6",
   "metadata": {},
   "outputs": [],
   "source": []
  }
 ],
 "metadata": {
  "kernelspec": {
   "display_name": "Python 3 (ipykernel)",
   "language": "python",
   "name": "python3"
  },
  "language_info": {
   "codemirror_mode": {
    "name": "ipython",
    "version": 3
   },
   "file_extension": ".py",
   "mimetype": "text/x-python",
   "name": "python",
   "nbconvert_exporter": "python",
   "pygments_lexer": "ipython3",
   "version": "3.12.7"
  }
 },
 "nbformat": 4,
 "nbformat_minor": 5
}
