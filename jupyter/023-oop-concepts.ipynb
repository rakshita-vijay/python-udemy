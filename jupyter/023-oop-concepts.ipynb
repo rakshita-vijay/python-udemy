{
 "cells": [
  {
   "cell_type": "code",
   "execution_count": 16,
   "id": "4b375897-7e1c-4612-b077-31710e72bcff",
   "metadata": {},
   "outputs": [],
   "source": [
    "class Animal():  \n",
    "    species = \"Mammal\"\n",
    "        \n",
    "    def __init__(self, name, age):\n",
    "        self.name = name \n",
    "        self.age = age \n",
    "        print(\"Animal superclass accessed!\")\n",
    "        \n",
    "    def display(self): \n",
    "        print(f\"My name is {self.name} and I am {self.age} years old.\") \n",
    "        \n",
    "    def who_am_i(self):\n",
    "        print(\"I am an animal.\")\n",
    "\n",
    "    def eating(self):\n",
    "        print(\"I eat.\")\n",
    "\n",
    "    def sound(self):\n",
    "        # print(\"*generic animal noises*\")\n",
    "        raise NotImplementedError(\"Subclass must implement this abstract method\")"
   ]
  },
  {
   "cell_type": "code",
   "execution_count": 17,
   "id": "dd719d4b-b12d-46f8-9dc5-8d77f35da2bc",
   "metadata": {},
   "outputs": [],
   "source": [
    "class Dog(Animal):\n",
    "    def __init__(self, name, breed, age):\n",
    "        Animal.__init__(self, name, age)\n",
    "        self.breed = breed\n",
    "        print(\"Dog subclass accessed!\")\n",
    "    \n",
    "    def display(self): \n",
    "        Animal.display(self)\n",
    "        print(f\"I am a {self.breed} dog.\") \n",
    "        self.eating() # in intra-class calls, you don't need to mention self \n",
    "        \n",
    "    def who_am_i(self): # polymorphism - method overriding (diff classes, same signature); method overloading (same class, diff signature)\n",
    "        print(\"I am a dog.\") \n",
    "\n",
    "    def eating(self):\n",
    "        Animal.eating(self) # but in inter-class calls, you send the instance of self, and ask for the method to execute for that instance\n",
    "        print(\"I eat dog food and human food.\")\n",
    "\n",
    "    def sound(self):\n",
    "        print(\"Woof!\")"
   ]
  },
  {
   "cell_type": "code",
   "execution_count": 18,
   "id": "2a156910-e9dd-478c-b181-8de13bed9b4e",
   "metadata": {},
   "outputs": [],
   "source": [
    "class Cat(Animal):\n",
    "    def __init__(self, name, breed, age):\n",
    "        Animal.__init__(self, name, age)\n",
    "        self.breed = breed\n",
    "        print(\"Cat subclass accessed!\")\n",
    "    \n",
    "    def display(self): \n",
    "        Animal.display(self)\n",
    "        print(f\"I am a {self.breed} cat.\") \n",
    "        self.eating() # in intra-class calls, you don't need to mention self \n",
    "        \n",
    "    def who_am_i(self): # polymorphism - method overriding (diff classes, same signature); method overloading (same class, diff signature)\n",
    "        print(\"I am a cat.\") \n",
    "\n",
    "    def eating(self):\n",
    "        Animal.eating(self) # but in inter-class calls, you send the instance of self, and ask for the method to execute for that instance\n",
    "        print(\"I eat cat food and my human's sanity.\")\n",
    "\n",
    "    def sound(self):\n",
    "        print(\"Meowww...\")"
   ]
  },
  {
   "cell_type": "code",
   "execution_count": 19,
   "id": "9061995d-458c-46ce-8e60-d60ecb1714d2",
   "metadata": {},
   "outputs": [
    {
     "name": "stdout",
     "output_type": "stream",
     "text": [
      "Animal superclass accessed!\n",
      "Dog subclass accessed!\n"
     ]
    }
   ],
   "source": [
    "my_dog = Dog(\"Dexter\", \"Husky\", 3)"
   ]
  },
  {
   "cell_type": "code",
   "execution_count": 20,
   "id": "b3dc203c-d6b3-4122-99b6-2c23e739c3f7",
   "metadata": {},
   "outputs": [
    {
     "data": {
      "text/plain": [
       "('Dexter', 'Husky', 3)"
      ]
     },
     "execution_count": 20,
     "metadata": {},
     "output_type": "execute_result"
    }
   ],
   "source": [
    "my_dog.name, my_dog.breed, my_dog.age"
   ]
  },
  {
   "cell_type": "code",
   "execution_count": 21,
   "id": "b6d086a2-4fbe-4857-b0d9-76fd625ce158",
   "metadata": {},
   "outputs": [
    {
     "name": "stdout",
     "output_type": "stream",
     "text": [
      "My name is Dexter and I am 3 years old.\n",
      "I am a Husky dog.\n",
      "I eat.\n",
      "I eat dog food and human food.\n"
     ]
    }
   ],
   "source": [
    "my_dog.display()"
   ]
  },
  {
   "cell_type": "code",
   "execution_count": 22,
   "id": "b673118b-7687-4e02-a166-0f8d90a8591b",
   "metadata": {},
   "outputs": [
    {
     "name": "stdout",
     "output_type": "stream",
     "text": [
      "I am a dog.\n"
     ]
    }
   ],
   "source": [
    "my_dog.who_am_i()"
   ]
  },
  {
   "cell_type": "code",
   "execution_count": 23,
   "id": "35b46c02-666b-4263-8f59-38aa4ef28e35",
   "metadata": {},
   "outputs": [
    {
     "name": "stdout",
     "output_type": "stream",
     "text": [
      "I eat.\n",
      "I eat dog food and human food.\n"
     ]
    }
   ],
   "source": [
    "my_dog.eating()"
   ]
  },
  {
   "cell_type": "code",
   "execution_count": 24,
   "id": "8847c327-9586-4b65-b7b2-8a05621af24b",
   "metadata": {},
   "outputs": [
    {
     "name": "stdout",
     "output_type": "stream",
     "text": [
      "Woof!\n"
     ]
    }
   ],
   "source": [
    "my_dog.sound()"
   ]
  },
  {
   "cell_type": "code",
   "execution_count": 25,
   "id": "41e0f68b-021c-405a-a81c-d49058bb4d4a",
   "metadata": {},
   "outputs": [
    {
     "name": "stdout",
     "output_type": "stream",
     "text": [
      "Animal superclass accessed!\n",
      "Cat subclass accessed!\n"
     ]
    }
   ],
   "source": [
    "my_cat = Cat(\"Luna\", \"Calico\", 4)"
   ]
  },
  {
   "cell_type": "code",
   "execution_count": 26,
   "id": "b3cf4846-0a5d-4082-8f81-73e5e579ca31",
   "metadata": {},
   "outputs": [
    {
     "data": {
      "text/plain": [
       "('Luna', 'Calico', 4)"
      ]
     },
     "execution_count": 26,
     "metadata": {},
     "output_type": "execute_result"
    }
   ],
   "source": [
    "my_cat.name, my_cat.breed, my_cat.age"
   ]
  },
  {
   "cell_type": "code",
   "execution_count": 27,
   "id": "48f84b15-db86-4fad-871a-96e3ddda5552",
   "metadata": {},
   "outputs": [
    {
     "name": "stdout",
     "output_type": "stream",
     "text": [
      "My name is Luna and I am 4 years old.\n",
      "I am a Calico cat.\n",
      "I eat.\n",
      "I eat cat food and my human's sanity.\n"
     ]
    }
   ],
   "source": [
    "my_cat.display()"
   ]
  },
  {
   "cell_type": "code",
   "execution_count": 28,
   "id": "9b14b093-d150-4981-b01b-c143c8db5721",
   "metadata": {},
   "outputs": [
    {
     "name": "stdout",
     "output_type": "stream",
     "text": [
      "I am a cat.\n"
     ]
    }
   ],
   "source": [
    "my_cat.who_am_i()"
   ]
  },
  {
   "cell_type": "code",
   "execution_count": 29,
   "id": "2ce43c63-da8f-4c84-a3d8-bd09eddb4457",
   "metadata": {},
   "outputs": [
    {
     "name": "stdout",
     "output_type": "stream",
     "text": [
      "I eat.\n",
      "I eat cat food and my human's sanity.\n"
     ]
    }
   ],
   "source": [
    "my_cat.eating()"
   ]
  },
  {
   "cell_type": "code",
   "execution_count": 30,
   "id": "d7eda630-1d04-4300-b2ec-2ff01b06591e",
   "metadata": {},
   "outputs": [
    {
     "name": "stdout",
     "output_type": "stream",
     "text": [
      "Meowww...\n"
     ]
    }
   ],
   "source": [
    "my_cat.sound()"
   ]
  },
  {
   "cell_type": "code",
   "execution_count": 31,
   "id": "7a3416b3-c932-4dc0-add7-6dd03f1a4f6e",
   "metadata": {},
   "outputs": [
    {
     "name": "stdout",
     "output_type": "stream",
     "text": [
      "Animal superclass accessed!\n"
     ]
    }
   ],
   "source": [
    "my_ani = Animal(\"Generic\", -1)"
   ]
  },
  {
   "cell_type": "code",
   "execution_count": 33,
   "id": "a59788c6-6d0e-4d76-a18d-23c25db4fc89",
   "metadata": {},
   "outputs": [
    {
     "ename": "NotImplementedError",
     "evalue": "Subclass must implement this abstract method",
     "output_type": "error",
     "traceback": [
      "\u001b[0;31m---------------------------------------------------------------------------\u001b[0m",
      "\u001b[0;31mNotImplementedError\u001b[0m                       Traceback (most recent call last)",
      "Cell \u001b[0;32mIn[33], line 1\u001b[0m\n\u001b[0;32m----> 1\u001b[0m my_ani\u001b[38;5;241m.\u001b[39msound()\n",
      "Cell \u001b[0;32mIn[16], line 20\u001b[0m, in \u001b[0;36mAnimal.sound\u001b[0;34m(self)\u001b[0m\n\u001b[1;32m     18\u001b[0m \u001b[38;5;28;01mdef\u001b[39;00m \u001b[38;5;21msound\u001b[39m(\u001b[38;5;28mself\u001b[39m):\n\u001b[1;32m     19\u001b[0m     \u001b[38;5;66;03m# print(\"*generic animal noises*\")\u001b[39;00m\n\u001b[0;32m---> 20\u001b[0m     \u001b[38;5;28;01mraise\u001b[39;00m \u001b[38;5;167;01mNotImplementedError\u001b[39;00m(\u001b[38;5;124m\"\u001b[39m\u001b[38;5;124mSubclass must implement this abstract method\u001b[39m\u001b[38;5;124m\"\u001b[39m)\n",
      "\u001b[0;31mNotImplementedError\u001b[0m: Subclass must implement this abstract method"
     ]
    }
   ],
   "source": [
    "my_ani.sound()"
   ]
  },
  {
   "cell_type": "code",
   "execution_count": null,
   "id": "12b27c8d-c6ae-4c0f-86fe-c837b1bf0f7a",
   "metadata": {},
   "outputs": [],
   "source": []
  }
 ],
 "metadata": {
  "kernelspec": {
   "display_name": "Python 3 (ipykernel)",
   "language": "python",
   "name": "python3"
  },
  "language_info": {
   "codemirror_mode": {
    "name": "ipython",
    "version": 3
   },
   "file_extension": ".py",
   "mimetype": "text/x-python",
   "name": "python",
   "nbconvert_exporter": "python",
   "pygments_lexer": "ipython3",
   "version": "3.12.7"
  }
 },
 "nbformat": 4,
 "nbformat_minor": 5
}
