{
 "cells": [
  {
   "cell_type": "code",
   "execution_count": 1,
   "id": "5d418000-e8c5-40f7-8de7-9539e863378c",
   "metadata": {},
   "outputs": [],
   "source": [
    "class BankAccount():\n",
    "    def __init__(self, owner, balance):\n",
    "        self.owner = owner\n",
    "        self.balance = balance\n",
    "        \n",
    "    def __str__(self):\n",
    "        return (f\"Account Owner: {self.owner} \\nAccount Balance: ${self.balance}\")\n",
    "        \n",
    "    def deposit(self, amount): \n",
    "        print(f\"Your balance before deposit: ${self.balance}\")\n",
    "        self.balance += amount \n",
    "        print(f\"Your balance after deposit: ${self.balance}\") \n",
    "        print(f\"\\nTransaction (deposit) success!!\")\n",
    "        \n",
    "    def withdraw(self, amount):\n",
    "        if (amount > self.balance):\n",
    "            print(f\"Transaction failed - insufficient balance (${self.balance})\") \n",
    "        else: \n",
    "            print(f\"Your balance before withdrawal: ${self.balance}\")\n",
    "            self.balance -= amount \n",
    "            print(f\"Your balance after withdrawal: ${self.balance}\") \n",
    "            print(f\"\\nTransaction (withdrawal) success!!\")"
   ]
  },
  {
   "cell_type": "code",
   "execution_count": 2,
   "id": "44b0297d-f93e-440d-b8d2-455b6c7ab648",
   "metadata": {},
   "outputs": [],
   "source": [
    "acct1 = BankAccount('Jose',100)"
   ]
  },
  {
   "cell_type": "code",
   "execution_count": 3,
   "id": "0404d64e-6b6c-43d6-94c9-703ad8ac14c4",
   "metadata": {},
   "outputs": [
    {
     "name": "stdout",
     "output_type": "stream",
     "text": [
      "Account Owner: Jose \n",
      "Account Balance: $100\n"
     ]
    }
   ],
   "source": [
    "print(acct1)"
   ]
  },
  {
   "cell_type": "code",
   "execution_count": 4,
   "id": "1bca220a-3c17-4252-8994-5e4a6c3b6c4f",
   "metadata": {},
   "outputs": [
    {
     "data": {
      "text/plain": [
       "'Jose'"
      ]
     },
     "execution_count": 4,
     "metadata": {},
     "output_type": "execute_result"
    }
   ],
   "source": [
    "acct1.owner"
   ]
  },
  {
   "cell_type": "code",
   "execution_count": 5,
   "id": "1f763ca1-c911-4b16-934a-7ff923687fef",
   "metadata": {},
   "outputs": [
    {
     "data": {
      "text/plain": [
       "100"
      ]
     },
     "execution_count": 5,
     "metadata": {},
     "output_type": "execute_result"
    }
   ],
   "source": [
    "acct1.balance"
   ]
  },
  {
   "cell_type": "code",
   "execution_count": 6,
   "id": "121afe4b-07ff-40d0-b6f1-532dc82eb7d6",
   "metadata": {},
   "outputs": [
    {
     "name": "stdout",
     "output_type": "stream",
     "text": [
      "Your balance before deposit: $100\n",
      "Your balance after deposit: $150\n",
      "\n",
      "Transaction (deposit) success!!\n"
     ]
    }
   ],
   "source": [
    "acct1.deposit(50)"
   ]
  },
  {
   "cell_type": "code",
   "execution_count": 7,
   "id": "189d2b4e-51db-44d1-b9a1-31bfd6d00b8e",
   "metadata": {},
   "outputs": [
    {
     "name": "stdout",
     "output_type": "stream",
     "text": [
      "Your balance before withdrawal: $150\n",
      "Your balance after withdrawal: $75\n",
      "\n",
      "Transaction (withdrawal) success!!\n"
     ]
    }
   ],
   "source": [
    "acct1.withdraw(75)"
   ]
  },
  {
   "cell_type": "code",
   "execution_count": 8,
   "id": "3ce995d3-ff6b-47f7-a120-d48343f717e6",
   "metadata": {},
   "outputs": [
    {
     "name": "stdout",
     "output_type": "stream",
     "text": [
      "Transaction failed - insufficient balance ($75)\n"
     ]
    }
   ],
   "source": [
    "acct1.withdraw(500)"
   ]
  },
  {
   "cell_type": "code",
   "execution_count": 9,
   "id": "7246abb0-d5b2-4ed4-8429-935b8d9142b3",
   "metadata": {},
   "outputs": [
    {
     "name": "stdout",
     "output_type": "stream",
     "text": [
      "Your balance before withdrawal: $75\n",
      "Your balance after withdrawal: $0\n",
      "\n",
      "Transaction (withdrawal) success!!\n"
     ]
    }
   ],
   "source": [
    "acct1.withdraw(75)"
   ]
  },
  {
   "cell_type": "code",
   "execution_count": null,
   "id": "5f9be023-5ae9-4b82-93a3-7c0a88eebe2e",
   "metadata": {},
   "outputs": [],
   "source": []
  }
 ],
 "metadata": {
  "kernelspec": {
   "display_name": "Python 3 (ipykernel)",
   "language": "python",
   "name": "python3"
  },
  "language_info": {
   "codemirror_mode": {
    "name": "ipython",
    "version": 3
   },
   "file_extension": ".py",
   "mimetype": "text/x-python",
   "name": "python",
   "nbconvert_exporter": "python",
   "pygments_lexer": "ipython3",
   "version": "3.12.7"
  }
 },
 "nbformat": 4,
 "nbformat_minor": 5
}
