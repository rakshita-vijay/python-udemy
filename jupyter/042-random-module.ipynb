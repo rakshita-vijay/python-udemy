{
 "cells": [
  {
   "cell_type": "code",
   "execution_count": 1,
   "id": "ad5538ca-91da-4924-ba69-2ba3b47751d9",
   "metadata": {},
   "outputs": [],
   "source": [
    "import random"
   ]
  },
  {
   "cell_type": "code",
   "execution_count": 31,
   "id": "4b124318-68c1-48d0-863b-8feefca2c4be",
   "metadata": {},
   "outputs": [
    {
     "data": {
      "text/plain": [
       "76"
      ]
     },
     "execution_count": 31,
     "metadata": {},
     "output_type": "execute_result"
    }
   ],
   "source": [
    "random.randint(0, 100)"
   ]
  },
  {
   "cell_type": "code",
   "execution_count": 33,
   "id": "6d4c6979-5ae8-43c4-bca4-ff82f13118ef",
   "metadata": {},
   "outputs": [],
   "source": [
    "# using a seed makes it so that the same list of random numbers show up in a series"
   ]
  },
  {
   "cell_type": "code",
   "execution_count": 49,
   "id": "b090baad-f15a-4015-9841-592a49aa1d45",
   "metadata": {},
   "outputs": [
    {
     "name": "stdout",
     "output_type": "stream",
     "text": [
      "74\n",
      "24\n",
      "69\n",
      "45\n",
      "59\n",
      "6\n",
      "84\n",
      "64\n",
      "27\n",
      "77\n",
      "28\n",
      "36\n",
      "62\n"
     ]
    }
   ],
   "source": [
    "random.seed(101)\n",
    "print(random.randint(0, 100))\n",
    "print(random.randint(0, 100))\n",
    "print(random.randint(0, 100))\n",
    "print(random.randint(0, 100))\n",
    "print(random.randint(0, 100))\n",
    "print(random.randint(0, 100))\n",
    "print(random.randint(0, 100))\n",
    "print(random.randint(0, 100))\n",
    "print(random.randint(0, 100))\n",
    "print(random.randint(0, 100))\n",
    "print(random.randint(0, 100)) \n",
    "print(random.randint(0, 100))\n",
    "print(random.randint(0, 100))"
   ]
  },
  {
   "cell_type": "code",
   "execution_count": 50,
   "id": "1f0ef1c7-b1c5-4433-a557-321982e5f6dc",
   "metadata": {},
   "outputs": [],
   "source": [
    "mylist = [1,2,3,4,5,6,7,8,9,0]"
   ]
  },
  {
   "cell_type": "code",
   "execution_count": 53,
   "id": "e181c626-74a8-48de-aa3f-231b4747cbd6",
   "metadata": {},
   "outputs": [
    {
     "data": {
      "text/plain": [
       "8"
      ]
     },
     "execution_count": 53,
     "metadata": {},
     "output_type": "execute_result"
    }
   ],
   "source": [
    "random.choice(mylist)"
   ]
  },
  {
   "cell_type": "code",
   "execution_count": 63,
   "id": "a70661bb-0482-4bd3-8292-332acab418ae",
   "metadata": {},
   "outputs": [
    {
     "data": {
      "text/plain": [
       "[7, 7, 7, 5, 7, 7, 0, 3, 0, 6, 0, 0, 1, 2, 4, 4, 1, 6, 0, 5]"
      ]
     },
     "execution_count": 63,
     "metadata": {},
     "output_type": "execute_result"
    }
   ],
   "source": [
    "# sampling with repetition\n",
    "random.choices(population = mylist, k = 20)"
   ]
  },
  {
   "cell_type": "code",
   "execution_count": 62,
   "id": "e05be023-5647-4588-9915-641000fd743d",
   "metadata": {},
   "outputs": [
    {
     "data": {
      "text/plain": [
       "[9, 1, 2, 0, 7, 5, 3, 4, 8, 6]"
      ]
     },
     "execution_count": 62,
     "metadata": {},
     "output_type": "execute_result"
    }
   ],
   "source": [
    "# sampling without repetition\n",
    "random.sample(population = mylist, k = 10)"
   ]
  },
  {
   "cell_type": "code",
   "execution_count": 72,
   "id": "9e268492-ff61-482b-aa4c-450b20debcf5",
   "metadata": {},
   "outputs": [
    {
     "data": {
      "text/plain": [
       "80.02593807954368"
      ]
     },
     "execution_count": 72,
     "metadata": {},
     "output_type": "execute_result"
    }
   ],
   "source": [
    "random.uniform(0,100)"
   ]
  },
  {
   "cell_type": "code",
   "execution_count": null,
   "id": "f28fc673-3485-4d56-9f00-86e0c3cd1496",
   "metadata": {},
   "outputs": [],
   "source": []
  }
 ],
 "metadata": {
  "kernelspec": {
   "display_name": "Python 3 (ipykernel)",
   "language": "python",
   "name": "python3"
  },
  "language_info": {
   "codemirror_mode": {
    "name": "ipython",
    "version": 3
   },
   "file_extension": ".py",
   "mimetype": "text/x-python",
   "name": "python",
   "nbconvert_exporter": "python",
   "pygments_lexer": "ipython3",
   "version": "3.12.7"
  }
 },
 "nbformat": 4,
 "nbformat_minor": 5
}
