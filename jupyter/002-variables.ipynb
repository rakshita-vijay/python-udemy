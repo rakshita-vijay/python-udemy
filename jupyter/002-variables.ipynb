{
 "cells": [
  {
   "cell_type": "markdown",
   "id": "6d29533b-6bc6-465b-a28a-67dc38675905",
   "metadata": {},
   "source": [
    "hello, this is a markdown/text cell!"
   ]
  },
  {
   "cell_type": "code",
   "execution_count": 1,
   "id": "a8099b57-9fdb-4ef5-9c50-79bda0cd6fad",
   "metadata": {},
   "outputs": [
    {
     "data": {
      "text/plain": [
       "196"
      ]
     },
     "execution_count": 1,
     "metadata": {},
     "output_type": "execute_result"
    }
   ],
   "source": [
    "191 + 5"
   ]
  },
  {
   "cell_type": "code",
   "execution_count": 2,
   "id": "1822a848-9e4d-4453-87cf-25ad892e9e76",
   "metadata": {},
   "outputs": [
    {
     "data": {
      "text/plain": [
       "0.5"
      ]
     },
     "execution_count": 2,
     "metadata": {},
     "output_type": "execute_result"
    }
   ],
   "source": [
    "1/2"
   ]
  },
  {
   "cell_type": "code",
   "execution_count": 3,
   "id": "7442ab47-65d7-4112-9cc6-169bc072646f",
   "metadata": {},
   "outputs": [],
   "source": [
    "a = 5"
   ]
  },
  {
   "cell_type": "code",
   "execution_count": 4,
   "id": "c07c335f-3700-4d0f-afb1-599bac8bb323",
   "metadata": {},
   "outputs": [
    {
     "data": {
      "text/plain": [
       "5"
      ]
     },
     "execution_count": 4,
     "metadata": {},
     "output_type": "execute_result"
    }
   ],
   "source": [
    "a"
   ]
  },
  {
   "cell_type": "code",
   "execution_count": 5,
   "id": "bde2c710-c234-4afa-b585-9e4ca535d92a",
   "metadata": {},
   "outputs": [
    {
     "data": {
      "text/plain": [
       "10"
      ]
     },
     "execution_count": 5,
     "metadata": {},
     "output_type": "execute_result"
    }
   ],
   "source": [
    "a + a"
   ]
  },
  {
   "cell_type": "code",
   "execution_count": 6,
   "id": "0f61434d-5c30-4b67-9214-6e36c5b23f78",
   "metadata": {},
   "outputs": [
    {
     "data": {
      "text/plain": [
       "5"
      ]
     },
     "execution_count": 6,
     "metadata": {},
     "output_type": "execute_result"
    }
   ],
   "source": [
    "a"
   ]
  },
  {
   "cell_type": "code",
   "execution_count": 7,
   "id": "66113fb6-d4f0-408c-9951-e20f133e2de7",
   "metadata": {},
   "outputs": [],
   "source": [
    "a = a + a"
   ]
  },
  {
   "cell_type": "code",
   "execution_count": 8,
   "id": "15b7cc2f-dace-4e2b-87ea-01ca8c41593a",
   "metadata": {},
   "outputs": [
    {
     "data": {
      "text/plain": [
       "10"
      ]
     },
     "execution_count": 8,
     "metadata": {},
     "output_type": "execute_result"
    }
   ],
   "source": [
    "a"
   ]
  },
  {
   "cell_type": "code",
   "execution_count": 9,
   "id": "883e8362-cbd2-4e7a-9f53-a6d2e910d00e",
   "metadata": {},
   "outputs": [],
   "source": [
    "a += a"
   ]
  },
  {
   "cell_type": "code",
   "execution_count": 10,
   "id": "43e2a07a-e1f3-400b-a7c8-376e28fb6ebc",
   "metadata": {},
   "outputs": [
    {
     "data": {
      "text/plain": [
       "20"
      ]
     },
     "execution_count": 10,
     "metadata": {},
     "output_type": "execute_result"
    }
   ],
   "source": [
    "a"
   ]
  },
  {
   "cell_type": "code",
   "execution_count": 11,
   "id": "a6329604-b7d0-49d0-b290-78bf0fd10bb1",
   "metadata": {},
   "outputs": [
    {
     "data": {
      "text/plain": [
       "int"
      ]
     },
     "execution_count": 11,
     "metadata": {},
     "output_type": "execute_result"
    }
   ],
   "source": [
    "type(a)"
   ]
  },
  {
   "cell_type": "code",
   "execution_count": 12,
   "id": "5f572027-379e-4d26-a609-8244183785d9",
   "metadata": {},
   "outputs": [],
   "source": [
    "my_income = 100"
   ]
  },
  {
   "cell_type": "code",
   "execution_count": 13,
   "id": "8beb101e-89ea-4c1a-a8d1-b5d92c4912c7",
   "metadata": {},
   "outputs": [],
   "source": [
    "my_tax_rate = 0.1"
   ]
  },
  {
   "cell_type": "code",
   "execution_count": 14,
   "id": "5d11bc96-5fb8-40d3-998d-cdf131596265",
   "metadata": {},
   "outputs": [
    {
     "name": "stdout",
     "output_type": "stream",
     "text": [
      "20.0\n"
     ]
    }
   ],
   "source": [
    "my_income = 200\n",
    "my_tax_rate = 0.1\n",
    "my_taxes = my_income * my_tax_rate\n",
    "print(my_taxes)"
   ]
  },
  {
   "cell_type": "code",
   "execution_count": 15,
   "id": "940a4ffd-a3cd-40f8-9826-56e0a27ec9b1",
   "metadata": {},
   "outputs": [],
   "source": [
    "arr = \"abcd\""
   ]
  },
  {
   "cell_type": "code",
   "execution_count": 16,
   "id": "c648da08-2a83-4bd5-87e0-c0e1ef283dc0",
   "metadata": {},
   "outputs": [],
   "source": [
    "arrslice = arr[0:3:2]"
   ]
  },
  {
   "cell_type": "code",
   "execution_count": 17,
   "id": "4ba2b0e8-5853-40a5-87f6-3d6a83473fd8",
   "metadata": {},
   "outputs": [
    {
     "data": {
      "text/plain": [
       "'ac'"
      ]
     },
     "execution_count": 17,
     "metadata": {},
     "output_type": "execute_result"
    }
   ],
   "source": [
    "arrslice"
   ]
  },
  {
   "cell_type": "code",
   "execution_count": 18,
   "id": "77b88629-f09c-40cf-9476-5ff6ac0ecb91",
   "metadata": {},
   "outputs": [],
   "source": [
    "arrslice = arr[0::2]"
   ]
  },
  {
   "cell_type": "code",
   "execution_count": null,
   "id": "4fb63d0f-6672-4ada-b337-6b8b6c950089",
   "metadata": {},
   "outputs": [],
   "source": []
  },
  {
   "cell_type": "code",
   "execution_count": 19,
   "id": "427bff6d-d211-45d7-a2db-97787be41e99",
   "metadata": {},
   "outputs": [],
   "source": [
    "arrslice = arr[0::2]"
   ]
  },
  {
   "cell_type": "code",
   "execution_count": 20,
   "id": "fe87df8a-75fe-4da8-8c81-3e57c26be435",
   "metadata": {},
   "outputs": [
    {
     "data": {
      "text/plain": [
       "'ac'"
      ]
     },
     "execution_count": 20,
     "metadata": {},
     "output_type": "execute_result"
    }
   ],
   "source": [
    "arrslice"
   ]
  },
  {
   "cell_type": "code",
   "execution_count": 21,
   "id": "83de6937-4fed-4c43-8344-e977f716008e",
   "metadata": {},
   "outputs": [
    {
     "data": {
      "text/plain": [
       "'sam'"
      ]
     },
     "execution_count": 21,
     "metadata": {},
     "output_type": "execute_result"
    }
   ],
   "source": [
    "name = \"sam\"\n",
    "name"
   ]
  },
  {
   "cell_type": "code",
   "execution_count": 22,
   "id": "64813c8a-a169-4f12-96e8-584756c8ca14",
   "metadata": {},
   "outputs": [],
   "source": [
    "name = \"pam\""
   ]
  },
  {
   "cell_type": "code",
   "execution_count": 23,
   "id": "0a3dbb63-a9ff-46e2-9513-a94fcffd5912",
   "metadata": {},
   "outputs": [
    {
     "data": {
      "text/plain": [
       "'pam'"
      ]
     },
     "execution_count": 23,
     "metadata": {},
     "output_type": "execute_result"
    }
   ],
   "source": [
    "name"
   ]
  },
  {
   "cell_type": "code",
   "execution_count": 24,
   "id": "f3608dab-57e6-4815-ad3d-f6ddf6eedc1b",
   "metadata": {},
   "outputs": [],
   "source": [
    "name = \"p\""
   ]
  },
  {
   "cell_type": "code",
   "execution_count": 25,
   "id": "5a0073c2-7d24-4c89-84ec-1bcc8a7da583",
   "metadata": {},
   "outputs": [],
   "source": [
    "name += \"sam\"[1:]"
   ]
  },
  {
   "cell_type": "code",
   "execution_count": 26,
   "id": "de179c4b-fb7a-4de9-8cef-379ef622c51a",
   "metadata": {},
   "outputs": [
    {
     "data": {
      "text/plain": [
       "'pam'"
      ]
     },
     "execution_count": 26,
     "metadata": {},
     "output_type": "execute_result"
    }
   ],
   "source": [
    "name"
   ]
  },
  {
   "cell_type": "code",
   "execution_count": 27,
   "id": "a92c87c3-ac5f-4560-a655-fb1412dcbe86",
   "metadata": {},
   "outputs": [
    {
     "ename": "TypeError",
     "evalue": "unsupported operand type(s) for -: 'str' and 'str'",
     "output_type": "error",
     "traceback": [
      "\u001b[0;31m---------------------------------------------------------------------------\u001b[0m",
      "\u001b[0;31mTypeError\u001b[0m                                 Traceback (most recent call last)",
      "Cell \u001b[0;32mIn[27], line 1\u001b[0m\n\u001b[0;32m----> 1\u001b[0m \u001b[38;5;124m'\u001b[39m\u001b[38;5;124m2\u001b[39m\u001b[38;5;124m'\u001b[39m \u001b[38;5;241m-\u001b[39m \u001b[38;5;124m'\u001b[39m\u001b[38;5;124m0\u001b[39m\u001b[38;5;124m'\u001b[39m \u001b[38;5;241m+\u001b[39m \u001b[38;5;124m'\u001b[39m\u001b[38;5;124m3\u001b[39m\u001b[38;5;124m'\u001b[39m \u001b[38;5;241m-\u001b[39m \u001b[38;5;124m'\u001b[39m\u001b[38;5;124m0\u001b[39m\u001b[38;5;124m'\u001b[39m\n",
      "\u001b[0;31mTypeError\u001b[0m: unsupported operand type(s) for -: 'str' and 'str'"
     ]
    }
   ],
   "source": [
    "'2' - '0' + '3' - '0'"
   ]
  },
  {
   "cell_type": "code",
   "execution_count": 28,
   "id": "0317bd15-7f08-4dd7-898a-4ef96da6a0cf",
   "metadata": {},
   "outputs": [],
   "source": [
    "x = \"Hi! I am Rakshita :)\""
   ]
  },
  {
   "cell_type": "code",
   "execution_count": 29,
   "id": "d73787c8-87da-4a7d-8f0c-4d93fe358b99",
   "metadata": {},
   "outputs": [
    {
     "data": {
      "text/plain": [
       "'Hi! I am Rakshita :)'"
      ]
     },
     "execution_count": 29,
     "metadata": {},
     "output_type": "execute_result"
    }
   ],
   "source": [
    "x"
   ]
  },
  {
   "cell_type": "code",
   "execution_count": 30,
   "id": "66a76346-8ae6-4140-a79a-de9313a08a95",
   "metadata": {},
   "outputs": [
    {
     "data": {
      "text/plain": [
       "'HI! I AM RAKSHITA :)'"
      ]
     },
     "execution_count": 30,
     "metadata": {},
     "output_type": "execute_result"
    }
   ],
   "source": [
    "x.upper()"
   ]
  },
  {
   "cell_type": "code",
   "execution_count": 31,
   "id": "0a56857e-d954-41b7-b586-a93144dee7bc",
   "metadata": {},
   "outputs": [
    {
     "data": {
      "text/plain": [
       "'hi! i am rakshita :)'"
      ]
     },
     "execution_count": 31,
     "metadata": {},
     "output_type": "execute_result"
    }
   ],
   "source": [
    "x.lower()"
   ]
  },
  {
   "cell_type": "code",
   "execution_count": 32,
   "id": "fb68b3e8-0d45-4d4d-8338-a4b4d29fe520",
   "metadata": {},
   "outputs": [
    {
     "data": {
      "text/plain": [
       "['Hi!', 'I', 'am', 'Rakshita', ':)']"
      ]
     },
     "execution_count": 32,
     "metadata": {},
     "output_type": "execute_result"
    }
   ],
   "source": [
    "x.split()"
   ]
  },
  {
   "cell_type": "code",
   "execution_count": 33,
   "id": "fbc48cfd-c0e6-4614-a27d-091e9adcfe52",
   "metadata": {},
   "outputs": [
    {
     "data": {
      "text/plain": [
       "['H', '! I am Raksh', 'ta :)']"
      ]
     },
     "execution_count": 33,
     "metadata": {},
     "output_type": "execute_result"
    }
   ],
   "source": [
    "x.split('i')"
   ]
  },
  {
   "cell_type": "code",
   "execution_count": 34,
   "id": "4c9081f4-8bd3-4601-88ac-ce12f937ef97",
   "metadata": {},
   "outputs": [
    {
     "data": {
      "text/plain": [
       "['Hi! I am Rakshita ', ')']"
      ]
     },
     "execution_count": 34,
     "metadata": {},
     "output_type": "execute_result"
    }
   ],
   "source": [
    "x.split(':')"
   ]
  },
  {
   "cell_type": "code",
   "execution_count": null,
   "id": "b5359016-1a6d-43b0-9961-ee19093bf991",
   "metadata": {},
   "outputs": [],
   "source": []
  }
 ],
 "metadata": {
  "kernelspec": {
   "display_name": "Python 3 (ipykernel)",
   "language": "python",
   "name": "python3"
  },
  "language_info": {
   "codemirror_mode": {
    "name": "ipython",
    "version": 3
   },
   "file_extension": ".py",
   "mimetype": "text/x-python",
   "name": "python",
   "nbconvert_exporter": "python",
   "pygments_lexer": "ipython3",
   "version": "3.12.7"
  }
 },
 "nbformat": 4,
 "nbformat_minor": 5
}
