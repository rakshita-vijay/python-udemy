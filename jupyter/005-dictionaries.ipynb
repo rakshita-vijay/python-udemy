{
 "cells": [
  {
   "cell_type": "code",
   "execution_count": 2,
   "id": "38c0cdee-0bf7-4010-89c4-3005d71e6a2d",
   "metadata": {},
   "outputs": [],
   "source": [
    "my_dict = {\"a\": 1, \"b\": 2, \"c\": 3}"
   ]
  },
  {
   "cell_type": "code",
   "execution_count": 3,
   "id": "2e1bee3c-c038-4432-8ba9-ed69ad53ee8e",
   "metadata": {},
   "outputs": [
    {
     "data": {
      "text/plain": [
       "{'a': 1, 'b': 2, 'c': 3}"
      ]
     },
     "execution_count": 3,
     "metadata": {},
     "output_type": "execute_result"
    }
   ],
   "source": [
    "my_dict"
   ]
  },
  {
   "cell_type": "code",
   "execution_count": 4,
   "id": "357c6e0e-9122-4421-9e80-ddf0bc78e605",
   "metadata": {},
   "outputs": [
    {
     "data": {
      "text/plain": [
       "2"
      ]
     },
     "execution_count": 4,
     "metadata": {},
     "output_type": "execute_result"
    }
   ],
   "source": [
    "my_dict[\"b\"]"
   ]
  },
  {
   "cell_type": "code",
   "execution_count": 9,
   "id": "1682acbb-8511-4da5-b354-00c4aa3753d0",
   "metadata": {},
   "outputs": [],
   "source": [
    "my_dict_2 = {\"a\": 1, \"b\": [12, 23, 34, 45], \"c\": \"pqrs\", \"d\": {\"efg\": 5.67}}"
   ]
  },
  {
   "cell_type": "code",
   "execution_count": 10,
   "id": "6809ee76-4811-4a29-a8dd-14dfe6078521",
   "metadata": {},
   "outputs": [
    {
     "data": {
      "text/plain": [
       "[12, 23, 34, 45]"
      ]
     },
     "execution_count": 10,
     "metadata": {},
     "output_type": "execute_result"
    }
   ],
   "source": [
    "my_dict_2[\"b\"]"
   ]
  },
  {
   "cell_type": "code",
   "execution_count": 14,
   "id": "c9e4935f-d952-4b69-b325-3b21296d83ec",
   "metadata": {},
   "outputs": [
    {
     "data": {
      "text/plain": [
       "23"
      ]
     },
     "execution_count": 14,
     "metadata": {},
     "output_type": "execute_result"
    }
   ],
   "source": [
    "my_dict_2[\"b\"][1]"
   ]
  },
  {
   "cell_type": "code",
   "execution_count": 11,
   "id": "56380fb6-7a5c-42e6-bf18-c0eebe744b41",
   "metadata": {},
   "outputs": [
    {
     "data": {
      "text/plain": [
       "'pqrs'"
      ]
     },
     "execution_count": 11,
     "metadata": {},
     "output_type": "execute_result"
    }
   ],
   "source": [
    "my_dict_2[\"c\"]"
   ]
  },
  {
   "cell_type": "code",
   "execution_count": 12,
   "id": "b77b5078-d49b-4cfd-8f27-fc7ca27aa1ca",
   "metadata": {},
   "outputs": [
    {
     "data": {
      "text/plain": [
       "{'efg': 5.67}"
      ]
     },
     "execution_count": 12,
     "metadata": {},
     "output_type": "execute_result"
    }
   ],
   "source": [
    "my_dict_2[\"d\"]"
   ]
  },
  {
   "cell_type": "code",
   "execution_count": 13,
   "id": "fc0a9df3-1244-4d37-858d-0f59996ffbe7",
   "metadata": {},
   "outputs": [
    {
     "data": {
      "text/plain": [
       "5.67"
      ]
     },
     "execution_count": 13,
     "metadata": {},
     "output_type": "execute_result"
    }
   ],
   "source": [
    "my_dict_2[\"d\"]['efg']"
   ]
  },
  {
   "cell_type": "code",
   "execution_count": 19,
   "id": "b13945d9-2786-498c-8cb6-0234462e59b8",
   "metadata": {},
   "outputs": [
    {
     "name": "stdout",
     "output_type": "stream",
     "text": [
      "PQRS\n",
      "Q\n"
     ]
    }
   ],
   "source": [
    "print(my_dict_2[\"c\"].upper()) \n",
    "print(my_dict_2[\"c\"][1].upper())"
   ]
  },
  {
   "cell_type": "code",
   "execution_count": 20,
   "id": "bcbc2674-aa51-40ab-ab57-62380509de6e",
   "metadata": {},
   "outputs": [
    {
     "data": {
      "text/plain": [
       "dict_keys(['a', 'b', 'c', 'd'])"
      ]
     },
     "execution_count": 20,
     "metadata": {},
     "output_type": "execute_result"
    }
   ],
   "source": [
    "my_dict_2.keys()\n"
   ]
  },
  {
   "cell_type": "code",
   "execution_count": 21,
   "id": "07092936-c5b7-4cb9-953b-f6a5a6693d06",
   "metadata": {},
   "outputs": [
    {
     "data": {
      "text/plain": [
       "dict_values([1, [12, 23, 34, 45], 'pqrs', {'efg': 5.67}])"
      ]
     },
     "execution_count": 21,
     "metadata": {},
     "output_type": "execute_result"
    }
   ],
   "source": [
    "my_dict_2.values()"
   ]
  },
  {
   "cell_type": "markdown",
   "id": "d7312e91-4eaf-4f72-84e8-cc5a0cd71d43",
   "metadata": {},
   "source": [
    "keys should always be strings"
   ]
  },
  {
   "cell_type": "code",
   "execution_count": 22,
   "id": "647bd077-c3c3-4849-a5ea-5fa9b11341e4",
   "metadata": {},
   "outputs": [],
   "source": [
    "t = (1, 2, 3)"
   ]
  },
  {
   "cell_type": "code",
   "execution_count": 23,
   "id": "77a950c0-7abb-4654-8d43-281c66fd02d9",
   "metadata": {},
   "outputs": [
    {
     "data": {
      "text/plain": [
       "(1, 2, 3)"
      ]
     },
     "execution_count": 23,
     "metadata": {},
     "output_type": "execute_result"
    }
   ],
   "source": [
    "t"
   ]
  },
  {
   "cell_type": "code",
   "execution_count": 24,
   "id": "cf37c562-ba21-41d3-9d4b-39c0dcb33451",
   "metadata": {},
   "outputs": [],
   "source": [
    "t2 = (1, 2, [3, 4, 5])"
   ]
  },
  {
   "cell_type": "code",
   "execution_count": 25,
   "id": "b5b9139d-9f14-41c6-99b5-0bf42074cd4c",
   "metadata": {},
   "outputs": [],
   "source": [
    "t2[2][2] = 6"
   ]
  },
  {
   "cell_type": "code",
   "execution_count": 26,
   "id": "c1822597-1311-4454-92c7-98b5e7369f37",
   "metadata": {},
   "outputs": [
    {
     "data": {
      "text/plain": [
       "(1, 2, [3, 4, 6])"
      ]
     },
     "execution_count": 26,
     "metadata": {},
     "output_type": "execute_result"
    }
   ],
   "source": [
    "t2"
   ]
  },
  {
   "cell_type": "code",
   "execution_count": 27,
   "id": "66763fdb-daf5-4376-a6a5-b289b15101bb",
   "metadata": {},
   "outputs": [
    {
     "data": {
      "text/plain": [
       "0"
      ]
     },
     "execution_count": 27,
     "metadata": {},
     "output_type": "execute_result"
    }
   ],
   "source": [
    "t.index(1)"
   ]
  },
  {
   "cell_type": "code",
   "execution_count": 28,
   "id": "294f1dd9-0f1f-4bb5-bac2-7d52f65f117c",
   "metadata": {},
   "outputs": [],
   "source": [
    "t = (1,2,3,3)"
   ]
  },
  {
   "cell_type": "code",
   "execution_count": 29,
   "id": "b31e32ce-fcea-45ba-a26e-efb2c64be6c2",
   "metadata": {},
   "outputs": [
    {
     "data": {
      "text/plain": [
       "2"
      ]
     },
     "execution_count": 29,
     "metadata": {},
     "output_type": "execute_result"
    }
   ],
   "source": [
    "t.index(3)"
   ]
  },
  {
   "cell_type": "code",
   "execution_count": 30,
   "id": "c54eaf33-a788-46da-b936-5f8dfd1b7d70",
   "metadata": {},
   "outputs": [
    {
     "data": {
      "text/plain": [
       "2"
      ]
     },
     "execution_count": 30,
     "metadata": {},
     "output_type": "execute_result"
    }
   ],
   "source": [
    "t.count(3)"
   ]
  },
  {
   "cell_type": "code",
   "execution_count": 31,
   "id": "dd45d358-1cdb-4e5c-87a9-bd9d7a75ed22",
   "metadata": {},
   "outputs": [],
   "source": [
    "t3 = (1, 2, (3, 4, 5))"
   ]
  },
  {
   "cell_type": "code",
   "execution_count": 32,
   "id": "0ef33421-ec42-42fc-b3cf-271772820d0a",
   "metadata": {},
   "outputs": [
    {
     "ename": "TypeError",
     "evalue": "'tuple' object does not support item assignment",
     "output_type": "error",
     "traceback": [
      "\u001b[0;31m---------------------------------------------------------------------------\u001b[0m",
      "\u001b[0;31mTypeError\u001b[0m                                 Traceback (most recent call last)",
      "Cell \u001b[0;32mIn[32], line 1\u001b[0m\n\u001b[0;32m----> 1\u001b[0m t3[\u001b[38;5;241m2\u001b[39m][\u001b[38;5;241m2\u001b[39m] \u001b[38;5;241m=\u001b[39m \u001b[38;5;241m6\u001b[39m\n",
      "\u001b[0;31mTypeError\u001b[0m: 'tuple' object does not support item assignment"
     ]
    }
   ],
   "source": [
    "t3[2][2] = 6"
   ]
  },
  {
   "cell_type": "code",
   "execution_count": 33,
   "id": "663fc8d5-6785-4c8a-83d8-d97c5dd1d616",
   "metadata": {},
   "outputs": [
    {
     "data": {
      "text/plain": [
       "(1, 2, (3, 4, 5))"
      ]
     },
     "execution_count": 33,
     "metadata": {},
     "output_type": "execute_result"
    }
   ],
   "source": [
    "t3"
   ]
  },
  {
   "cell_type": "code",
   "execution_count": null,
   "id": "b00a53af-6c60-4309-ba4e-45ccafe800e2",
   "metadata": {},
   "outputs": [],
   "source": []
  }
 ],
 "metadata": {
  "kernelspec": {
   "display_name": "Python 3 (ipykernel)",
   "language": "python",
   "name": "python3"
  },
  "language_info": {
   "codemirror_mode": {
    "name": "ipython",
    "version": 3
   },
   "file_extension": ".py",
   "mimetype": "text/x-python",
   "name": "python",
   "nbconvert_exporter": "python",
   "pygments_lexer": "ipython3",
   "version": "3.12.7"
  }
 },
 "nbformat": 4,
 "nbformat_minor": 5
}
