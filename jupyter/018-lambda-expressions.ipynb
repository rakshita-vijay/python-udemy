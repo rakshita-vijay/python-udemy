{
 "cells": [
  {
   "cell_type": "markdown",
   "id": "7baf692b-3244-481d-9320-8e92ac4d7ad4",
   "metadata": {},
   "source": [
    "lambda function is an anonymous function; \n",
    "it is called so because it doesn't have a name;\n",
    "why? single-use function - to be run/used only once (or can assign it to something to re-use)"
   ]
  },
  {
   "cell_type": "code",
   "execution_count": 1,
   "id": "84e00633-9a00-471d-8a6e-536f17d99d1f",
   "metadata": {},
   "outputs": [],
   "source": [
    "def sq(num):\n",
    "    res = num**2\n",
    "    return res"
   ]
  },
  {
   "cell_type": "code",
   "execution_count": 2,
   "id": "c83f174a-38cd-49a5-b97d-4bd2a8f8624d",
   "metadata": {},
   "outputs": [
    {
     "data": {
      "text/plain": [
       "<function __main__.<lambda>(num)>"
      ]
     },
     "execution_count": 2,
     "metadata": {},
     "output_type": "execute_result"
    }
   ],
   "source": [
    "# lambda version:\n",
    "# def sq --> lambda\n",
    "# remove brackets on either side of parameter \n",
    "lambda num: num**2\n",
    "# remove 'return' because we assume we are going to return what is on RHS of colon"
   ]
  },
  {
   "cell_type": "code",
   "execution_count": 3,
   "id": "ba6b26f8-acde-479a-be07-78d0107ddd24",
   "metadata": {},
   "outputs": [],
   "source": [
    "# to use repeatedly, assign it to something\n",
    "square = lambda num: num**2"
   ]
  },
  {
   "cell_type": "code",
   "execution_count": 4,
   "id": "34afcfb9-41cb-48b4-b6b3-ea3f3649a978",
   "metadata": {},
   "outputs": [
    {
     "data": {
      "text/plain": [
       "9"
      ]
     },
     "execution_count": 4,
     "metadata": {},
     "output_type": "execute_result"
    }
   ],
   "source": [
    "square(3)"
   ]
  },
  {
   "cell_type": "code",
   "execution_count": 11,
   "id": "bb231ff1-0a89-4c5c-925b-413a29801a01",
   "metadata": {},
   "outputs": [
    {
     "data": {
      "text/plain": [
       "[1, 4, 9, 16, 25, 36]"
      ]
     },
     "execution_count": 11,
     "metadata": {},
     "output_type": "execute_result"
    }
   ],
   "source": [
    "# typically, we don't assign because it is intended to be a single-use f()\n",
    "# thus, instead of: map(sq, mynums) \n",
    "mynums = [1,2,3,4,5,6]\n",
    "list(map(lambda num: num**2, mynums))"
   ]
  },
  {
   "cell_type": "code",
   "execution_count": 12,
   "id": "d97ee082-0d8b-4b33-9ad1-01cd6583f034",
   "metadata": {},
   "outputs": [
    {
     "data": {
      "text/plain": [
       "[2, 4, 6]"
      ]
     },
     "execution_count": 12,
     "metadata": {},
     "output_type": "execute_result"
    }
   ],
   "source": [
    "list(filter(lambda num: num%2==0, mynums))"
   ]
  },
  {
   "cell_type": "markdown",
   "id": "e981069d-9c03-4895-9e07-98a68b162848",
   "metadata": {},
   "source": [
    "so, filter is used only for boolean output/mapping"
   ]
  },
  {
   "cell_type": "code",
   "execution_count": 19,
   "id": "ecfe8b86-2c72-46ba-ad07-ce0230d15fea",
   "metadata": {},
   "outputs": [
    {
     "data": {
      "text/plain": [
       "['Andy', '', '']"
      ]
     },
     "execution_count": 19,
     "metadata": {},
     "output_type": "execute_result"
    }
   ],
   "source": [
    "mynames = ['Andy', 'Eve', 'Sally']\n",
    "list(map(lambda nam: nam if len(nam)%2==0 else \"\", mynames))"
   ]
  },
  {
   "cell_type": "code",
   "execution_count": 20,
   "id": "05ef57fc-0b8f-4f3a-87db-2a4f5929d723",
   "metadata": {},
   "outputs": [
    {
     "data": {
      "text/plain": [
       "['A', 'E', 'S']"
      ]
     },
     "execution_count": 20,
     "metadata": {},
     "output_type": "execute_result"
    }
   ],
   "source": [
    "list(map(lambda nam: nam[0], mynames))"
   ]
  },
  {
   "cell_type": "code",
   "execution_count": 22,
   "id": "62f96aec-fee0-4f16-aeb2-9947b7d357bf",
   "metadata": {},
   "outputs": [
    {
     "data": {
      "text/plain": [
       "['ydna', 'eve', 'yllas']"
      ]
     },
     "execution_count": 22,
     "metadata": {},
     "output_type": "execute_result"
    }
   ],
   "source": [
    "list(map(lambda nam: (nam[::-1]).lower(), mynames))"
   ]
  },
  {
   "cell_type": "code",
   "execution_count": null,
   "id": "de038b17-6aa5-4b43-aa54-f3cec6294b2d",
   "metadata": {},
   "outputs": [],
   "source": []
  }
 ],
 "metadata": {
  "kernelspec": {
   "display_name": "Python 3 (ipykernel)",
   "language": "python",
   "name": "python3"
  },
  "language_info": {
   "codemirror_mode": {
    "name": "ipython",
    "version": 3
   },
   "file_extension": ".py",
   "mimetype": "text/x-python",
   "name": "python",
   "nbconvert_exporter": "python",
   "pygments_lexer": "ipython3",
   "version": "3.12.7"
  }
 },
 "nbformat": 4,
 "nbformat_minor": 5
}
